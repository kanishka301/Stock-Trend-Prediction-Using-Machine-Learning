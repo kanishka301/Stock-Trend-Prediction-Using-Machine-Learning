{
 "cells": [
  {
   "cell_type": "markdown",
   "metadata": {
    "id": "xHRR960gmTF7"
   },
   "source": [
    "### Stock Market Prediction And Forecasting Using Stacked LSTM"
   ]
  },
  {
   "cell_type": "code",
   "execution_count": 1,
   "metadata": {
    "executionInfo": {
     "elapsed": 6801,
     "status": "ok",
     "timestamp": 1757155067841,
     "user": {
      "displayName": "kanishka",
      "userId": "06446069687320020031"
     },
     "user_tz": -330
    },
    "id": "brnmLkc7mTF9"
   },
   "outputs": [],
   "source": [
    "import numpy as np\n",
    "import pandas as pd\n",
    "import yfinance as yf\n",
    "import tensorflow as tf\n",
    "from tensorflow.keras.models import Sequential\n",
    "from tensorflow.keras.layers import LSTM, Dense, Dropout\n",
    "from sklearn.preprocessing import MinMaxScaler\n",
    "import matplotlib.pyplot as plt\n",
    "import datetime\n",
    "import plotly.graph_objects as go\n",
    "\n",
    "# import to ignore warnings\n",
    "import warnings\n",
    "warnings.filterwarnings(\"ignore\")"
   ]
  },
  {
   "cell_type": "code",
   "execution_count": 2,
   "metadata": {
    "colab": {
     "base_uri": "https://localhost:8080/"
    },
    "executionInfo": {
     "elapsed": 48,
     "status": "ok",
     "timestamp": 1757156279420,
     "user": {
      "displayName": "kanishka",
      "userId": "06446069687320020031"
     },
     "user_tz": -330
    },
    "id": "FpPvcFWTmTF-",
    "outputId": "bc252563-7204-48ab-f78e-8365717e7b54"
   },
   "outputs": [
    {
     "name": "stderr",
     "output_type": "stream",
     "text": [
      "[*********************100%***********************]  1 of 1 completed\n"
     ]
    }
   ],
   "source": [
    "import yfinance as yf\n",
    "import datetime as dt\n",
    "\n",
    "ticker = 'POWERGRID.NS'\n",
    "# Download historical data from Yahoo Finance\n",
    "df = yf.download(ticker, start='2020-01-01', end=datetime.datetime.today().strftime('%Y-%m-%d'))\n",
    "# Focus on 'Close' prices for simplicity\n",
    "data = df[['Close']]"
   ]
  },
  {
   "cell_type": "code",
   "execution_count": 3,
   "metadata": {
    "colab": {
     "base_uri": "https://localhost:8080/",
     "height": 269
    },
    "executionInfo": {
     "elapsed": 50,
     "status": "ok",
     "timestamp": 1757156293772,
     "user": {
      "displayName": "kanishka",
      "userId": "06446069687320020031"
     },
     "user_tz": -330
    },
    "id": "WXqFRfIcrSHf",
    "outputId": "758a7c0c-10e9-40c6-e973-c9b402e2fbc4"
   },
   "outputs": [
    {
     "data": {
      "text/html": [
       "<div>\n",
       "<style scoped>\n",
       "    .dataframe tbody tr th:only-of-type {\n",
       "        vertical-align: middle;\n",
       "    }\n",
       "\n",
       "    .dataframe tbody tr th {\n",
       "        vertical-align: top;\n",
       "    }\n",
       "\n",
       "    .dataframe thead tr th {\n",
       "        text-align: left;\n",
       "    }\n",
       "\n",
       "    .dataframe thead tr:last-of-type th {\n",
       "        text-align: right;\n",
       "    }\n",
       "</style>\n",
       "<table border=\"1\" class=\"dataframe\">\n",
       "  <thead>\n",
       "    <tr>\n",
       "      <th>Price</th>\n",
       "      <th>Close</th>\n",
       "      <th>High</th>\n",
       "      <th>Low</th>\n",
       "      <th>Open</th>\n",
       "      <th>Volume</th>\n",
       "    </tr>\n",
       "    <tr>\n",
       "      <th>Ticker</th>\n",
       "      <th>POWERGRID.NS</th>\n",
       "      <th>POWERGRID.NS</th>\n",
       "      <th>POWERGRID.NS</th>\n",
       "      <th>POWERGRID.NS</th>\n",
       "      <th>POWERGRID.NS</th>\n",
       "    </tr>\n",
       "    <tr>\n",
       "      <th>Date</th>\n",
       "      <th></th>\n",
       "      <th></th>\n",
       "      <th></th>\n",
       "      <th></th>\n",
       "      <th></th>\n",
       "    </tr>\n",
       "  </thead>\n",
       "  <tbody>\n",
       "    <tr>\n",
       "      <th>2020-01-01</th>\n",
       "      <td>80.429741</td>\n",
       "      <td>80.594302</td>\n",
       "      <td>78.269858</td>\n",
       "      <td>78.393283</td>\n",
       "      <td>13620373</td>\n",
       "    </tr>\n",
       "    <tr>\n",
       "      <th>2020-01-02</th>\n",
       "      <td>80.265182</td>\n",
       "      <td>80.923432</td>\n",
       "      <td>79.956629</td>\n",
       "      <td>80.450317</td>\n",
       "      <td>5673692</td>\n",
       "    </tr>\n",
       "    <tr>\n",
       "      <th>2020-01-03</th>\n",
       "      <td>79.401230</td>\n",
       "      <td>80.141757</td>\n",
       "      <td>78.681265</td>\n",
       "      <td>79.915486</td>\n",
       "      <td>7358268</td>\n",
       "    </tr>\n",
       "    <tr>\n",
       "      <th>2020-01-06</th>\n",
       "      <td>79.442352</td>\n",
       "      <td>79.792048</td>\n",
       "      <td>77.344185</td>\n",
       "      <td>78.989811</td>\n",
       "      <td>7355290</td>\n",
       "    </tr>\n",
       "    <tr>\n",
       "      <th>2020-01-07</th>\n",
       "      <td>78.866394</td>\n",
       "      <td>80.018332</td>\n",
       "      <td>78.640123</td>\n",
       "      <td>79.462934</td>\n",
       "      <td>14023712</td>\n",
       "    </tr>\n",
       "  </tbody>\n",
       "</table>\n",
       "</div>"
      ],
      "text/plain": [
       "Price             Close         High          Low         Open       Volume\n",
       "Ticker     POWERGRID.NS POWERGRID.NS POWERGRID.NS POWERGRID.NS POWERGRID.NS\n",
       "Date                                                                       \n",
       "2020-01-01    80.429741    80.594302    78.269858    78.393283     13620373\n",
       "2020-01-02    80.265182    80.923432    79.956629    80.450317      5673692\n",
       "2020-01-03    79.401230    80.141757    78.681265    79.915486      7358268\n",
       "2020-01-06    79.442352    79.792048    77.344185    78.989811      7355290\n",
       "2020-01-07    78.866394    80.018332    78.640123    79.462934     14023712"
      ]
     },
     "execution_count": 3,
     "metadata": {},
     "output_type": "execute_result"
    }
   ],
   "source": [
    "df.head()"
   ]
  },
  {
   "cell_type": "code",
   "execution_count": 4,
   "metadata": {
    "colab": {
     "base_uri": "https://localhost:8080/",
     "height": 269
    },
    "executionInfo": {
     "elapsed": 12,
     "status": "ok",
     "timestamp": 1757156301831,
     "user": {
      "displayName": "kanishka",
      "userId": "06446069687320020031"
     },
     "user_tz": -330
    },
    "id": "_XDu5N_hrUbj",
    "outputId": "cfdf61aa-de7e-46c4-8f03-a55f162c7e58"
   },
   "outputs": [
    {
     "data": {
      "text/html": [
       "<div>\n",
       "<style scoped>\n",
       "    .dataframe tbody tr th:only-of-type {\n",
       "        vertical-align: middle;\n",
       "    }\n",
       "\n",
       "    .dataframe tbody tr th {\n",
       "        vertical-align: top;\n",
       "    }\n",
       "\n",
       "    .dataframe thead tr th {\n",
       "        text-align: left;\n",
       "    }\n",
       "\n",
       "    .dataframe thead tr:last-of-type th {\n",
       "        text-align: right;\n",
       "    }\n",
       "</style>\n",
       "<table border=\"1\" class=\"dataframe\">\n",
       "  <thead>\n",
       "    <tr>\n",
       "      <th>Price</th>\n",
       "      <th>Close</th>\n",
       "      <th>High</th>\n",
       "      <th>Low</th>\n",
       "      <th>Open</th>\n",
       "      <th>Volume</th>\n",
       "    </tr>\n",
       "    <tr>\n",
       "      <th>Ticker</th>\n",
       "      <th>POWERGRID.NS</th>\n",
       "      <th>POWERGRID.NS</th>\n",
       "      <th>POWERGRID.NS</th>\n",
       "      <th>POWERGRID.NS</th>\n",
       "      <th>POWERGRID.NS</th>\n",
       "    </tr>\n",
       "    <tr>\n",
       "      <th>Date</th>\n",
       "      <th></th>\n",
       "      <th></th>\n",
       "      <th></th>\n",
       "      <th></th>\n",
       "      <th></th>\n",
       "    </tr>\n",
       "  </thead>\n",
       "  <tbody>\n",
       "    <tr>\n",
       "      <th>2025-09-01</th>\n",
       "      <td>279.850006</td>\n",
       "      <td>280.600006</td>\n",
       "      <td>276.000000</td>\n",
       "      <td>276.000000</td>\n",
       "      <td>10820878</td>\n",
       "    </tr>\n",
       "    <tr>\n",
       "      <th>2025-09-02</th>\n",
       "      <td>286.700012</td>\n",
       "      <td>287.899994</td>\n",
       "      <td>279.850006</td>\n",
       "      <td>280.200012</td>\n",
       "      <td>16983677</td>\n",
       "    </tr>\n",
       "    <tr>\n",
       "      <th>2025-09-03</th>\n",
       "      <td>286.049988</td>\n",
       "      <td>289.200012</td>\n",
       "      <td>285.600006</td>\n",
       "      <td>289.000000</td>\n",
       "      <td>30178885</td>\n",
       "    </tr>\n",
       "    <tr>\n",
       "      <th>2025-09-04</th>\n",
       "      <td>281.799988</td>\n",
       "      <td>287.950012</td>\n",
       "      <td>280.899994</td>\n",
       "      <td>286.850006</td>\n",
       "      <td>5946090</td>\n",
       "    </tr>\n",
       "    <tr>\n",
       "      <th>2025-09-05</th>\n",
       "      <td>285.350006</td>\n",
       "      <td>286.649994</td>\n",
       "      <td>282.350006</td>\n",
       "      <td>282.350006</td>\n",
       "      <td>9695914</td>\n",
       "    </tr>\n",
       "  </tbody>\n",
       "</table>\n",
       "</div>"
      ],
      "text/plain": [
       "Price             Close         High          Low         Open       Volume\n",
       "Ticker     POWERGRID.NS POWERGRID.NS POWERGRID.NS POWERGRID.NS POWERGRID.NS\n",
       "Date                                                                       \n",
       "2025-09-01   279.850006   280.600006   276.000000   276.000000     10820878\n",
       "2025-09-02   286.700012   287.899994   279.850006   280.200012     16983677\n",
       "2025-09-03   286.049988   289.200012   285.600006   289.000000     30178885\n",
       "2025-09-04   281.799988   287.950012   280.899994   286.850006      5946090\n",
       "2025-09-05   285.350006   286.649994   282.350006   282.350006      9695914"
      ]
     },
     "execution_count": 4,
     "metadata": {},
     "output_type": "execute_result"
    }
   ],
   "source": [
    "df.tail()"
   ]
  },
  {
   "cell_type": "code",
   "execution_count": 5,
   "metadata": {
    "colab": {
     "base_uri": "https://localhost:8080/",
     "height": 331
    },
    "executionInfo": {
     "elapsed": 46,
     "status": "ok",
     "timestamp": 1757156313732,
     "user": {
      "displayName": "kanishka",
      "userId": "06446069687320020031"
     },
     "user_tz": -330
    },
    "id": "xhWzR9wTrWyO",
    "outputId": "a5b81595-b775-47b4-ddc1-523539e2cd0b"
   },
   "outputs": [
    {
     "data": {
      "text/html": [
       "<div>\n",
       "<style scoped>\n",
       "    .dataframe tbody tr th:only-of-type {\n",
       "        vertical-align: middle;\n",
       "    }\n",
       "\n",
       "    .dataframe tbody tr th {\n",
       "        vertical-align: top;\n",
       "    }\n",
       "\n",
       "    .dataframe thead tr th {\n",
       "        text-align: left;\n",
       "    }\n",
       "</style>\n",
       "<table border=\"1\" class=\"dataframe\">\n",
       "  <thead>\n",
       "    <tr>\n",
       "      <th>Price</th>\n",
       "      <th>Close</th>\n",
       "      <th>High</th>\n",
       "      <th>Low</th>\n",
       "      <th>Open</th>\n",
       "      <th>Volume</th>\n",
       "    </tr>\n",
       "    <tr>\n",
       "      <th>Ticker</th>\n",
       "      <th>POWERGRID.NS</th>\n",
       "      <th>POWERGRID.NS</th>\n",
       "      <th>POWERGRID.NS</th>\n",
       "      <th>POWERGRID.NS</th>\n",
       "      <th>POWERGRID.NS</th>\n",
       "    </tr>\n",
       "  </thead>\n",
       "  <tbody>\n",
       "    <tr>\n",
       "      <th>count</th>\n",
       "      <td>1409.000000</td>\n",
       "      <td>1409.000000</td>\n",
       "      <td>1409.000000</td>\n",
       "      <td>1409.000000</td>\n",
       "      <td>1.409000e+03</td>\n",
       "    </tr>\n",
       "    <tr>\n",
       "      <th>mean</th>\n",
       "      <td>174.002919</td>\n",
       "      <td>176.173713</td>\n",
       "      <td>171.852963</td>\n",
       "      <td>174.040661</td>\n",
       "      <td>1.719982e+07</td>\n",
       "    </tr>\n",
       "    <tr>\n",
       "      <th>std</th>\n",
       "      <td>85.734567</td>\n",
       "      <td>86.674135</td>\n",
       "      <td>84.717572</td>\n",
       "      <td>85.730148</td>\n",
       "      <td>1.362417e+07</td>\n",
       "    </tr>\n",
       "    <tr>\n",
       "      <th>min</th>\n",
       "      <td>61.486694</td>\n",
       "      <td>64.792430</td>\n",
       "      <td>52.102666</td>\n",
       "      <td>60.377647</td>\n",
       "      <td>0.000000e+00</td>\n",
       "    </tr>\n",
       "    <tr>\n",
       "      <th>25%</th>\n",
       "      <td>104.266541</td>\n",
       "      <td>105.543381</td>\n",
       "      <td>103.468528</td>\n",
       "      <td>104.544431</td>\n",
       "      <td>9.900390e+06</td>\n",
       "    </tr>\n",
       "    <tr>\n",
       "      <th>50%</th>\n",
       "      <td>146.498123</td>\n",
       "      <td>147.890041</td>\n",
       "      <td>144.999817</td>\n",
       "      <td>146.356299</td>\n",
       "      <td>1.371025e+07</td>\n",
       "    </tr>\n",
       "    <tr>\n",
       "      <th>75%</th>\n",
       "      <td>266.149231</td>\n",
       "      <td>270.679661</td>\n",
       "      <td>262.465172</td>\n",
       "      <td>267.603743</td>\n",
       "      <td>2.016297e+07</td>\n",
       "    </tr>\n",
       "    <tr>\n",
       "      <th>max</th>\n",
       "      <td>354.580750</td>\n",
       "      <td>355.356950</td>\n",
       "      <td>346.576122</td>\n",
       "      <td>353.222365</td>\n",
       "      <td>2.260593e+08</td>\n",
       "    </tr>\n",
       "  </tbody>\n",
       "</table>\n",
       "</div>"
      ],
      "text/plain": [
       "Price         Close         High          Low         Open        Volume\n",
       "Ticker POWERGRID.NS POWERGRID.NS POWERGRID.NS POWERGRID.NS  POWERGRID.NS\n",
       "count   1409.000000  1409.000000  1409.000000  1409.000000  1.409000e+03\n",
       "mean     174.002919   176.173713   171.852963   174.040661  1.719982e+07\n",
       "std       85.734567    86.674135    84.717572    85.730148  1.362417e+07\n",
       "min       61.486694    64.792430    52.102666    60.377647  0.000000e+00\n",
       "25%      104.266541   105.543381   103.468528   104.544431  9.900390e+06\n",
       "50%      146.498123   147.890041   144.999817   146.356299  1.371025e+07\n",
       "75%      266.149231   270.679661   262.465172   267.603743  2.016297e+07\n",
       "max      354.580750   355.356950   346.576122   353.222365  2.260593e+08"
      ]
     },
     "execution_count": 5,
     "metadata": {},
     "output_type": "execute_result"
    }
   ],
   "source": [
    "df.describe()"
   ]
  },
  {
   "cell_type": "code",
   "execution_count": 6,
   "metadata": {
    "colab": {
     "base_uri": "https://localhost:8080/",
     "height": 272
    },
    "executionInfo": {
     "elapsed": 10,
     "status": "ok",
     "timestamp": 1757156282109,
     "user": {
      "displayName": "kanishka",
      "userId": "06446069687320020031"
     },
     "user_tz": -330
    },
    "id": "O0SkiExHrKaY",
    "outputId": "4f19a515-cf7d-4850-b590-b7e41f9bc117"
   },
   "outputs": [
    {
     "data": {
      "text/plain": [
       "Price   Ticker      \n",
       "Close   POWERGRID.NS    0\n",
       "High    POWERGRID.NS    0\n",
       "Low     POWERGRID.NS    0\n",
       "Open    POWERGRID.NS    0\n",
       "Volume  POWERGRID.NS    0\n",
       "dtype: int64"
      ]
     },
     "execution_count": 6,
     "metadata": {},
     "output_type": "execute_result"
    }
   ],
   "source": [
    "df.isnull().sum()"
   ]
  },
  {
   "cell_type": "code",
   "execution_count": 7,
   "metadata": {
    "executionInfo": {
     "elapsed": 4,
     "status": "ok",
     "timestamp": 1757156485139,
     "user": {
      "displayName": "kanishka",
      "userId": "06446069687320020031"
     },
     "user_tz": -330
    },
    "id": "4drz__NYsB5j"
   },
   "outputs": [],
   "source": [
    "df = df.reset_index()"
   ]
  },
  {
   "cell_type": "code",
   "execution_count": 8,
   "metadata": {
    "executionInfo": {
     "elapsed": 17,
     "status": "ok",
     "timestamp": 1757156489349,
     "user": {
      "displayName": "kanishka",
      "userId": "06446069687320020031"
     },
     "user_tz": -330
    },
    "id": "B8Q75UWerhgR"
   },
   "outputs": [],
   "source": [
    "df.to_csv(\"powergrid.csv\")"
   ]
  },
  {
   "cell_type": "code",
   "execution_count": 9,
   "metadata": {
    "colab": {
     "base_uri": "https://localhost:8080/",
     "height": 237
    },
    "executionInfo": {
     "elapsed": 15,
     "status": "ok",
     "timestamp": 1757156490498,
     "user": {
      "displayName": "kanishka",
      "userId": "06446069687320020031"
     },
     "user_tz": -330
    },
    "id": "z3OB2IrTrx0-",
    "outputId": "82a559b1-2eba-47d1-d2be-5cc2a1d96b51"
   },
   "outputs": [
    {
     "data": {
      "text/html": [
       "<div>\n",
       "<style scoped>\n",
       "    .dataframe tbody tr th:only-of-type {\n",
       "        vertical-align: middle;\n",
       "    }\n",
       "\n",
       "    .dataframe tbody tr th {\n",
       "        vertical-align: top;\n",
       "    }\n",
       "\n",
       "    .dataframe thead tr th {\n",
       "        text-align: left;\n",
       "    }\n",
       "</style>\n",
       "<table border=\"1\" class=\"dataframe\">\n",
       "  <thead>\n",
       "    <tr>\n",
       "      <th>Price</th>\n",
       "      <th>Date</th>\n",
       "      <th>Close</th>\n",
       "      <th>High</th>\n",
       "      <th>Low</th>\n",
       "      <th>Open</th>\n",
       "      <th>Volume</th>\n",
       "    </tr>\n",
       "    <tr>\n",
       "      <th>Ticker</th>\n",
       "      <th></th>\n",
       "      <th>POWERGRID.NS</th>\n",
       "      <th>POWERGRID.NS</th>\n",
       "      <th>POWERGRID.NS</th>\n",
       "      <th>POWERGRID.NS</th>\n",
       "      <th>POWERGRID.NS</th>\n",
       "    </tr>\n",
       "  </thead>\n",
       "  <tbody>\n",
       "    <tr>\n",
       "      <th>0</th>\n",
       "      <td>2020-01-01</td>\n",
       "      <td>80.429741</td>\n",
       "      <td>80.594302</td>\n",
       "      <td>78.269858</td>\n",
       "      <td>78.393283</td>\n",
       "      <td>13620373</td>\n",
       "    </tr>\n",
       "    <tr>\n",
       "      <th>1</th>\n",
       "      <td>2020-01-02</td>\n",
       "      <td>80.265182</td>\n",
       "      <td>80.923432</td>\n",
       "      <td>79.956629</td>\n",
       "      <td>80.450317</td>\n",
       "      <td>5673692</td>\n",
       "    </tr>\n",
       "    <tr>\n",
       "      <th>2</th>\n",
       "      <td>2020-01-03</td>\n",
       "      <td>79.401230</td>\n",
       "      <td>80.141757</td>\n",
       "      <td>78.681265</td>\n",
       "      <td>79.915486</td>\n",
       "      <td>7358268</td>\n",
       "    </tr>\n",
       "    <tr>\n",
       "      <th>3</th>\n",
       "      <td>2020-01-06</td>\n",
       "      <td>79.442352</td>\n",
       "      <td>79.792048</td>\n",
       "      <td>77.344185</td>\n",
       "      <td>78.989811</td>\n",
       "      <td>7355290</td>\n",
       "    </tr>\n",
       "    <tr>\n",
       "      <th>4</th>\n",
       "      <td>2020-01-07</td>\n",
       "      <td>78.866394</td>\n",
       "      <td>80.018332</td>\n",
       "      <td>78.640123</td>\n",
       "      <td>79.462934</td>\n",
       "      <td>14023712</td>\n",
       "    </tr>\n",
       "  </tbody>\n",
       "</table>\n",
       "</div>"
      ],
      "text/plain": [
       "Price        Date        Close         High          Low         Open  \\\n",
       "Ticker            POWERGRID.NS POWERGRID.NS POWERGRID.NS POWERGRID.NS   \n",
       "0      2020-01-01    80.429741    80.594302    78.269858    78.393283   \n",
       "1      2020-01-02    80.265182    80.923432    79.956629    80.450317   \n",
       "2      2020-01-03    79.401230    80.141757    78.681265    79.915486   \n",
       "3      2020-01-06    79.442352    79.792048    77.344185    78.989811   \n",
       "4      2020-01-07    78.866394    80.018332    78.640123    79.462934   \n",
       "\n",
       "Price        Volume  \n",
       "Ticker POWERGRID.NS  \n",
       "0          13620373  \n",
       "1           5673692  \n",
       "2           7358268  \n",
       "3           7355290  \n",
       "4          14023712  "
      ]
     },
     "execution_count": 9,
     "metadata": {},
     "output_type": "execute_result"
    }
   ],
   "source": [
    "df.head()"
   ]
  },
  {
   "cell_type": "code",
   "execution_count": 10,
   "metadata": {
    "colab": {
     "base_uri": "https://localhost:8080/",
     "height": 545
    },
    "executionInfo": {
     "elapsed": 139,
     "status": "ok",
     "timestamp": 1757156570726,
     "user": {
      "displayName": "kanishka",
      "userId": "06446069687320020031"
     },
     "user_tz": -330
    },
    "id": "tskRO6MhsWgz",
    "outputId": "f4e2c4f2-861d-4356-da22-0e122758b6f0"
   },
   "outputs": [
    {
     "data": {
      "image/png": "[encoded data removed]",
      "text/plain": [
       "<Figure size 1200x600 with 1 Axes>"
      ]
     },
     "metadata": {},
     "output_type": "display_data"
    }
   ],
   "source": [
    "plt.figure(figsize=(12, 6))\n",
    "plt.plot(df['Close'], label = f'{ticker} Closing Price', linewidth = 1)\n",
    "plt.title(f'{ticker} Closing prices over time')\n",
    "plt.legend()\n",
    "plt.show()"
   ]
  },
  {
   "cell_type": "code",
   "execution_count": 11,
   "metadata": {
    "colab": {
     "base_uri": "https://localhost:8080/",
     "height": 545
    },
    "executionInfo": {
     "elapsed": 189,
     "status": "ok",
     "timestamp": 1757156592771,
     "user": {
      "displayName": "kanishka",
      "userId": "06446069687320020031"
     },
     "user_tz": -330
    },
    "id": "wQrmdsPMsYKK",
    "outputId": "3fed6aab-272e-4a91-f377-3777a86e1178"
   },
   "outputs": [
    {
     "data": {
      "image/png": "[encoded data removed]",
      "text/plain": [
       "<Figure size 1200x600 with 1 Axes>"
      ]
     },
     "metadata": {},
     "output_type": "display_data"
    }
   ],
   "source": [
    "plt.figure(figsize=(12, 6))\n",
    "plt.plot(df['Open'], label = f'{ticker} Opening Price', linewidth = 1)\n",
    "plt.title(f'{ticker} Opening prices over time')\n",
    "plt.legend()\n",
    "plt.show()"
   ]
  },
  {
   "cell_type": "code",
   "execution_count": 12,
   "metadata": {
    "colab": {
     "base_uri": "https://localhost:8080/",
     "height": 545
    },
    "executionInfo": {
     "elapsed": 239,
     "status": "ok",
     "timestamp": 1757156618296,
     "user": {
      "displayName": "kanishka",
      "userId": "06446069687320020031"
     },
     "user_tz": -330
    },
    "id": "IS18qsrosiVR",
    "outputId": "c7fe5fbe-fde7-43fd-fa90-2c70348740cd"
   },
   "outputs": [
    {
     "data": {
      "image/png": "[encoded data removed]",
      "text/plain": [
       "<Figure size 1200x600 with 1 Axes>"
      ]
     },
     "metadata": {},
     "output_type": "display_data"
    }
   ],
   "source": [
    "plt.figure(figsize=(12, 6))\n",
    "plt.plot(df['High'], label = f'{ticker} High Price', linewidth = 1)\n",
    "plt.title(f'{ticker} High prices over time')\n",
    "plt.legend()\n",
    "plt.show()"
   ]
  },
  {
   "cell_type": "code",
   "execution_count": 13,
   "metadata": {
    "colab": {
     "base_uri": "https://localhost:8080/",
     "height": 545
    },
    "executionInfo": {
     "elapsed": 173,
     "status": "ok",
     "timestamp": 1757156643502,
     "user": {
      "displayName": "kanishka",
      "userId": "06446069687320020031"
     },
     "user_tz": -330
    },
    "id": "972p2HWcsono",
    "outputId": "1a873136-03bc-407f-a6d7-764be1856632"
   },
   "outputs": [
    {
     "data": {
      "image/png": "[encoded data removed]",
      "text/plain": [
       "<Figure size 1200x600 with 1 Axes>"
      ]
     },
     "metadata": {},
     "output_type": "display_data"
    }
   ],
   "source": [
    "plt.figure(figsize=(12, 6))\n",
    "plt.plot(df['Volume'], label = f'{ticker} Volume', linewidth = 2)\n",
    "plt.title(f'{ticker} Volume over time')\n",
    "plt.legend()\n",
    "plt.show()"
   ]
  },
  {
   "cell_type": "code",
   "execution_count": 14,
   "metadata": {
    "executionInfo": {
     "elapsed": 42,
     "status": "ok",
     "timestamp": 1757156711940,
     "user": {
      "displayName": "kanishka",
      "userId": "06446069687320020031"
     },
     "user_tz": -330
    },
    "id": "H-Z8gBuLssN1"
   },
   "outputs": [],
   "source": [
    "df['MA_5'] = df['Close'].rolling(window=5).mean()   # 5-day moving average\n",
    "df['MA_20'] = df['Close'].rolling(window=20).mean() # 20-day moving average\n",
    "df['MA_50'] = df['Close'].rolling(window=50).mean()"
   ]
  },
  {
   "cell_type": "code",
   "execution_count": 15,
   "metadata": {
    "executionInfo": {
     "elapsed": 29,
     "status": "ok",
     "timestamp": 1757156712897,
     "user": {
      "displayName": "kanishka",
      "userId": "06446069687320020031"
     },
     "user_tz": -330
    },
    "id": "HNJNurYXs2Vf"
   },
   "outputs": [],
   "source": [
    "ma100 = df.Close.rolling(100).mean()"
   ]
  },
  {
   "cell_type": "code",
   "execution_count": 16,
   "metadata": {
    "executionInfo": {
     "elapsed": 2,
     "status": "ok",
     "timestamp": 1757156713783,
     "user": {
      "displayName": "kanishka",
      "userId": "06446069687320020031"
     },
     "user_tz": -330
    },
    "id": "SUFRNxSos46W"
   },
   "outputs": [],
   "source": [
    "ma200 = df.Close.rolling(200).mean()"
   ]
  },
  {
   "cell_type": "code",
   "execution_count": 17,
   "metadata": {
    "colab": {
     "base_uri": "https://localhost:8080/",
     "height": 522
    },
    "executionInfo": {
     "elapsed": 156,
     "status": "ok",
     "timestamp": 1757156715327,
     "user": {
      "displayName": "kanishka",
      "userId": "06446069687320020031"
     },
     "user_tz": -330
    },
    "id": "lo__Od5Esz7D",
    "outputId": "c2a175f5-7505-4efe-bfde-2c26d6706c42"
   },
   "outputs": [
    {
     "data": {
      "image/png": "[encoded data removed]",
      "text/plain": [
       "<Figure size 1200x600 with 1 Axes>"
      ]
     },
     "metadata": {},
     "output_type": "display_data"
    }
   ],
   "source": [
    "plt.figure(figsize=(12, 6))\n",
    "plt.plot(df.Close, label = f'{ticker} Close Price', linewidth = 1)\n",
    "plt.plot(ma100, label = f'{ticker} Moving Average 100 Price', linewidth = 1)\n",
    "plt.plot(ma200, label = f'{ticker} Moving Average 200 Price', linewidth = 1)\n",
    "plt.legend()\n",
    "plt.show()"
   ]
  },
  {
   "cell_type": "code",
   "execution_count": 18,
   "metadata": {
    "executionInfo": {
     "elapsed": 19,
     "status": "ok",
     "timestamp": 1757156762732,
     "user": {
      "displayName": "kanishka",
      "userId": "06446069687320020031"
     },
     "user_tz": -330
    },
    "id": "itmpM7EKs-n8"
   },
   "outputs": [],
   "source": [
    "#exponential moving average\n",
    "ema100 = df.Close.ewm(span=100, adjust = False).mean()\n",
    "ema200 = df['Close'].ewm(span=200, adjust = False).mean()"
   ]
  },
  {
   "cell_type": "code",
   "execution_count": 19,
   "metadata": {
    "colab": {
     "base_uri": "https://localhost:8080/",
     "height": 522
    },
    "executionInfo": {
     "elapsed": 202,
     "status": "ok",
     "timestamp": 1757156781916,
     "user": {
      "displayName": "kanishka",
      "userId": "06446069687320020031"
     },
     "user_tz": -330
    },
    "id": "IorCsD4QtGoB",
    "outputId": "e12185da-7dcd-4886-ad01-1a3b97bc31ff"
   },
   "outputs": [
    {
     "data": {
      "image/png": "[encoded data removed]",
      "text/plain": [
       "<Figure size 1200x600 with 1 Axes>"
      ]
     },
     "metadata": {},
     "output_type": "display_data"
    }
   ],
   "source": [
    "plt.figure(figsize=(12, 6))\n",
    "plt.plot(df.Close, label = f'{ticker} Close Price', linewidth = 1)\n",
    "plt.plot(ema100, label = f'{ticker} Exp. Moving Average 100 Price', linewidth = 1)\n",
    "plt.plot(ema200, label = f'{ticker} Exp. Moving Average 200 Price', linewidth = 1)\n",
    "plt.legend()\n",
    "plt.show()"
   ]
  },
  {
   "cell_type": "code",
   "execution_count": 20,
   "metadata": {
    "executionInfo": {
     "elapsed": 6,
     "status": "ok",
     "timestamp": 1757155074136,
     "user": {
      "displayName": "kanishka",
      "userId": "06446069687320020031"
     },
     "user_tz": -330
    },
    "id": "LLCcrWbpmTF-"
   },
   "outputs": [],
   "source": [
    "df1=data.reset_index()['Close']"
   ]
  },
  {
   "cell_type": "code",
   "execution_count": 21,
   "metadata": {
    "colab": {
     "base_uri": "https://localhost:8080/",
     "height": 423
    },
    "collapsed": true,
    "executionInfo": {
     "elapsed": 42,
     "status": "ok",
     "timestamp": 1757155075951,
     "user": {
      "displayName": "kanishka",
      "userId": "06446069687320020031"
     },
     "user_tz": -330
    },
    "id": "Att2Uqr1mTF-",
    "outputId": "4aa0ab74-6076-4fb9-fc4a-d15b51c1d968"
   },
   "outputs": [
    {
     "data": {
      "text/html": [
       "<div>\n",
       "<style scoped>\n",
       "    .dataframe tbody tr th:only-of-type {\n",
       "        vertical-align: middle;\n",
       "    }\n",
       "\n",
       "    .dataframe tbody tr th {\n",
       "        vertical-align: top;\n",
       "    }\n",
       "\n",
       "    .dataframe thead th {\n",
       "        text-align: right;\n",
       "    }\n",
       "</style>\n",
       "<table border=\"1\" class=\"dataframe\">\n",
       "  <thead>\n",
       "    <tr style=\"text-align: right;\">\n",
       "      <th>Ticker</th>\n",
       "      <th>POWERGRID.NS</th>\n",
       "    </tr>\n",
       "  </thead>\n",
       "  <tbody>\n",
       "    <tr>\n",
       "      <th>0</th>\n",
       "      <td>80.429741</td>\n",
       "    </tr>\n",
       "    <tr>\n",
       "      <th>1</th>\n",
       "      <td>80.265182</td>\n",
       "    </tr>\n",
       "    <tr>\n",
       "      <th>2</th>\n",
       "      <td>79.401230</td>\n",
       "    </tr>\n",
       "    <tr>\n",
       "      <th>3</th>\n",
       "      <td>79.442352</td>\n",
       "    </tr>\n",
       "    <tr>\n",
       "      <th>4</th>\n",
       "      <td>78.866394</td>\n",
       "    </tr>\n",
       "    <tr>\n",
       "      <th>...</th>\n",
       "      <td>...</td>\n",
       "    </tr>\n",
       "    <tr>\n",
       "      <th>1404</th>\n",
       "      <td>279.850006</td>\n",
       "    </tr>\n",
       "    <tr>\n",
       "      <th>1405</th>\n",
       "      <td>286.700012</td>\n",
       "    </tr>\n",
       "    <tr>\n",
       "      <th>1406</th>\n",
       "      <td>286.049988</td>\n",
       "    </tr>\n",
       "    <tr>\n",
       "      <th>1407</th>\n",
       "      <td>281.799988</td>\n",
       "    </tr>\n",
       "    <tr>\n",
       "      <th>1408</th>\n",
       "      <td>285.350006</td>\n",
       "    </tr>\n",
       "  </tbody>\n",
       "</table>\n",
       "<p>1409 rows × 1 columns</p>\n",
       "</div>"
      ],
      "text/plain": [
       "Ticker  POWERGRID.NS\n",
       "0          80.429741\n",
       "1          80.265182\n",
       "2          79.401230\n",
       "3          79.442352\n",
       "4          78.866394\n",
       "...              ...\n",
       "1404      279.850006\n",
       "1405      286.700012\n",
       "1406      286.049988\n",
       "1407      281.799988\n",
       "1408      285.350006\n",
       "\n",
       "[1409 rows x 1 columns]"
      ]
     },
     "execution_count": 21,
     "metadata": {},
     "output_type": "execute_result"
    }
   ],
   "source": [
    "df1"
   ]
  },
  {
   "cell_type": "code",
   "execution_count": 22,
   "metadata": {
    "colab": {
     "base_uri": "https://localhost:8080/",
     "height": 447
    },
    "executionInfo": {
     "elapsed": 219,
     "status": "ok",
     "timestamp": 1757155089818,
     "user": {
      "displayName": "kanishka",
      "userId": "06446069687320020031"
     },
     "user_tz": -330
    },
    "id": "cNz94sTimTF_",
    "outputId": "765f95cf-4e3f-46e6-ecd7-83e784846f8c"
   },
   "outputs": [
    {
     "data": {
      "text/plain": [
       "[<matplotlib.lines.Line2D at 0x1e44ad36e90>]"
      ]
     },
     "execution_count": 22,
     "metadata": {},
     "output_type": "execute_result"
    },
    {
     "data": {
      "image/png": "[encoded data removed]",
      "text/plain": [
       "<Figure size 640x480 with 1 Axes>"
      ]
     },
     "metadata": {},
     "output_type": "display_data"
    }
   ],
   "source": [
    "import matplotlib.pyplot as plt\n",
    "plt.plot(df1)"
   ]
  },
  {
   "cell_type": "code",
   "execution_count": 23,
   "metadata": {
    "id": "tjbzjYyEmTF_"
   },
   "outputs": [],
   "source": [
    "### LSTM are sensitive to the scale of the data. so we apply MinMax scaler"
   ]
  },
  {
   "cell_type": "code",
   "execution_count": 24,
   "metadata": {
    "executionInfo": {
     "elapsed": 55,
     "status": "ok",
     "timestamp": 1757155097506,
     "user": {
      "displayName": "kanishka",
      "userId": "06446069687320020031"
     },
     "user_tz": -330
    },
    "id": "L7KTj0nomTGA"
   },
   "outputs": [],
   "source": [
    "import numpy as np"
   ]
  },
  {
   "cell_type": "code",
   "execution_count": 25,
   "metadata": {
    "colab": {
     "base_uri": "https://localhost:8080/",
     "height": 423
    },
    "executionInfo": {
     "elapsed": 100,
     "status": "ok",
     "timestamp": 1757155098839,
     "user": {
      "displayName": "kanishka",
      "userId": "06446069687320020031"
     },
     "user_tz": -330
    },
    "id": "Sb4adw8imTGA",
    "outputId": "e26d724d-79ff-4724-92ab-b9eaa0a59d13"
   },
   "outputs": [
    {
     "data": {
      "text/html": [
       "<div>\n",
       "<style scoped>\n",
       "    .dataframe tbody tr th:only-of-type {\n",
       "        vertical-align: middle;\n",
       "    }\n",
       "\n",
       "    .dataframe tbody tr th {\n",
       "        vertical-align: top;\n",
       "    }\n",
       "\n",
       "    .dataframe thead th {\n",
       "        text-align: right;\n",
       "    }\n",
       "</style>\n",
       "<table border=\"1\" class=\"dataframe\">\n",
       "  <thead>\n",
       "    <tr style=\"text-align: right;\">\n",
       "      <th>Ticker</th>\n",
       "      <th>POWERGRID.NS</th>\n",
       "    </tr>\n",
       "  </thead>\n",
       "  <tbody>\n",
       "    <tr>\n",
       "      <th>0</th>\n",
       "      <td>80.429741</td>\n",
       "    </tr>\n",
       "    <tr>\n",
       "      <th>1</th>\n",
       "      <td>80.265182</td>\n",
       "    </tr>\n",
       "    <tr>\n",
       "      <th>2</th>\n",
       "      <td>79.401230</td>\n",
       "    </tr>\n",
       "    <tr>\n",
       "      <th>3</th>\n",
       "      <td>79.442352</td>\n",
       "    </tr>\n",
       "    <tr>\n",
       "      <th>4</th>\n",
       "      <td>78.866394</td>\n",
       "    </tr>\n",
       "    <tr>\n",
       "      <th>...</th>\n",
       "      <td>...</td>\n",
       "    </tr>\n",
       "    <tr>\n",
       "      <th>1404</th>\n",
       "      <td>279.850006</td>\n",
       "    </tr>\n",
       "    <tr>\n",
       "      <th>1405</th>\n",
       "      <td>286.700012</td>\n",
       "    </tr>\n",
       "    <tr>\n",
       "      <th>1406</th>\n",
       "      <td>286.049988</td>\n",
       "    </tr>\n",
       "    <tr>\n",
       "      <th>1407</th>\n",
       "      <td>281.799988</td>\n",
       "    </tr>\n",
       "    <tr>\n",
       "      <th>1408</th>\n",
       "      <td>285.350006</td>\n",
       "    </tr>\n",
       "  </tbody>\n",
       "</table>\n",
       "<p>1409 rows × 1 columns</p>\n",
       "</div>"
      ],
      "text/plain": [
       "Ticker  POWERGRID.NS\n",
       "0          80.429741\n",
       "1          80.265182\n",
       "2          79.401230\n",
       "3          79.442352\n",
       "4          78.866394\n",
       "...              ...\n",
       "1404      279.850006\n",
       "1405      286.700012\n",
       "1406      286.049988\n",
       "1407      281.799988\n",
       "1408      285.350006\n",
       "\n",
       "[1409 rows x 1 columns]"
      ]
     },
     "execution_count": 25,
     "metadata": {},
     "output_type": "execute_result"
    }
   ],
   "source": [
    "df1"
   ]
  },
  {
   "cell_type": "code",
   "execution_count": 26,
   "metadata": {
    "executionInfo": {
     "elapsed": 4,
     "status": "ok",
     "timestamp": 1757155100604,
     "user": {
      "displayName": "kanishka",
      "userId": "06446069687320020031"
     },
     "user_tz": -330
    },
    "id": "kcdI3qhTmTGA"
   },
   "outputs": [],
   "source": [
    "from sklearn.preprocessing import MinMaxScaler\n",
    "scaler=MinMaxScaler(feature_range=(0,1))\n",
    "df1=scaler.fit_transform(np.array(df1).reshape(-1,1))"
   ]
  },
  {
   "cell_type": "code",
   "execution_count": 27,
   "metadata": {
    "colab": {
     "base_uri": "https://localhost:8080/"
    },
    "executionInfo": {
     "elapsed": 9,
     "status": "ok",
     "timestamp": 1757155103004,
     "user": {
      "displayName": "kanishka",
      "userId": "06446069687320020031"
     },
     "user_tz": -330
    },
    "id": "yM88KVttmTGA",
    "outputId": "cdd574ac-4413-4083-e279-655cd963130e"
   },
   "outputs": [
    {
     "name": "stdout",
     "output_type": "stream",
     "text": [
      "[[0.06463129]\n",
      " [0.06406984]\n",
      " [0.06112214]\n",
      " ...\n",
      " [0.76618167]\n",
      " [0.75168121]\n",
      " [0.76379342]]\n"
     ]
    }
   ],
   "source": [
    "print(df1)"
   ]
  },
  {
   "cell_type": "code",
   "execution_count": 28,
   "metadata": {
    "executionInfo": {
     "elapsed": 16,
     "status": "ok",
     "timestamp": 1757155104821,
     "user": {
      "displayName": "kanishka",
      "userId": "06446069687320020031"
     },
     "user_tz": -330
    },
    "id": "Lhat1DRtmTGA"
   },
   "outputs": [],
   "source": [
    "##splitting dataset into train and test split\n",
    "training_size=int(len(df1)*0.65)\n",
    "test_size=len(df1)-training_size\n",
    "train_data,test_data=df1[0:training_size,:],df1[training_size:len(df1),:1]"
   ]
  },
  {
   "cell_type": "code",
   "execution_count": 29,
   "metadata": {
    "colab": {
     "base_uri": "https://localhost:8080/"
    },
    "executionInfo": {
     "elapsed": 46,
     "status": "ok",
     "timestamp": 1757155106235,
     "user": {
      "displayName": "kanishka",
      "userId": "06446069687320020031"
     },
     "user_tz": -330
    },
    "id": "QC8681FXmTGB",
    "outputId": "815c6e24-3127-45a7-cd5c-36cb94776879"
   },
   "outputs": [
    {
     "data": {
      "text/plain": [
       "(915, 494)"
      ]
     },
     "execution_count": 29,
     "metadata": {},
     "output_type": "execute_result"
    }
   ],
   "source": [
    "training_size,test_size"
   ]
  },
  {
   "cell_type": "code",
   "execution_count": 30,
   "metadata": {
    "colab": {
     "base_uri": "https://localhost:8080/"
    },
    "collapsed": true,
    "executionInfo": {
     "elapsed": 31,
     "status": "ok",
     "timestamp": 1757155107585,
     "user": {
      "displayName": "kanishka",
      "userId": "06446069687320020031"
     },
     "user_tz": -330
    },
    "id": "nrYJYMDtmTGB",
    "outputId": "6aee5b5a-d0a1-432f-89aa-127497206e53"
   },
   "outputs": [
    {
     "data": {
      "text/plain": [
       "array([[0.06463129],\n",
       "       [0.06406984],\n",
       "       [0.06112214],\n",
       "       [0.06126244],\n",
       "       [0.05929735],\n",
       "       [0.05768314],\n",
       "       [0.06105193],\n",
       "       [0.059929  ],\n",
       "       [0.06364869],\n",
       "       [0.0642804 ],\n",
       "       [0.06287673],\n",
       "       [0.06596476],\n",
       "       [0.06729825],\n",
       "       [0.07747481],\n",
       "       [0.07178992],\n",
       "       [0.07101793],\n",
       "       [0.07368486],\n",
       "       [0.06666662],\n",
       "       [0.06112214],\n",
       "       [0.05754276],\n",
       "       [0.06027992],\n",
       "       [0.06308724],\n",
       "       [0.05248955],\n",
       "       [0.05319139],\n",
       "       [0.06301706],\n",
       "       [0.05599878],\n",
       "       [0.06098176],\n",
       "       [0.05747258],\n",
       "       [0.05213869],\n",
       "       [0.05620929],\n",
       "       [0.05599878],\n",
       "       [0.05768314],\n",
       "       [0.04862949],\n",
       "       [0.04792765],\n",
       "       [0.04989283],\n",
       "       [0.05340195],\n",
       "       [0.05585837],\n",
       "       [0.05143685],\n",
       "       [0.05150708],\n",
       "       [0.05108591],\n",
       "       [0.0519281 ],\n",
       "       [0.04498001],\n",
       "       [0.04778735],\n",
       "       [0.05929735],\n",
       "       [0.06680692],\n",
       "       [0.06526292],\n",
       "       [0.05775329],\n",
       "       [0.04420797],\n",
       "       [0.04483962],\n",
       "       [0.02336357],\n",
       "       [0.02589012],\n",
       "       [0.02008342],\n",
       "       [0.02597751],\n",
       "       [0.        ],\n",
       "       [0.00436597],\n",
       "       [0.01906476],\n",
       "       [0.01287952],\n",
       "       [0.00458421],\n",
       "       [0.00887745],\n",
       "       [0.02066554],\n",
       "       [0.02306685],\n",
       "       [0.01673615],\n",
       "       [0.02175705],\n",
       "       [0.0152081 ],\n",
       "       [0.01753664],\n",
       "       [0.02015617],\n",
       "       [0.02066554],\n",
       "       [0.02954304],\n",
       "       [0.0229941 ],\n",
       "       [0.02241192],\n",
       "       [0.02801494],\n",
       "       [0.03434557],\n",
       "       [0.03107109],\n",
       "       [0.02692346],\n",
       "       [0.02626853],\n",
       "       [0.02015617],\n",
       "       [0.0218298 ],\n",
       "       [0.02248471],\n",
       "       [0.01899196],\n",
       "       [0.02022898],\n",
       "       [0.02605024],\n",
       "       [0.02168427],\n",
       "       [0.02837877],\n",
       "       [0.03092555],\n",
       "       [0.02561371],\n",
       "       [0.02161156],\n",
       "       [0.02132044],\n",
       "       [0.02786938],\n",
       "       [0.03274477],\n",
       "       [0.02423109],\n",
       "       [0.02277575],\n",
       "       [0.01506257],\n",
       "       [0.02022898],\n",
       "       [0.02081112],\n",
       "       [0.02146595],\n",
       "       [0.0170273 ],\n",
       "       [0.0192102 ],\n",
       "       [0.0189192 ],\n",
       "       [0.01906476],\n",
       "       [0.01950132],\n",
       "       [0.02139322],\n",
       "       [0.03041624],\n",
       "       [0.0296886 ],\n",
       "       [0.03652862],\n",
       "       [0.0397303 ],\n",
       "       [0.0410401 ],\n",
       "       [0.03842049],\n",
       "       [0.03769286],\n",
       "       [0.03907537],\n",
       "       [0.03223538],\n",
       "       [0.02779663],\n",
       "       [0.02699624],\n",
       "       [0.0223392 ],\n",
       "       [0.03099838],\n",
       "       [0.03965754],\n",
       "       [0.05013582],\n",
       "       [0.06301547],\n",
       "       [0.04999034],\n",
       "       [0.05122733],\n",
       "       [0.05100904],\n",
       "       [0.04962648],\n",
       "       [0.04467847],\n",
       "       [0.04264093],\n",
       "       [0.04504219],\n",
       "       [0.04868051],\n",
       "       [0.04926268],\n",
       "       [0.04213167],\n",
       "       [0.03725623],\n",
       "       [0.03987584],\n",
       "       [0.04140393],\n",
       "       [0.03631025],\n",
       "       [0.02794219],\n",
       "       [0.02823324],\n",
       "       [0.02626853],\n",
       "       [0.02786938],\n",
       "       [0.02816051],\n",
       "       [0.042932  ],\n",
       "       [0.05166389],\n",
       "       [0.05472011],\n",
       "       [0.05508391],\n",
       "       [0.05348306],\n",
       "       [0.05493846],\n",
       "       [0.05472011],\n",
       "       [0.04758905],\n",
       "       [0.04969921],\n",
       "       [0.05006309],\n",
       "       [0.04962648],\n",
       "       [0.04627922],\n",
       "       [0.04620644],\n",
       "       [0.04627922],\n",
       "       [0.04817114],\n",
       "       [0.04758905],\n",
       "       [0.04933544],\n",
       "       [0.05035417],\n",
       "       [0.0454788 ],\n",
       "       [0.0502086 ],\n",
       "       [0.04889883],\n",
       "       [0.04831673],\n",
       "       [0.0539197 ],\n",
       "       [0.06541676],\n",
       "       [0.05981377],\n",
       "       [0.05908611],\n",
       "       [0.05995928],\n",
       "       [0.05974101],\n",
       "       [0.05552058],\n",
       "       [0.05064524],\n",
       "       [0.0527554 ],\n",
       "       [0.05996053],\n",
       "       [0.05594118],\n",
       "       [0.0508053 ],\n",
       "       [0.0524428 ],\n",
       "       [0.05058201],\n",
       "       [0.05110304],\n",
       "       [0.05460139],\n",
       "       [0.05095414],\n",
       "       [0.04552053],\n",
       "       [0.04820017],\n",
       "       [0.04619043],\n",
       "       [0.04075679],\n",
       "       [0.04611603],\n",
       "       [0.0440319 ],\n",
       "       [0.04150113],\n",
       "       [0.03420672],\n",
       "       [0.02743332],\n",
       "       [0.02951745],\n",
       "       [0.04053352],\n",
       "       [0.03331349],\n",
       "       [0.03204814],\n",
       "       [0.03524875],\n",
       "       [0.03264359],\n",
       "       [0.03316472],\n",
       "       [0.02780545],\n",
       "       [0.02587024],\n",
       "       [0.02542361],\n",
       "       [0.02810319],\n",
       "       [0.02907085],\n",
       "       [0.02400939],\n",
       "       [0.02207413],\n",
       "       [0.02683782],\n",
       "       [0.02802877],\n",
       "       [0.02423266],\n",
       "       [0.03398341],\n",
       "       [0.03599315],\n",
       "       [0.04351082],\n",
       "       [0.04633932],\n",
       "       [0.04849793],\n",
       "       [0.04753022],\n",
       "       [0.0456694 ],\n",
       "       [0.04477619],\n",
       "       [0.04782798],\n",
       "       [0.05809968],\n",
       "       [0.05385704],\n",
       "       [0.05675994],\n",
       "       [0.05586673],\n",
       "       [0.06420322],\n",
       "       [0.06695725],\n",
       "       [0.07253976],\n",
       "       [0.07231644],\n",
       "       [0.07134881],\n",
       "       [0.07008349],\n",
       "       [0.06829706],\n",
       "       [0.06621296],\n",
       "       [0.07276302],\n",
       "       [0.07581476],\n",
       "       [0.0801319 ],\n",
       "       [0.07975974],\n",
       "       [0.08095072],\n",
       "       [0.08444901],\n",
       "       [0.07663355],\n",
       "       [0.07655916],\n",
       "       [0.07923871],\n",
       "       [0.07819666],\n",
       "       [0.07953642],\n",
       "       [0.07827113],\n",
       "       [0.0754426 ],\n",
       "       [0.07708013],\n",
       "       [0.07715463],\n",
       "       [0.07767563],\n",
       "       [0.079462  ],\n",
       "       [0.07722908],\n",
       "       [0.08229048],\n",
       "       [0.08549841],\n",
       "       [0.08641499],\n",
       "       [0.07358327],\n",
       "       [0.08091565],\n",
       "       [0.08038098],\n",
       "       [0.08045733],\n",
       "       [0.08282512],\n",
       "       [0.07999906],\n",
       "       [0.0807629 ],\n",
       "       [0.08022824],\n",
       "       [0.07969357],\n",
       "       [0.0780896 ],\n",
       "       [0.07740223],\n",
       "       [0.08985206],\n",
       "       [0.09122684],\n",
       "       [0.10115621],\n",
       "       [0.10115621],\n",
       "       [0.10138536],\n",
       "       [0.10337123],\n",
       "       [0.103524  ],\n",
       "       [0.10031605],\n",
       "       [0.08924102],\n",
       "       [0.09519861],\n",
       "       [0.08985206],\n",
       "       [0.08832444],\n",
       "       [0.08687326],\n",
       "       [0.0807629 ],\n",
       "       [0.08404723],\n",
       "       [0.07633287],\n",
       "       [0.07197924],\n",
       "       [0.07877701],\n",
       "       [0.08687326],\n",
       "       [0.10566259],\n",
       "       [0.1039059 ],\n",
       "       [0.10657921],\n",
       "       [0.11490455],\n",
       "       [0.11215487],\n",
       "       [0.11169663],\n",
       "       [0.11673765],\n",
       "       [0.1150573 ],\n",
       "       [0.11475181],\n",
       "       [0.13476322],\n",
       "       [0.14163736],\n",
       "       [0.15149034],\n",
       "       [0.14492171],\n",
       "       [0.13384666],\n",
       "       [0.13560338],\n",
       "       [0.13048593],\n",
       "       [0.13781842],\n",
       "       [0.11757781],\n",
       "       [0.13736008],\n",
       "       [0.13399941],\n",
       "       [0.13774202],\n",
       "       [0.13415218],\n",
       "       [0.126667  ],\n",
       "       [0.13273479],\n",
       "       [0.12627802],\n",
       "       [0.12495554],\n",
       "       [0.13257918],\n",
       "       [0.1389582 ],\n",
       "       [0.13942492],\n",
       "       [0.13320157],\n",
       "       [0.13413497],\n",
       "       [0.14837102],\n",
       "       [0.13802461],\n",
       "       [0.13094556],\n",
       "       [0.13413497],\n",
       "       [0.12690033],\n",
       "       [0.12409989],\n",
       "       [0.13460178],\n",
       "       [0.12573349],\n",
       "       [0.1304788 ],\n",
       "       [0.12339969],\n",
       "       [0.11569822],\n",
       "       [0.11779863],\n",
       "       [0.11538711],\n",
       "       [0.11429801],\n",
       "       [0.10317371],\n",
       "       [0.11499816],\n",
       "       [0.11352012],\n",
       "       [0.11670959],\n",
       "       [0.10325146],\n",
       "       [0.10714108],\n",
       "       [0.10675215],\n",
       "       [0.11873216],\n",
       "       [0.12596683],\n",
       "       [0.12728933],\n",
       "       [0.13390166],\n",
       "       [0.13273479],\n",
       "       [0.13257918],\n",
       "       [0.13374608],\n",
       "       [0.12946752],\n",
       "       [0.12970085],\n",
       "       [0.12534451],\n",
       "       [0.12402198],\n",
       "       [0.13226801],\n",
       "       [0.13779127],\n",
       "       [0.14175874],\n",
       "       [0.14627064],\n",
       "       [0.14557052],\n",
       "       [0.152883  ],\n",
       "       [0.15389428],\n",
       "       [0.1464262 ],\n",
       "       [0.14487043],\n",
       "       [0.14961572],\n",
       "       [0.1525718 ],\n",
       "       [0.14121413],\n",
       "       [0.14541491],\n",
       "       [0.14098077],\n",
       "       [0.14129196],\n",
       "       [0.13934714],\n",
       "       [0.14409249],\n",
       "       [0.14230322],\n",
       "       [0.14206983],\n",
       "       [0.15778389],\n",
       "       [0.15436104],\n",
       "       [0.16688563],\n",
       "       [0.16618554],\n",
       "       [0.1734202 ],\n",
       "       [0.17715418],\n",
       "       [0.17544277],\n",
       "       [0.16696343],\n",
       "       [0.16338501],\n",
       "       [0.15272741],\n",
       "       [0.15560571],\n",
       "       [0.15436104],\n",
       "       [0.15156051],\n",
       "       [0.14984911],\n",
       "       [0.14938231],\n",
       "       [0.15093818],\n",
       "       [0.15739495],\n",
       "       [0.1517939 ],\n",
       "       [0.14930455],\n",
       "       [0.14487043],\n",
       "       [0.14852658],\n",
       "       [0.14619281],\n",
       "       [0.14953794],\n",
       "       [0.14984911],\n",
       "       [0.14844882],\n",
       "       [0.14650401],\n",
       "       [0.14595945],\n",
       "       [0.1479821 ],\n",
       "       [0.14868219],\n",
       "       [0.15404984],\n",
       "       [0.1529608 ],\n",
       "       [0.15008245],\n",
       "       [0.15311633],\n",
       "       [0.15272741],\n",
       "       [0.15226061],\n",
       "       [0.15093818],\n",
       "       [0.14510375],\n",
       "       [0.13748005],\n",
       "       [0.14525928],\n",
       "       [0.14494808],\n",
       "       [0.15210497],\n",
       "       [0.15376455],\n",
       "       [0.15366084],\n",
       "       [0.15324591],\n",
       "       [0.15625392],\n",
       "       [0.14826721],\n",
       "       [0.15604646],\n",
       "       [0.17813949],\n",
       "       [0.17347185],\n",
       "       [0.16507034],\n",
       "       [0.17036023],\n",
       "       [0.16486287],\n",
       "       [0.16071397],\n",
       "       [0.15459432],\n",
       "       [0.15656504],\n",
       "       [0.15428315],\n",
       "       [0.1493045 ],\n",
       "       [0.15189751],\n",
       "       [0.15428315],\n",
       "       [0.15397198],\n",
       "       [0.15459432],\n",
       "       [0.15480178],\n",
       "       [0.15438694],\n",
       "       [0.15137893],\n",
       "       [0.14909704],\n",
       "       [0.15511355],\n",
       "       [0.15648575],\n",
       "       [0.15733018],\n",
       "       [0.1577524 ],\n",
       "       [0.16577449],\n",
       "       [0.1690466 ],\n",
       "       [0.16767443],\n",
       "       [0.16387449],\n",
       "       [0.16155234],\n",
       "       [0.1633467 ],\n",
       "       [0.16651331],\n",
       "       [0.1620801 ],\n",
       "       [0.16176347],\n",
       "       [0.17854642],\n",
       "       [0.20197937],\n",
       "       [0.19110732],\n",
       "       [0.19522384],\n",
       "       [0.19480166],\n",
       "       [0.1912129 ],\n",
       "       [0.18625185],\n",
       "       [0.18772968],\n",
       "       [0.18646293],\n",
       "       [0.19860151],\n",
       "       [0.19839046],\n",
       "       [0.21116244],\n",
       "       [0.22224557],\n",
       "       [0.22045115],\n",
       "       [0.20957914],\n",
       "       [0.20050156],\n",
       "       [0.19986829],\n",
       "       [0.20071264],\n",
       "       [0.19691273],\n",
       "       [0.19216289],\n",
       "       [0.1918462 ],\n",
       "       [0.18266305],\n",
       "       [0.18086863],\n",
       "       [0.18656848],\n",
       "       [0.18181856],\n",
       "       [0.17854642],\n",
       "       [0.18086863],\n",
       "       [0.18952394],\n",
       "       [0.18403522],\n",
       "       [0.17949648],\n",
       "       [0.17474648],\n",
       "       [0.17442985],\n",
       "       [0.18772968],\n",
       "       [0.18625185],\n",
       "       [0.19353506],\n",
       "       [0.1965961 ],\n",
       "       [0.2001848 ],\n",
       "       [0.21633453],\n",
       "       [0.21939572],\n",
       "       [0.22140111],\n",
       "       [0.21665129],\n",
       "       [0.21295689],\n",
       "       [0.22667891],\n",
       "       [0.22762879],\n",
       "       [0.24303954],\n",
       "       [0.2253066 ],\n",
       "       [0.21665129],\n",
       "       [0.22467331],\n",
       "       [0.22256228],\n",
       "       [0.21918456],\n",
       "       [0.21802347],\n",
       "       [0.2217178 ],\n",
       "       [0.2382897 ],\n",
       "       [0.23322317],\n",
       "       [0.22973992],\n",
       "       [0.23343422],\n",
       "       [0.23322317],\n",
       "       [0.22636219],\n",
       "       [0.22197076],\n",
       "       [0.23653742],\n",
       "       [0.2302181 ],\n",
       "       [0.23171766],\n",
       "       [0.23064651],\n",
       "       [0.22850435],\n",
       "       [0.23011095],\n",
       "       [0.22807594],\n",
       "       [0.22936128],\n",
       "       [0.24135739],\n",
       "       [0.23718022],\n",
       "       [0.23139619],\n",
       "       [0.22978963],\n",
       "       [0.22721896],\n",
       "       [0.22689775],\n",
       "       [0.22925413],\n",
       "       [0.23578769],\n",
       "       [0.23525219],\n",
       "       [0.23225311],\n",
       "       [0.22968254],\n",
       "       [0.22861139],\n",
       "       [0.25003321],\n",
       "       [0.25099718],\n",
       "       [0.24864079],\n",
       "       [0.2590303 ],\n",
       "       [0.25046163],\n",
       "       [0.24050057],\n",
       "       [0.25163987],\n",
       "       [0.24639149],\n",
       "       [0.24864079],\n",
       "       [0.24285686],\n",
       "       [0.23942936],\n",
       "       [0.24789111],\n",
       "       [0.24017925],\n",
       "       [0.23867958],\n",
       "       [0.24446362],\n",
       "       [0.23535933],\n",
       "       [0.22261333],\n",
       "       [0.22604074],\n",
       "       [0.2224081 ],\n",
       "       [0.22394927],\n",
       "       [0.221087  ],\n",
       "       [0.22648121],\n",
       "       [0.22648121],\n",
       "       [0.22626106],\n",
       "       [0.21095917],\n",
       "       [0.22460982],\n",
       "       [0.2506998 ],\n",
       "       [0.25455279],\n",
       "       [0.26985458],\n",
       "       [0.26368982],\n",
       "       [0.258736  ],\n",
       "       [0.25774523],\n",
       "       [0.24838809],\n",
       "       [0.25003925],\n",
       "       [0.2579655 ],\n",
       "       [0.260057  ],\n",
       "       [0.25180074],\n",
       "       [0.25114014],\n",
       "       [0.25598395],\n",
       "       [0.24134261],\n",
       "       [0.24970908],\n",
       "       [0.25279146],\n",
       "       [0.25422262],\n",
       "       [0.25180074],\n",
       "       [0.25763517],\n",
       "       [0.25543346],\n",
       "       [0.26820331],\n",
       "       [0.26754281],\n",
       "       [0.28570686],\n",
       "       [0.2908808 ],\n",
       "       [0.30332037],\n",
       "       [0.31124646],\n",
       "       [0.29957739],\n",
       "       [0.30232955],\n",
       "       [0.29858672],\n",
       "       [0.30343043],\n",
       "       [0.29550424],\n",
       "       [0.2990271 ],\n",
       "       [0.29187157],\n",
       "       [0.29000008],\n",
       "       [0.29055052],\n",
       "       [0.28658753],\n",
       "       [0.28086305],\n",
       "       [0.30012788],\n",
       "       [0.29506411],\n",
       "       [0.30893469],\n",
       "       [0.29165146],\n",
       "       [0.30001788],\n",
       "       [0.31333807],\n",
       "       [0.30486159],\n",
       "       [0.3150994 ],\n",
       "       [0.32996096],\n",
       "       [0.32665836],\n",
       "       [0.31686083],\n",
       "       [0.30959519],\n",
       "       [0.31047596],\n",
       "       [0.30805397],\n",
       "       [0.31564994],\n",
       "       [0.29198168],\n",
       "       [0.29286229],\n",
       "       [0.29451357],\n",
       "       [0.28471604],\n",
       "       [0.29000008],\n",
       "       [0.28526643],\n",
       "       [0.29044052],\n",
       "       [0.28493615],\n",
       "       [0.29275218],\n",
       "       [0.30299015],\n",
       "       [0.29484379],\n",
       "       [0.28680764],\n",
       "       [0.28779842],\n",
       "       [0.28515642],\n",
       "       [0.28559675],\n",
       "       [0.28460593],\n",
       "       [0.28526643],\n",
       "       [0.28438576],\n",
       "       [0.27976222],\n",
       "       [0.28328488],\n",
       "       [0.27954205],\n",
       "       [0.26655209],\n",
       "       [0.25554362],\n",
       "       [0.24871831],\n",
       "       [0.2533418 ],\n",
       "       [0.2540024 ],\n",
       "       [0.24937886],\n",
       "       [0.25025958],\n",
       "       [0.25598395],\n",
       "       [0.25323179],\n",
       "       [0.25499307],\n",
       "       [0.25675456],\n",
       "       [0.24486532],\n",
       "       [0.25411251],\n",
       "       [0.26170827],\n",
       "       [0.25356207],\n",
       "       [0.25818567],\n",
       "       [0.27194624],\n",
       "       [0.2680932 ],\n",
       "       [0.26027722],\n",
       "       [0.26236888],\n",
       "       [0.26324949],\n",
       "       [0.25103008],\n",
       "       [0.25312163],\n",
       "       [0.25257124],\n",
       "       [0.25092002],\n",
       "       [0.25763517],\n",
       "       [0.25257124],\n",
       "       [0.24794775],\n",
       "       [0.25058975],\n",
       "       [0.2540024 ],\n",
       "       [0.26181833],\n",
       "       [0.26126789],\n",
       "       [0.27227641],\n",
       "       [0.28031261],\n",
       "       [0.28251432],\n",
       "       [0.27634962],\n",
       "       [0.28262438],\n",
       "       [0.27877144],\n",
       "       [0.28229421],\n",
       "       [0.28086305],\n",
       "       [0.29231201],\n",
       "       [0.29407323],\n",
       "       [0.29330268],\n",
       "       [0.29957739],\n",
       "       [0.29746532],\n",
       "       [0.29257403],\n",
       "       [0.29613131],\n",
       "       [0.3003557 ],\n",
       "       [0.29335224],\n",
       "       [0.30257897],\n",
       "       [0.2950197 ],\n",
       "       [0.30068905],\n",
       "       [0.29290759],\n",
       "       [0.28868325],\n",
       "       [0.28690458],\n",
       "       [0.29057306],\n",
       "       [0.2891279 ],\n",
       "       [0.2891279 ],\n",
       "       [0.28579297],\n",
       "       [0.28812734],\n",
       "       [0.29446385],\n",
       "       [0.30724796],\n",
       "       [0.31847566],\n",
       "       [0.31414022],\n",
       "       [0.30858198],\n",
       "       [0.30758147],\n",
       "       [0.2950197 ],\n",
       "       [0.27956761],\n",
       "       [0.24054837],\n",
       "       [0.23676868],\n",
       "       [0.24566196],\n",
       "       [0.25199852],\n",
       "       [0.25266542],\n",
       "       [0.2620033 ],\n",
       "       [0.25889078],\n",
       "       [0.25366593],\n",
       "       [0.24888584],\n",
       "       [0.25577815],\n",
       "       [0.2547777 ],\n",
       "       [0.25344358],\n",
       "       [0.26945158],\n",
       "       [0.26589409],\n",
       "       [0.26300397],\n",
       "       [0.2612252 ],\n",
       "       [0.26233686],\n",
       "       [0.26578304],\n",
       "       [0.27378707],\n",
       "       [0.27334236],\n",
       "       [0.27678844],\n",
       "       [0.27601033],\n",
       "       [0.28801624],\n",
       "       [0.29446385],\n",
       "       [0.29746532],\n",
       "       [0.31302851],\n",
       "       [0.30891543],\n",
       "       [0.29724313],\n",
       "       [0.29301868],\n",
       "       [0.29713182],\n",
       "       [0.27656614],\n",
       "       [0.26800636],\n",
       "       [0.26611654],\n",
       "       [0.27135243],\n",
       "       [0.28193816],\n",
       "       [0.28444225],\n",
       "       [0.2871741 ],\n",
       "       [0.28728785],\n",
       "       [0.28888155],\n",
       "       [0.28603584],\n",
       "       [0.2800031 ],\n",
       "       [0.29275145],\n",
       "       [0.29241009],\n",
       "       [0.29400363],\n",
       "       [0.28956443],\n",
       "       [0.30015011],\n",
       "       [0.2953695 ],\n",
       "       [0.29058884],\n",
       "       [0.2953695 ],\n",
       "       [0.2990119 ],\n",
       "       [0.2934345 ],\n",
       "       [0.28603584],\n",
       "       [0.28467002],\n",
       "       [0.28091376],\n",
       "       [0.28262115],\n",
       "       [0.28922296],\n",
       "       [0.28273496],\n",
       "       [0.27556396],\n",
       "       [0.28853992],\n",
       "       [0.28489768],\n",
       "       [0.28205202],\n",
       "       [0.27966169],\n",
       "       [0.27112482],\n",
       "       [0.27249064],\n",
       "       [0.27431189],\n",
       "       [0.28136903],\n",
       "       [0.28136903],\n",
       "       [0.27670217],\n",
       "       [0.27977555],\n",
       "       [0.28102756],\n",
       "       [0.2706696 ],\n",
       "       [0.26554746],\n",
       "       [0.26395388],\n",
       "       [0.2662304 ],\n",
       "       [0.27237694],\n",
       "       [0.27271836],\n",
       "       [0.27624695],\n",
       "       [0.27738511],\n",
       "       [0.28114137],\n",
       "       [0.28740171],\n",
       "       [0.28956443],\n",
       "       [0.29275145],\n",
       "       [0.29844272],\n",
       "       [0.3026543 ],\n",
       "       [0.29320678],\n",
       "       [0.28967824],\n",
       "       [0.28933682],\n",
       "       [0.27249064],\n",
       "       [0.28341795],\n",
       "       [0.28319034],\n",
       "       [0.2744257 ],\n",
       "       [0.27932017],\n",
       "       [0.28432844],\n",
       "       [0.28387317],\n",
       "       [0.28422271],\n",
       "       [0.28620342],\n",
       "       [0.28911624],\n",
       "       [0.29354362],\n",
       "       [0.29121336],\n",
       "       [0.29004829],\n",
       "       [0.29028126],\n",
       "       [0.28841711],\n",
       "       [0.29307756],\n",
       "       [0.29633992],\n",
       "       [0.29039777],\n",
       "       [0.28713547],\n",
       "       [0.29132993],\n",
       "       [0.30100037],\n",
       "       [0.30810754],\n",
       "       [0.30030119],\n",
       "       [0.30368011],\n",
       "       [0.307758  ],\n",
       "       [0.31952563],\n",
       "       [0.32162286],\n",
       "       [0.31637984],\n",
       "       [0.31812753],\n",
       "       [0.31707891],\n",
       "       [0.31498163],\n",
       "       [0.32220532],\n",
       "       [0.33117669],\n",
       "       [0.32546777],\n",
       "       [0.32034116],\n",
       "       [0.31020472],\n",
       "       [0.31241841],\n",
       "       [0.30787452],\n",
       "       [0.30845703],\n",
       "       [0.30309755],\n",
       "       [0.307758  ],\n",
       "       [0.30857349],\n",
       "       [0.31614671],\n",
       "       [0.31358353],\n",
       "       [0.31603025],\n",
       "       [0.3150982 ],\n",
       "       [0.32395311],\n",
       "       [0.32931248],\n",
       "       [0.31987522],\n",
       "       [0.328963  ],\n",
       "       [0.34166277],\n",
       "       [0.32686587],\n",
       "       [0.32605018],\n",
       "       [0.32826392],\n",
       "       [0.32977864],\n",
       "       [0.33071069],\n",
       "       [0.33292443],\n",
       "       [0.34550764],\n",
       "       [0.34003154],\n",
       "       [0.34306093],\n",
       "       [0.34970199],\n",
       "       [0.34876989],\n",
       "       [0.34678918],\n",
       "       [0.35191578],\n",
       "       [0.36053757],\n",
       "       [0.35739172],\n",
       "       [0.3672952 ],\n",
       "       [0.36939242],\n",
       "       [0.35354691],\n",
       "       [0.35704219],\n",
       "       [0.35086717],\n",
       "       [0.34667271],\n",
       "       [0.33933263],\n",
       "       [0.33478858],\n",
       "       [0.3363033 ],\n",
       "       [0.33572068],\n",
       "       [0.33968206],\n",
       "       [0.344692  ],\n",
       "       [0.34317744],\n",
       "       [0.33665273],\n",
       "       [0.33805083],\n",
       "       [0.33513806],\n",
       "       [0.3331574 ],\n",
       "       [0.33688575],\n",
       "       [0.33921606],\n",
       "       [0.33851704],\n",
       "       [0.34760482],\n",
       "       [0.35331388],\n",
       "       [0.36088716],\n",
       "       [0.35331388],\n",
       "       [0.35471204],\n",
       "       [0.36461535],\n",
       "       [0.36449889],\n",
       "       [0.36449889],\n",
       "       [0.35669275],\n",
       "       [0.36985853],\n",
       "       [0.39187906],\n",
       "       [0.38104359],\n",
       "       [0.37300421],\n",
       "       [0.36927596],\n",
       "       [0.37172257],\n",
       "       [0.37312078],\n",
       "       [0.38477184],\n",
       "       [0.37393637],\n",
       "       [0.37183914],\n",
       "       [0.38034441],\n",
       "       [0.40236509],\n",
       "       [0.38547102],\n",
       "       [0.37277124],\n",
       "       [0.38092713],\n",
       "       [0.37754815],\n",
       "       [0.35669275],\n",
       "       [0.34958553],\n",
       "       [0.35179922],\n",
       "       [0.35214886],\n",
       "       [0.35704219],\n",
       "       [0.35937249],\n",
       "       [0.35902295],\n",
       "       [0.36682915],\n",
       "       [0.37545098],\n",
       "       [0.37510155],\n",
       "       [0.37440236],\n",
       "       [0.39187906],\n",
       "       [0.41017139],\n",
       "       [0.3769657 ],\n",
       "       [0.36939242],\n",
       "       [0.36974196],\n",
       "       [0.36659617],\n",
       "       [0.36799432],\n",
       "       [0.36395553],\n",
       "       [0.36122347],\n",
       "       [0.36466825],\n",
       "       [0.37060758],\n",
       "       [0.37108269],\n",
       "       [0.37951669],\n",
       "       [0.3691822 ],\n",
       "       [0.36276771],\n",
       "       [0.37749724],\n",
       "       [0.37892267],\n",
       "       [0.38319897],\n",
       "       [0.37535909],\n",
       "       [0.36514346],\n",
       "       [0.38058571],\n",
       "       [0.38688145],\n",
       "       [0.37725968],\n",
       "       [0.3712016 ],\n",
       "       [0.38937591],\n",
       "       [0.39697828],\n",
       "       [0.39436502]])"
      ]
     },
     "execution_count": 30,
     "metadata": {},
     "output_type": "execute_result"
    }
   ],
   "source": [
    "train_data"
   ]
  },
  {
   "cell_type": "code",
   "execution_count": 31,
   "metadata": {
    "executionInfo": {
     "elapsed": 4,
     "status": "ok",
     "timestamp": 1757155109068,
     "user": {
      "displayName": "kanishka",
      "userId": "06446069687320020031"
     },
     "user_tz": -330
    },
    "id": "nIsXXiChmTGB"
   },
   "outputs": [],
   "source": [
    "import numpy\n",
    "# convert an array of values into a dataset matrix\n",
    "def create_dataset(dataset, time_step=1):\n",
    "\tdataX, dataY = [], []\n",
    "\tfor i in range(len(dataset)-time_step-1):\n",
    "\t\ta = dataset[i:(i+time_step), 0]   ###i=0, 0,1,2,3-----99   100\n",
    "\t\tdataX.append(a)\n",
    "\t\tdataY.append(dataset[i + time_step, 0])\n",
    "\treturn numpy.array(dataX), numpy.array(dataY)"
   ]
  },
  {
   "cell_type": "code",
   "execution_count": 32,
   "metadata": {
    "executionInfo": {
     "elapsed": 4,
     "status": "ok",
     "timestamp": 1757155110098,
     "user": {
      "displayName": "kanishka",
      "userId": "06446069687320020031"
     },
     "user_tz": -330
    },
    "id": "PYFL5F-8mTGB"
   },
   "outputs": [],
   "source": [
    "# reshape into X=t,t+1,t+2,t+3 and Y=t+4\n",
    "time_step = 100\n",
    "X_train, y_train = create_dataset(train_data, time_step)\n",
    "X_test, ytest = create_dataset(test_data, time_step)"
   ]
  },
  {
   "cell_type": "code",
   "execution_count": 33,
   "metadata": {
    "colab": {
     "base_uri": "https://localhost:8080/"
    },
    "executionInfo": {
     "elapsed": 9,
     "status": "ok",
     "timestamp": 1757155111463,
     "user": {
      "displayName": "kanishka",
      "userId": "06446069687320020031"
     },
     "user_tz": -330
    },
    "id": "j470KgulmTGB",
    "outputId": "d845d619-8523-489c-eb80-5e26f4f7396c"
   },
   "outputs": [
    {
     "name": "stdout",
     "output_type": "stream",
     "text": [
      "(814, 100)\n",
      "(814,)\n"
     ]
    },
    {
     "data": {
      "text/plain": [
       "(None, None)"
      ]
     },
     "execution_count": 33,
     "metadata": {},
     "output_type": "execute_result"
    }
   ],
   "source": [
    "print(X_train.shape), print(y_train.shape)"
   ]
  },
  {
   "cell_type": "code",
   "execution_count": 34,
   "metadata": {
    "colab": {
     "base_uri": "https://localhost:8080/"
    },
    "executionInfo": {
     "elapsed": 7,
     "status": "ok",
     "timestamp": 1757155113023,
     "user": {
      "displayName": "kanishka",
      "userId": "06446069687320020031"
     },
     "user_tz": -330
    },
    "id": "vo1UXqQWmTGB",
    "outputId": "c94adc65-37ec-4e8f-db0d-b801f96ab4dd"
   },
   "outputs": [
    {
     "name": "stdout",
     "output_type": "stream",
     "text": [
      "(393, 100)\n",
      "(393,)\n"
     ]
    },
    {
     "data": {
      "text/plain": [
       "(None, None)"
      ]
     },
     "execution_count": 34,
     "metadata": {},
     "output_type": "execute_result"
    }
   ],
   "source": [
    "print(X_test.shape), print(ytest.shape)"
   ]
  },
  {
   "cell_type": "code",
   "execution_count": 35,
   "metadata": {
    "executionInfo": {
     "elapsed": 3,
     "status": "ok",
     "timestamp": 1757155114567,
     "user": {
      "displayName": "kanishka",
      "userId": "06446069687320020031"
     },
     "user_tz": -330
    },
    "id": "316M_Mo-mTGB"
   },
   "outputs": [],
   "source": [
    "# reshape input to be [samples, time steps, features] which is required for LSTM\n",
    "X_train =X_train.reshape(X_train.shape[0],X_train.shape[1] , 1)\n",
    "X_test = X_test.reshape(X_test.shape[0],X_test.shape[1] , 1)"
   ]
  },
  {
   "cell_type": "code",
   "execution_count": 36,
   "metadata": {
    "executionInfo": {
     "elapsed": 14,
     "status": "ok",
     "timestamp": 1757155115938,
     "user": {
      "displayName": "kanishka",
      "userId": "06446069687320020031"
     },
     "user_tz": -330
    },
    "id": "AALbAVBVmTGB"
   },
   "outputs": [],
   "source": [
    "### Create the Stacked LSTM model\n",
    "from tensorflow.keras.models import Sequential\n",
    "from tensorflow.keras.layers import Dense\n",
    "from tensorflow.keras.layers import LSTM"
   ]
  },
  {
   "cell_type": "code",
   "execution_count": 37,
   "metadata": {
    "executionInfo": {
     "elapsed": 2721,
     "status": "ok",
     "timestamp": 1757155122073,
     "user": {
      "displayName": "kanishka",
      "userId": "06446069687320020031"
     },
     "user_tz": -330
    },
    "id": "pV1qcUUmmTGB"
   },
   "outputs": [],
   "source": [
    "model=Sequential()\n",
    "model.add(LSTM(50,return_sequences=True,input_shape=(100,1)))\n",
    "model.add(LSTM(50,return_sequences=True))\n",
    "model.add(LSTM(50))\n",
    "model.add(Dense(1))\n",
    "model.compile(loss='mean_squared_error',optimizer='adam')\n"
   ]
  },
  {
   "cell_type": "code",
   "execution_count": 38,
   "metadata": {
    "colab": {
     "base_uri": "https://localhost:8080/",
     "height": 257
    },
    "executionInfo": {
     "elapsed": 21,
     "status": "ok",
     "timestamp": 1757155123361,
     "user": {
      "displayName": "kanishka",
      "userId": "06446069687320020031"
     },
     "user_tz": -330
    },
    "id": "dmiZqnvtmTGB",
    "outputId": "6a83174d-0a61-4543-d1d0-14c594fb1500"
   },
   "outputs": [
    {
     "data": {
      "text/html": [
       "<pre style=\"white-space:pre;overflow-x:auto;line-height:normal;font-family:Menlo,'DejaVu Sans Mono',consolas,'Courier New',monospace\"><span style=\"font-weight: bold\">Model: \"sequential\"</span>\n",
       "</pre>\n"
      ],
      "text/plain": [
       "\u001b[1mModel: \"sequential\"\u001b[0m\n"
      ]
     },
     "metadata": {},
     "output_type": "display_data"
    },
    {
     "data": {
      "text/html": [
       "<pre style=\"white-space:pre;overflow-x:auto;line-height:normal;font-family:Menlo,'DejaVu Sans Mono',consolas,'Courier New',monospace\">┏━━━━━━━━━━━━━━━━━━━━━━━━━━━━━━━━━┳━━━━━━━━━━━━━━━━━━━━━━━━┳━━━━━━━━━━━━━━━┓\n",
       "┃<span style=\"font-weight: bold\"> Layer (type)                    </span>┃<span style=\"font-weight: bold\"> Output Shape           </span>┃<span style=\"font-weight: bold\">       Param # </span>┃\n",
       "┡━━━━━━━━━━━━━━━━━━━━━━━━━━━━━━━━━╇━━━━━━━━━━━━━━━━━━━━━━━━╇━━━━━━━━━━━━━━━┩\n",
       "│ lstm (<span style=\"color: #0087ff; text-decoration-color: #0087ff\">LSTM</span>)                     │ (<span style=\"color: #00d7ff; text-decoration-color: #00d7ff\">None</span>, <span style=\"color: #00af00; text-decoration-color: #00af00\">100</span>, <span style=\"color: #00af00; text-decoration-color: #00af00\">50</span>)        │        <span style=\"color: #00af00; text-decoration-color: #00af00\">10,400</span> │\n",
       "├─────────────────────────────────┼────────────────────────┼───────────────┤\n",
       "│ lstm_1 (<span style=\"color: #0087ff; text-decoration-color: #0087ff\">LSTM</span>)                   │ (<span style=\"color: #00d7ff; text-decoration-color: #00d7ff\">None</span>, <span style=\"color: #00af00; text-decoration-color: #00af00\">100</span>, <span style=\"color: #00af00; text-decoration-color: #00af00\">50</span>)        │        <span style=\"color: #00af00; text-decoration-color: #00af00\">20,200</span> │\n",
       "├─────────────────────────────────┼────────────────────────┼───────────────┤\n",
       "│ lstm_2 (<span style=\"color: #0087ff; text-decoration-color: #0087ff\">LSTM</span>)                   │ (<span style=\"color: #00d7ff; text-decoration-color: #00d7ff\">None</span>, <span style=\"color: #00af00; text-decoration-color: #00af00\">50</span>)             │        <span style=\"color: #00af00; text-decoration-color: #00af00\">20,200</span> │\n",
       "├─────────────────────────────────┼────────────────────────┼───────────────┤\n",
       "│ dense (<span style=\"color: #0087ff; text-decoration-color: #0087ff\">Dense</span>)                   │ (<span style=\"color: #00d7ff; text-decoration-color: #00d7ff\">None</span>, <span style=\"color: #00af00; text-decoration-color: #00af00\">1</span>)              │            <span style=\"color: #00af00; text-decoration-color: #00af00\">51</span> │\n",
       "└─────────────────────────────────┴────────────────────────┴───────────────┘\n",
       "</pre>\n"
      ],
      "text/plain": [
       "┏━━━━━━━━━━━━━━━━━━━━━━━━━━━━━━━━━┳━━━━━━━━━━━━━━━━━━━━━━━━┳━━━━━━━━━━━━━━━┓\n",
       "┃\u001b[1m \u001b[0m\u001b[1mLayer (type)                   \u001b[0m\u001b[1m \u001b[0m┃\u001b[1m \u001b[0m\u001b[1mOutput Shape          \u001b[0m\u001b[1m \u001b[0m┃\u001b[1m \u001b[0m\u001b[1m      Param #\u001b[0m\u001b[1m \u001b[0m┃\n",
       "┡━━━━━━━━━━━━━━━━━━━━━━━━━━━━━━━━━╇━━━━━━━━━━━━━━━━━━━━━━━━╇━━━━━━━━━━━━━━━┩\n",
       "│ lstm (\u001b[38;5;33mLSTM\u001b[0m)                     │ (\u001b[38;5;45mNone\u001b[0m, \u001b[38;5;34m100\u001b[0m, \u001b[38;5;34m50\u001b[0m)        │        \u001b[38;5;34m10,400\u001b[0m │\n",
       "├─────────────────────────────────┼────────────────────────┼───────────────┤\n",
       "│ lstm_1 (\u001b[38;5;33mLSTM\u001b[0m)                   │ (\u001b[38;5;45mNone\u001b[0m, \u001b[38;5;34m100\u001b[0m, \u001b[38;5;34m50\u001b[0m)        │        \u001b[38;5;34m20,200\u001b[0m │\n",
       "├─────────────────────────────────┼────────────────────────┼───────────────┤\n",
       "│ lstm_2 (\u001b[38;5;33mLSTM\u001b[0m)                   │ (\u001b[38;5;45mNone\u001b[0m, \u001b[38;5;34m50\u001b[0m)             │        \u001b[38;5;34m20,200\u001b[0m │\n",
       "├─────────────────────────────────┼────────────────────────┼───────────────┤\n",
       "│ dense (\u001b[38;5;33mDense\u001b[0m)                   │ (\u001b[38;5;45mNone\u001b[0m, \u001b[38;5;34m1\u001b[0m)              │            \u001b[38;5;34m51\u001b[0m │\n",
       "└─────────────────────────────────┴────────────────────────┴───────────────┘\n"
      ]
     },
     "metadata": {},
     "output_type": "display_data"
    },
    {
     "data": {
      "text/html": [
       "<pre style=\"white-space:pre;overflow-x:auto;line-height:normal;font-family:Menlo,'DejaVu Sans Mono',consolas,'Courier New',monospace\"><span style=\"font-weight: bold\"> Total params: </span><span style=\"color: #00af00; text-decoration-color: #00af00\">50,851</span> (198.64 KB)\n",
       "</pre>\n"
      ],
      "text/plain": [
       "\u001b[1m Total params: \u001b[0m\u001b[38;5;34m50,851\u001b[0m (198.64 KB)\n"
      ]
     },
     "metadata": {},
     "output_type": "display_data"
    },
    {
     "data": {
      "text/html": [
       "<pre style=\"white-space:pre;overflow-x:auto;line-height:normal;font-family:Menlo,'DejaVu Sans Mono',consolas,'Courier New',monospace\"><span style=\"font-weight: bold\"> Trainable params: </span><span style=\"color: #00af00; text-decoration-color: #00af00\">50,851</span> (198.64 KB)\n",
       "</pre>\n"
      ],
      "text/plain": [
       "\u001b[1m Trainable params: \u001b[0m\u001b[38;5;34m50,851\u001b[0m (198.64 KB)\n"
      ]
     },
     "metadata": {},
     "output_type": "display_data"
    },
    {
     "data": {
      "text/html": [
       "<pre style=\"white-space:pre;overflow-x:auto;line-height:normal;font-family:Menlo,'DejaVu Sans Mono',consolas,'Courier New',monospace\"><span style=\"font-weight: bold\"> Non-trainable params: </span><span style=\"color: #00af00; text-decoration-color: #00af00\">0</span> (0.00 B)\n",
       "</pre>\n"
      ],
      "text/plain": [
       "\u001b[1m Non-trainable params: \u001b[0m\u001b[38;5;34m0\u001b[0m (0.00 B)\n"
      ]
     },
     "metadata": {},
     "output_type": "display_data"
    }
   ],
   "source": [
    "model.summary()"
   ]
  },
  {
   "cell_type": "code",
   "execution_count": 39,
   "metadata": {
    "colab": {
     "base_uri": "https://localhost:8080/",
     "height": 257
    },
    "executionInfo": {
     "elapsed": 24,
     "status": "ok",
     "timestamp": 1757155125784,
     "user": {
      "displayName": "kanishka",
      "userId": "06446069687320020031"
     },
     "user_tz": -330
    },
    "id": "zXg-YmK4mTGB",
    "outputId": "12bed6c2-a7f2-4454-d17b-d3e869fd949e"
   },
   "outputs": [
    {
     "data": {
      "text/html": [
       "<pre style=\"white-space:pre;overflow-x:auto;line-height:normal;font-family:Menlo,'DejaVu Sans Mono',consolas,'Courier New',monospace\"><span style=\"font-weight: bold\">Model: \"sequential\"</span>\n",
       "</pre>\n"
      ],
      "text/plain": [
       "\u001b[1mModel: \"sequential\"\u001b[0m\n"
      ]
     },
     "metadata": {},
     "output_type": "display_data"
    },
    {
     "data": {
      "text/html": [
       "<pre style=\"white-space:pre;overflow-x:auto;line-height:normal;font-family:Menlo,'DejaVu Sans Mono',consolas,'Courier New',monospace\">┏━━━━━━━━━━━━━━━━━━━━━━━━━━━━━━━━━┳━━━━━━━━━━━━━━━━━━━━━━━━┳━━━━━━━━━━━━━━━┓\n",
       "┃<span style=\"font-weight: bold\"> Layer (type)                    </span>┃<span style=\"font-weight: bold\"> Output Shape           </span>┃<span style=\"font-weight: bold\">       Param # </span>┃\n",
       "┡━━━━━━━━━━━━━━━━━━━━━━━━━━━━━━━━━╇━━━━━━━━━━━━━━━━━━━━━━━━╇━━━━━━━━━━━━━━━┩\n",
       "│ lstm (<span style=\"color: #0087ff; text-decoration-color: #0087ff\">LSTM</span>)                     │ (<span style=\"color: #00d7ff; text-decoration-color: #00d7ff\">None</span>, <span style=\"color: #00af00; text-decoration-color: #00af00\">100</span>, <span style=\"color: #00af00; text-decoration-color: #00af00\">50</span>)        │        <span style=\"color: #00af00; text-decoration-color: #00af00\">10,400</span> │\n",
       "├─────────────────────────────────┼────────────────────────┼───────────────┤\n",
       "│ lstm_1 (<span style=\"color: #0087ff; text-decoration-color: #0087ff\">LSTM</span>)                   │ (<span style=\"color: #00d7ff; text-decoration-color: #00d7ff\">None</span>, <span style=\"color: #00af00; text-decoration-color: #00af00\">100</span>, <span style=\"color: #00af00; text-decoration-color: #00af00\">50</span>)        │        <span style=\"color: #00af00; text-decoration-color: #00af00\">20,200</span> │\n",
       "├─────────────────────────────────┼────────────────────────┼───────────────┤\n",
       "│ lstm_2 (<span style=\"color: #0087ff; text-decoration-color: #0087ff\">LSTM</span>)                   │ (<span style=\"color: #00d7ff; text-decoration-color: #00d7ff\">None</span>, <span style=\"color: #00af00; text-decoration-color: #00af00\">50</span>)             │        <span style=\"color: #00af00; text-decoration-color: #00af00\">20,200</span> │\n",
       "├─────────────────────────────────┼────────────────────────┼───────────────┤\n",
       "│ dense (<span style=\"color: #0087ff; text-decoration-color: #0087ff\">Dense</span>)                   │ (<span style=\"color: #00d7ff; text-decoration-color: #00d7ff\">None</span>, <span style=\"color: #00af00; text-decoration-color: #00af00\">1</span>)              │            <span style=\"color: #00af00; text-decoration-color: #00af00\">51</span> │\n",
       "└─────────────────────────────────┴────────────────────────┴───────────────┘\n",
       "</pre>\n"
      ],
      "text/plain": [
       "┏━━━━━━━━━━━━━━━━━━━━━━━━━━━━━━━━━┳━━━━━━━━━━━━━━━━━━━━━━━━┳━━━━━━━━━━━━━━━┓\n",
       "┃\u001b[1m \u001b[0m\u001b[1mLayer (type)                   \u001b[0m\u001b[1m \u001b[0m┃\u001b[1m \u001b[0m\u001b[1mOutput Shape          \u001b[0m\u001b[1m \u001b[0m┃\u001b[1m \u001b[0m\u001b[1m      Param #\u001b[0m\u001b[1m \u001b[0m┃\n",
       "┡━━━━━━━━━━━━━━━━━━━━━━━━━━━━━━━━━╇━━━━━━━━━━━━━━━━━━━━━━━━╇━━━━━━━━━━━━━━━┩\n",
       "│ lstm (\u001b[38;5;33mLSTM\u001b[0m)                     │ (\u001b[38;5;45mNone\u001b[0m, \u001b[38;5;34m100\u001b[0m, \u001b[38;5;34m50\u001b[0m)        │        \u001b[38;5;34m10,400\u001b[0m │\n",
       "├─────────────────────────────────┼────────────────────────┼───────────────┤\n",
       "│ lstm_1 (\u001b[38;5;33mLSTM\u001b[0m)                   │ (\u001b[38;5;45mNone\u001b[0m, \u001b[38;5;34m100\u001b[0m, \u001b[38;5;34m50\u001b[0m)        │        \u001b[38;5;34m20,200\u001b[0m │\n",
       "├─────────────────────────────────┼────────────────────────┼───────────────┤\n",
       "│ lstm_2 (\u001b[38;5;33mLSTM\u001b[0m)                   │ (\u001b[38;5;45mNone\u001b[0m, \u001b[38;5;34m50\u001b[0m)             │        \u001b[38;5;34m20,200\u001b[0m │\n",
       "├─────────────────────────────────┼────────────────────────┼───────────────┤\n",
       "│ dense (\u001b[38;5;33mDense\u001b[0m)                   │ (\u001b[38;5;45mNone\u001b[0m, \u001b[38;5;34m1\u001b[0m)              │            \u001b[38;5;34m51\u001b[0m │\n",
       "└─────────────────────────────────┴────────────────────────┴───────────────┘\n"
      ]
     },
     "metadata": {},
     "output_type": "display_data"
    },
    {
     "data": {
      "text/html": [
       "<pre style=\"white-space:pre;overflow-x:auto;line-height:normal;font-family:Menlo,'DejaVu Sans Mono',consolas,'Courier New',monospace\"><span style=\"font-weight: bold\"> Total params: </span><span style=\"color: #00af00; text-decoration-color: #00af00\">50,851</span> (198.64 KB)\n",
       "</pre>\n"
      ],
      "text/plain": [
       "\u001b[1m Total params: \u001b[0m\u001b[38;5;34m50,851\u001b[0m (198.64 KB)\n"
      ]
     },
     "metadata": {},
     "output_type": "display_data"
    },
    {
     "data": {
      "text/html": [
       "<pre style=\"white-space:pre;overflow-x:auto;line-height:normal;font-family:Menlo,'DejaVu Sans Mono',consolas,'Courier New',monospace\"><span style=\"font-weight: bold\"> Trainable params: </span><span style=\"color: #00af00; text-decoration-color: #00af00\">50,851</span> (198.64 KB)\n",
       "</pre>\n"
      ],
      "text/plain": [
       "\u001b[1m Trainable params: \u001b[0m\u001b[38;5;34m50,851\u001b[0m (198.64 KB)\n"
      ]
     },
     "metadata": {},
     "output_type": "display_data"
    },
    {
     "data": {
      "text/html": [
       "<pre style=\"white-space:pre;overflow-x:auto;line-height:normal;font-family:Menlo,'DejaVu Sans Mono',consolas,'Courier New',monospace\"><span style=\"font-weight: bold\"> Non-trainable params: </span><span style=\"color: #00af00; text-decoration-color: #00af00\">0</span> (0.00 B)\n",
       "</pre>\n"
      ],
      "text/plain": [
       "\u001b[1m Non-trainable params: \u001b[0m\u001b[38;5;34m0\u001b[0m (0.00 B)\n"
      ]
     },
     "metadata": {},
     "output_type": "display_data"
    }
   ],
   "source": [
    "model.summary()"
   ]
  },
  {
   "cell_type": "code",
   "execution_count": null,
   "metadata": {
    "executionInfo": {
     "elapsed": 16,
     "status": "ok",
     "timestamp": 1757155127091,
     "user": {
      "displayName": "kanishka",
      "userId": "06446069687320020031"
     },
     "user_tz": -330
    },
    "id": "_Yu-JTd-mTGB"
   },
   "outputs": [],
   "source": []
  },
  {
   "cell_type": "code",
   "execution_count": 40,
   "metadata": {
    "colab": {
     "base_uri": "https://localhost:8080/"
    },
    "collapsed": true,
    "executionInfo": {
     "elapsed": 35489,
     "status": "ok",
     "timestamp": 1757155163710,
     "user": {
      "displayName": "kanishka",
      "userId": "06446069687320020031"
     },
     "user_tz": -330
    },
    "id": "L9HyFzMMmTGC",
    "outputId": "8d55bc4b-7ccb-4a28-fa74-a42d626e1483"
   },
   "outputs": [
    {
     "name": "stdout",
     "output_type": "stream",
     "text": [
      "Epoch 1/100\n",
      "\u001b[1m13/13\u001b[0m \u001b[32m━━━━━━━━━━━━━━━━━━━━\u001b[0m\u001b[37m\u001b[0m \u001b[1m11s\u001b[0m 220ms/step - loss: 0.0123 - val_loss: 0.1482\n",
      "Epoch 2/100\n",
      "\u001b[1m13/13\u001b[0m \u001b[32m━━━━━━━━━━━━━━━━━━━━\u001b[0m\u001b[37m\u001b[0m \u001b[1m4s\u001b[0m 134ms/step - loss: 0.0025 - val_loss: 0.0376\n",
      "Epoch 3/100\n",
      "\u001b[1m13/13\u001b[0m \u001b[32m━━━━━━━━━━━━━━━━━━━━\u001b[0m\u001b[37m\u001b[0m \u001b[1m2s\u001b[0m 132ms/step - loss: 7.0280e-04 - val_loss: 0.0045\n",
      "Epoch 4/100\n",
      "\u001b[1m13/13\u001b[0m \u001b[32m━━━━━━━━━━━━━━━━━━━━\u001b[0m\u001b[37m\u001b[0m \u001b[1m2s\u001b[0m 132ms/step - loss: 3.4099e-04 - val_loss: 0.0029\n",
      "Epoch 5/100\n",
      "\u001b[1m13/13\u001b[0m \u001b[32m━━━━━━━━━━━━━━━━━━━━\u001b[0m\u001b[37m\u001b[0m \u001b[1m2s\u001b[0m 128ms/step - loss: 2.9423e-04 - val_loss: 0.0068\n",
      "Epoch 6/100\n",
      "\u001b[1m13/13\u001b[0m \u001b[32m━━━━━━━━━━━━━━━━━━━━\u001b[0m\u001b[37m\u001b[0m \u001b[1m2s\u001b[0m 127ms/step - loss: 2.7932e-04 - val_loss: 0.0065\n",
      "Epoch 7/100\n",
      "\u001b[1m13/13\u001b[0m \u001b[32m━━━━━━━━━━━━━━━━━━━━\u001b[0m\u001b[37m\u001b[0m \u001b[1m2s\u001b[0m 132ms/step - loss: 2.8279e-04 - val_loss: 0.0061\n",
      "Epoch 8/100\n",
      "\u001b[1m13/13\u001b[0m \u001b[32m━━━━━━━━━━━━━━━━━━━━\u001b[0m\u001b[37m\u001b[0m \u001b[1m2s\u001b[0m 123ms/step - loss: 2.7885e-04 - val_loss: 0.0080\n",
      "Epoch 9/100\n",
      "\u001b[1m13/13\u001b[0m \u001b[32m━━━━━━━━━━━━━━━━━━━━\u001b[0m\u001b[37m\u001b[0m \u001b[1m2s\u001b[0m 115ms/step - loss: 2.6471e-04 - val_loss: 0.0093\n",
      "Epoch 10/100\n",
      "\u001b[1m13/13\u001b[0m \u001b[32m━━━━━━━━━━━━━━━━━━━━\u001b[0m\u001b[37m\u001b[0m \u001b[1m2s\u001b[0m 121ms/step - loss: 2.6438e-04 - val_loss: 0.0091\n",
      "Epoch 11/100\n",
      "\u001b[1m13/13\u001b[0m \u001b[32m━━━━━━━━━━━━━━━━━━━━\u001b[0m\u001b[37m\u001b[0m \u001b[1m2s\u001b[0m 123ms/step - loss: 2.5765e-04 - val_loss: 0.0092\n",
      "Epoch 12/100\n",
      "\u001b[1m13/13\u001b[0m \u001b[32m━━━━━━━━━━━━━━━━━━━━\u001b[0m\u001b[37m\u001b[0m \u001b[1m2s\u001b[0m 123ms/step - loss: 2.5829e-04 - val_loss: 0.0082\n",
      "Epoch 13/100\n",
      "\u001b[1m13/13\u001b[0m \u001b[32m━━━━━━━━━━━━━━━━━━━━\u001b[0m\u001b[37m\u001b[0m \u001b[1m2s\u001b[0m 135ms/step - loss: 2.6283e-04 - val_loss: 0.0076\n",
      "Epoch 14/100\n",
      "\u001b[1m13/13\u001b[0m \u001b[32m━━━━━━━━━━━━━━━━━━━━\u001b[0m\u001b[37m\u001b[0m \u001b[1m2s\u001b[0m 131ms/step - loss: 2.6487e-04 - val_loss: 0.0088\n",
      "Epoch 15/100\n",
      "\u001b[1m13/13\u001b[0m \u001b[32m━━━━━━━━━━━━━━━━━━━━\u001b[0m\u001b[37m\u001b[0m \u001b[1m3s\u001b[0m 147ms/step - loss: 2.7214e-04 - val_loss: 0.0072\n",
      "Epoch 16/100\n",
      "\u001b[1m13/13\u001b[0m \u001b[32m━━━━━━━━━━━━━━━━━━━━\u001b[0m\u001b[37m\u001b[0m \u001b[1m2s\u001b[0m 152ms/step - loss: 2.5541e-04 - val_loss: 0.0097\n",
      "Epoch 17/100\n",
      "\u001b[1m13/13\u001b[0m \u001b[32m━━━━━━━━━━━━━━━━━━━━\u001b[0m\u001b[37m\u001b[0m \u001b[1m2s\u001b[0m 138ms/step - loss: 2.5015e-04 - val_loss: 0.0083\n",
      "Epoch 18/100\n",
      "\u001b[1m13/13\u001b[0m \u001b[32m━━━━━━━━━━━━━━━━━━━━\u001b[0m\u001b[37m\u001b[0m \u001b[1m2s\u001b[0m 158ms/step - loss: 2.4986e-04 - val_loss: 0.0065\n",
      "Epoch 19/100\n",
      "\u001b[1m13/13\u001b[0m \u001b[32m━━━━━━━━━━━━━━━━━━━━\u001b[0m\u001b[37m\u001b[0m \u001b[1m2s\u001b[0m 146ms/step - loss: 2.4426e-04 - val_loss: 0.0088\n",
      "Epoch 20/100\n",
      "\u001b[1m13/13\u001b[0m \u001b[32m━━━━━━━━━━━━━━━━━━━━\u001b[0m\u001b[37m\u001b[0m \u001b[1m2s\u001b[0m 132ms/step - loss: 2.4964e-04 - val_loss: 0.0065\n",
      "Epoch 21/100\n",
      "\u001b[1m13/13\u001b[0m \u001b[32m━━━━━━━━━━━━━━━━━━━━\u001b[0m\u001b[37m\u001b[0m \u001b[1m2s\u001b[0m 136ms/step - loss: 2.4731e-04 - val_loss: 0.0062\n",
      "Epoch 22/100\n",
      "\u001b[1m13/13\u001b[0m \u001b[32m━━━━━━━━━━━━━━━━━━━━\u001b[0m\u001b[37m\u001b[0m \u001b[1m2s\u001b[0m 147ms/step - loss: 2.5167e-04 - val_loss: 0.0069\n",
      "Epoch 23/100\n",
      "\u001b[1m13/13\u001b[0m \u001b[32m━━━━━━━━━━━━━━━━━━━━\u001b[0m\u001b[37m\u001b[0m \u001b[1m2s\u001b[0m 142ms/step - loss: 2.4141e-04 - val_loss: 0.0066\n",
      "Epoch 24/100\n",
      "\u001b[1m13/13\u001b[0m \u001b[32m━━━━━━━━━━━━━━━━━━━━\u001b[0m\u001b[37m\u001b[0m \u001b[1m2s\u001b[0m 128ms/step - loss: 2.4781e-04 - val_loss: 0.0064\n",
      "Epoch 25/100\n",
      "\u001b[1m13/13\u001b[0m \u001b[32m━━━━━━━━━━━━━━━━━━━━\u001b[0m\u001b[37m\u001b[0m \u001b[1m2s\u001b[0m 133ms/step - loss: 2.4347e-04 - val_loss: 0.0059\n",
      "Epoch 26/100\n",
      "\u001b[1m13/13\u001b[0m \u001b[32m━━━━━━━━━━━━━━━━━━━━\u001b[0m\u001b[37m\u001b[0m \u001b[1m2s\u001b[0m 132ms/step - loss: 2.3981e-04 - val_loss: 0.0068\n",
      "Epoch 27/100\n",
      "\u001b[1m13/13\u001b[0m \u001b[32m━━━━━━━━━━━━━━━━━━━━\u001b[0m\u001b[37m\u001b[0m \u001b[1m2s\u001b[0m 143ms/step - loss: 2.3850e-04 - val_loss: 0.0059\n",
      "Epoch 28/100\n",
      "\u001b[1m13/13\u001b[0m \u001b[32m━━━━━━━━━━━━━━━━━━━━\u001b[0m\u001b[37m\u001b[0m \u001b[1m2s\u001b[0m 144ms/step - loss: 2.3550e-04 - val_loss: 0.0047\n",
      "Epoch 29/100\n",
      "\u001b[1m13/13\u001b[0m \u001b[32m━━━━━━━━━━━━━━━━━━━━\u001b[0m\u001b[37m\u001b[0m \u001b[1m2s\u001b[0m 145ms/step - loss: 2.3490e-04 - val_loss: 0.0071\n",
      "Epoch 30/100\n",
      "\u001b[1m13/13\u001b[0m \u001b[32m━━━━━━━━━━━━━━━━━━━━\u001b[0m\u001b[37m\u001b[0m \u001b[1m2s\u001b[0m 141ms/step - loss: 2.3203e-04 - val_loss: 0.0044\n",
      "Epoch 31/100\n",
      "\u001b[1m13/13\u001b[0m \u001b[32m━━━━━━━━━━━━━━━━━━━━\u001b[0m\u001b[37m\u001b[0m \u001b[1m2s\u001b[0m 147ms/step - loss: 2.3065e-04 - val_loss: 0.0050\n",
      "Epoch 32/100\n",
      "\u001b[1m13/13\u001b[0m \u001b[32m━━━━━━━━━━━━━━━━━━━━\u001b[0m\u001b[37m\u001b[0m \u001b[1m2s\u001b[0m 135ms/step - loss: 2.2663e-04 - val_loss: 0.0048\n",
      "Epoch 33/100\n",
      "\u001b[1m13/13\u001b[0m \u001b[32m━━━━━━━━━━━━━━━━━━━━\u001b[0m\u001b[37m\u001b[0m \u001b[1m2s\u001b[0m 130ms/step - loss: 2.2536e-04 - val_loss: 0.0040\n",
      "Epoch 34/100\n",
      "\u001b[1m13/13\u001b[0m \u001b[32m━━━━━━━━━━━━━━━━━━━━\u001b[0m\u001b[37m\u001b[0m \u001b[1m2s\u001b[0m 131ms/step - loss: 2.2475e-04 - val_loss: 0.0046\n",
      "Epoch 35/100\n",
      "\u001b[1m13/13\u001b[0m \u001b[32m━━━━━━━━━━━━━━━━━━━━\u001b[0m\u001b[37m\u001b[0m \u001b[1m2s\u001b[0m 144ms/step - loss: 2.3299e-04 - val_loss: 0.0051\n",
      "Epoch 36/100\n",
      "\u001b[1m13/13\u001b[0m \u001b[32m━━━━━━━━━━━━━━━━━━━━\u001b[0m\u001b[37m\u001b[0m \u001b[1m2s\u001b[0m 174ms/step - loss: 2.4678e-04 - val_loss: 0.0055\n",
      "Epoch 37/100\n",
      "\u001b[1m13/13\u001b[0m \u001b[32m━━━━━━━━━━━━━━━━━━━━\u001b[0m\u001b[37m\u001b[0m \u001b[1m2s\u001b[0m 154ms/step - loss: 2.2274e-04 - val_loss: 0.0029\n",
      "Epoch 38/100\n",
      "\u001b[1m13/13\u001b[0m \u001b[32m━━━━━━━━━━━━━━━━━━━━\u001b[0m\u001b[37m\u001b[0m \u001b[1m3s\u001b[0m 149ms/step - loss: 2.2537e-04 - val_loss: 0.0048\n",
      "Epoch 39/100\n",
      "\u001b[1m13/13\u001b[0m \u001b[32m━━━━━━━━━━━━━━━━━━━━\u001b[0m\u001b[37m\u001b[0m \u001b[1m2s\u001b[0m 155ms/step - loss: 2.2083e-04 - val_loss: 0.0064\n",
      "Epoch 40/100\n",
      "\u001b[1m13/13\u001b[0m \u001b[32m━━━━━━━━━━━━━━━━━━━━\u001b[0m\u001b[37m\u001b[0m \u001b[1m2s\u001b[0m 146ms/step - loss: 2.3821e-04 - val_loss: 0.0043\n",
      "Epoch 41/100\n",
      "\u001b[1m13/13\u001b[0m \u001b[32m━━━━━━━━━━━━━━━━━━━━\u001b[0m\u001b[37m\u001b[0m \u001b[1m3s\u001b[0m 148ms/step - loss: 2.1713e-04 - val_loss: 0.0036\n",
      "Epoch 42/100\n",
      "\u001b[1m13/13\u001b[0m \u001b[32m━━━━━━━━━━━━━━━━━━━━\u001b[0m\u001b[37m\u001b[0m \u001b[1m3s\u001b[0m 156ms/step - loss: 2.1671e-04 - val_loss: 0.0048\n",
      "Epoch 43/100\n",
      "\u001b[1m13/13\u001b[0m \u001b[32m━━━━━━━━━━━━━━━━━━━━\u001b[0m\u001b[37m\u001b[0m \u001b[1m2s\u001b[0m 172ms/step - loss: 2.1406e-04 - val_loss: 0.0029\n",
      "Epoch 44/100\n",
      "\u001b[1m13/13\u001b[0m \u001b[32m━━━━━━━━━━━━━━━━━━━━\u001b[0m\u001b[37m\u001b[0m \u001b[1m2s\u001b[0m 155ms/step - loss: 2.3303e-04 - val_loss: 0.0053\n",
      "Epoch 45/100\n",
      "\u001b[1m13/13\u001b[0m \u001b[32m━━━━━━━━━━━━━━━━━━━━\u001b[0m\u001b[37m\u001b[0m \u001b[1m2s\u001b[0m 161ms/step - loss: 2.2175e-04 - val_loss: 0.0056\n",
      "Epoch 46/100\n",
      "\u001b[1m13/13\u001b[0m \u001b[32m━━━━━━━━━━━━━━━━━━━━\u001b[0m\u001b[37m\u001b[0m \u001b[1m2s\u001b[0m 153ms/step - loss: 2.4793e-04 - val_loss: 0.0039\n",
      "Epoch 47/100\n",
      "\u001b[1m13/13\u001b[0m \u001b[32m━━━━━━━━━━━━━━━━━━━━\u001b[0m\u001b[37m\u001b[0m \u001b[1m2s\u001b[0m 150ms/step - loss: 2.1717e-04 - val_loss: 0.0034\n",
      "Epoch 48/100\n",
      "\u001b[1m13/13\u001b[0m \u001b[32m━━━━━━━━━━━━━━━━━━━━\u001b[0m\u001b[37m\u001b[0m \u001b[1m2s\u001b[0m 158ms/step - loss: 2.0722e-04 - val_loss: 0.0048\n",
      "Epoch 49/100\n",
      "\u001b[1m13/13\u001b[0m \u001b[32m━━━━━━━━━━━━━━━━━━━━\u001b[0m\u001b[37m\u001b[0m \u001b[1m2s\u001b[0m 141ms/step - loss: 2.2267e-04 - val_loss: 0.0054\n",
      "Epoch 50/100\n",
      "\u001b[1m13/13\u001b[0m \u001b[32m━━━━━━━━━━━━━━━━━━━━\u001b[0m\u001b[37m\u001b[0m \u001b[1m2s\u001b[0m 134ms/step - loss: 2.1907e-04 - val_loss: 0.0032\n",
      "Epoch 51/100\n",
      "\u001b[1m13/13\u001b[0m \u001b[32m━━━━━━━━━━━━━━━━━━━━\u001b[0m\u001b[37m\u001b[0m \u001b[1m2s\u001b[0m 142ms/step - loss: 2.0733e-04 - val_loss: 0.0017\n",
      "Epoch 52/100\n",
      "\u001b[1m13/13\u001b[0m \u001b[32m━━━━━━━━━━━━━━━━━━━━\u001b[0m\u001b[37m\u001b[0m \u001b[1m2s\u001b[0m 134ms/step - loss: 2.0774e-04 - val_loss: 0.0029\n",
      "Epoch 53/100\n",
      "\u001b[1m13/13\u001b[0m \u001b[32m━━━━━━━━━━━━━━━━━━━━\u001b[0m\u001b[37m\u001b[0m \u001b[1m2s\u001b[0m 136ms/step - loss: 2.0637e-04 - val_loss: 0.0019\n",
      "Epoch 54/100\n",
      "\u001b[1m13/13\u001b[0m \u001b[32m━━━━━━━━━━━━━━━━━━━━\u001b[0m\u001b[37m\u001b[0m \u001b[1m2s\u001b[0m 127ms/step - loss: 2.0993e-04 - val_loss: 0.0031\n",
      "Epoch 55/100\n",
      "\u001b[1m13/13\u001b[0m \u001b[32m━━━━━━━━━━━━━━━━━━━━\u001b[0m\u001b[37m\u001b[0m \u001b[1m2s\u001b[0m 121ms/step - loss: 1.9666e-04 - val_loss: 0.0052\n",
      "Epoch 56/100\n",
      "\u001b[1m13/13\u001b[0m \u001b[32m━━━━━━━━━━━━━━━━━━━━\u001b[0m\u001b[37m\u001b[0m \u001b[1m2s\u001b[0m 119ms/step - loss: 2.0154e-04 - val_loss: 0.0035\n",
      "Epoch 57/100\n",
      "\u001b[1m13/13\u001b[0m \u001b[32m━━━━━━━━━━━━━━━━━━━━\u001b[0m\u001b[37m\u001b[0m \u001b[1m2s\u001b[0m 144ms/step - loss: 2.0229e-04 - val_loss: 0.0024\n",
      "Epoch 58/100\n",
      "\u001b[1m13/13\u001b[0m \u001b[32m━━━━━━━━━━━━━━━━━━━━\u001b[0m\u001b[37m\u001b[0m \u001b[1m2s\u001b[0m 143ms/step - loss: 1.8509e-04 - val_loss: 0.0026\n",
      "Epoch 59/100\n",
      "\u001b[1m13/13\u001b[0m \u001b[32m━━━━━━━━━━━━━━━━━━━━\u001b[0m\u001b[37m\u001b[0m \u001b[1m2s\u001b[0m 135ms/step - loss: 1.8346e-04 - val_loss: 0.0025\n",
      "Epoch 60/100\n",
      "\u001b[1m13/13\u001b[0m \u001b[32m━━━━━━━━━━━━━━━━━━━━\u001b[0m\u001b[37m\u001b[0m \u001b[1m2s\u001b[0m 146ms/step - loss: 1.8844e-04 - val_loss: 0.0012\n",
      "Epoch 61/100\n",
      "\u001b[1m13/13\u001b[0m \u001b[32m━━━━━━━━━━━━━━━━━━━━\u001b[0m\u001b[37m\u001b[0m \u001b[1m2s\u001b[0m 148ms/step - loss: 2.0581e-04 - val_loss: 0.0014\n",
      "Epoch 62/100\n",
      "\u001b[1m13/13\u001b[0m \u001b[32m━━━━━━━━━━━━━━━━━━━━\u001b[0m\u001b[37m\u001b[0m \u001b[1m2s\u001b[0m 145ms/step - loss: 2.0052e-04 - val_loss: 0.0016\n",
      "Epoch 63/100\n",
      "\u001b[1m13/13\u001b[0m \u001b[32m━━━━━━━━━━━━━━━━━━━━\u001b[0m\u001b[37m\u001b[0m \u001b[1m2s\u001b[0m 130ms/step - loss: 1.9405e-04 - val_loss: 0.0030\n",
      "Epoch 64/100\n",
      "\u001b[1m13/13\u001b[0m \u001b[32m━━━━━━━━━━━━━━━━━━━━\u001b[0m\u001b[37m\u001b[0m \u001b[1m1s\u001b[0m 106ms/step - loss: 1.7537e-04 - val_loss: 0.0024\n",
      "Epoch 65/100\n",
      "\u001b[1m13/13\u001b[0m \u001b[32m━━━━━━━━━━━━━━━━━━━━\u001b[0m\u001b[37m\u001b[0m \u001b[1m1s\u001b[0m 115ms/step - loss: 1.7378e-04 - val_loss: 0.0024\n",
      "Epoch 66/100\n",
      "\u001b[1m13/13\u001b[0m \u001b[32m━━━━━━━━━━━━━━━━━━━━\u001b[0m\u001b[37m\u001b[0m \u001b[1m2s\u001b[0m 147ms/step - loss: 1.7139e-04 - val_loss: 0.0021\n",
      "Epoch 67/100\n",
      "\u001b[1m13/13\u001b[0m \u001b[32m━━━━━━━━━━━━━━━━━━━━\u001b[0m\u001b[37m\u001b[0m \u001b[1m2s\u001b[0m 149ms/step - loss: 1.7608e-04 - val_loss: 0.0036\n",
      "Epoch 68/100\n",
      "\u001b[1m13/13\u001b[0m \u001b[32m━━━━━━━━━━━━━━━━━━━━\u001b[0m\u001b[37m\u001b[0m \u001b[1m2s\u001b[0m 142ms/step - loss: 1.7238e-04 - val_loss: 0.0017\n",
      "Epoch 69/100\n",
      "\u001b[1m13/13\u001b[0m \u001b[32m━━━━━━━━━━━━━━━━━━━━\u001b[0m\u001b[37m\u001b[0m \u001b[1m2s\u001b[0m 137ms/step - loss: 2.1653e-04 - val_loss: 0.0028\n",
      "Epoch 70/100\n",
      "\u001b[1m13/13\u001b[0m \u001b[32m━━━━━━━━━━━━━━━━━━━━\u001b[0m\u001b[37m\u001b[0m \u001b[1m2s\u001b[0m 142ms/step - loss: 2.5440e-04 - val_loss: 0.0047\n",
      "Epoch 71/100\n",
      "\u001b[1m13/13\u001b[0m \u001b[32m━━━━━━━━━━━━━━━━━━━━\u001b[0m\u001b[37m\u001b[0m \u001b[1m2s\u001b[0m 162ms/step - loss: 1.9532e-04 - val_loss: 0.0054\n",
      "Epoch 72/100\n",
      "\u001b[1m13/13\u001b[0m \u001b[32m━━━━━━━━━━━━━━━━━━━━\u001b[0m\u001b[37m\u001b[0m \u001b[1m3s\u001b[0m 156ms/step - loss: 1.7351e-04 - val_loss: 0.0021\n",
      "Epoch 73/100\n",
      "\u001b[1m13/13\u001b[0m \u001b[32m━━━━━━━━━━━━━━━━━━━━\u001b[0m\u001b[37m\u001b[0m \u001b[1m2s\u001b[0m 160ms/step - loss: 1.7427e-04 - val_loss: 0.0016\n",
      "Epoch 74/100\n",
      "\u001b[1m13/13\u001b[0m \u001b[32m━━━━━━━━━━━━━━━━━━━━\u001b[0m\u001b[37m\u001b[0m \u001b[1m2s\u001b[0m 142ms/step - loss: 1.7721e-04 - val_loss: 0.0011\n",
      "Epoch 75/100\n",
      "\u001b[1m13/13\u001b[0m \u001b[32m━━━━━━━━━━━━━━━━━━━━\u001b[0m\u001b[37m\u001b[0m \u001b[1m2s\u001b[0m 131ms/step - loss: 1.5918e-04 - val_loss: 0.0023\n",
      "Epoch 76/100\n",
      "\u001b[1m13/13\u001b[0m \u001b[32m━━━━━━━━━━━━━━━━━━━━\u001b[0m\u001b[37m\u001b[0m \u001b[1m2s\u001b[0m 131ms/step - loss: 1.5527e-04 - val_loss: 0.0018\n",
      "Epoch 77/100\n",
      "\u001b[1m13/13\u001b[0m \u001b[32m━━━━━━━━━━━━━━━━━━━━\u001b[0m\u001b[37m\u001b[0m \u001b[1m2s\u001b[0m 122ms/step - loss: 1.5703e-04 - val_loss: 0.0014\n",
      "Epoch 78/100\n",
      "\u001b[1m13/13\u001b[0m \u001b[32m━━━━━━━━━━━━━━━━━━━━\u001b[0m\u001b[37m\u001b[0m \u001b[1m2s\u001b[0m 167ms/step - loss: 1.5543e-04 - val_loss: 0.0019\n",
      "Epoch 79/100\n",
      "\u001b[1m13/13\u001b[0m \u001b[32m━━━━━━━━━━━━━━━━━━━━\u001b[0m\u001b[37m\u001b[0m \u001b[1m2s\u001b[0m 170ms/step - loss: 1.5951e-04 - val_loss: 0.0033\n",
      "Epoch 80/100\n",
      "\u001b[1m13/13\u001b[0m \u001b[32m━━━━━━━━━━━━━━━━━━━━\u001b[0m\u001b[37m\u001b[0m \u001b[1m2s\u001b[0m 144ms/step - loss: 1.4979e-04 - val_loss: 0.0015\n",
      "Epoch 81/100\n",
      "\u001b[1m13/13\u001b[0m \u001b[32m━━━━━━━━━━━━━━━━━━━━\u001b[0m\u001b[37m\u001b[0m \u001b[1m2s\u001b[0m 140ms/step - loss: 1.4675e-04 - val_loss: 0.0015\n",
      "Epoch 82/100\n",
      "\u001b[1m13/13\u001b[0m \u001b[32m━━━━━━━━━━━━━━━━━━━━\u001b[0m\u001b[37m\u001b[0m \u001b[1m2s\u001b[0m 156ms/step - loss: 1.5422e-04 - val_loss: 0.0023\n",
      "Epoch 83/100\n",
      "\u001b[1m13/13\u001b[0m \u001b[32m━━━━━━━━━━━━━━━━━━━━\u001b[0m\u001b[37m\u001b[0m \u001b[1m2s\u001b[0m 152ms/step - loss: 1.7542e-04 - val_loss: 0.0046\n",
      "Epoch 84/100\n",
      "\u001b[1m13/13\u001b[0m \u001b[32m━━━━━━━━━━━━━━━━━━━━\u001b[0m\u001b[37m\u001b[0m \u001b[1m2s\u001b[0m 147ms/step - loss: 1.9848e-04 - val_loss: 0.0027\n",
      "Epoch 85/100\n",
      "\u001b[1m13/13\u001b[0m \u001b[32m━━━━━━━━━━━━━━━━━━━━\u001b[0m\u001b[37m\u001b[0m \u001b[1m2s\u001b[0m 139ms/step - loss: 1.5748e-04 - val_loss: 0.0033\n",
      "Epoch 86/100\n",
      "\u001b[1m13/13\u001b[0m \u001b[32m━━━━━━━━━━━━━━━━━━━━\u001b[0m\u001b[37m\u001b[0m \u001b[1m2s\u001b[0m 118ms/step - loss: 1.4718e-04 - val_loss: 0.0027\n",
      "Epoch 87/100\n",
      "\u001b[1m13/13\u001b[0m \u001b[32m━━━━━━━━━━━━━━━━━━━━\u001b[0m\u001b[37m\u001b[0m \u001b[1m2s\u001b[0m 163ms/step - loss: 1.6142e-04 - val_loss: 0.0025\n",
      "Epoch 88/100\n",
      "\u001b[1m13/13\u001b[0m \u001b[32m━━━━━━━━━━━━━━━━━━━━\u001b[0m\u001b[37m\u001b[0m \u001b[1m2s\u001b[0m 150ms/step - loss: 1.3767e-04 - val_loss: 0.0017\n",
      "Epoch 89/100\n",
      "\u001b[1m13/13\u001b[0m \u001b[32m━━━━━━━━━━━━━━━━━━━━\u001b[0m\u001b[37m\u001b[0m \u001b[1m2s\u001b[0m 138ms/step - loss: 1.3608e-04 - val_loss: 0.0020\n",
      "Epoch 90/100\n",
      "\u001b[1m13/13\u001b[0m \u001b[32m━━━━━━━━━━━━━━━━━━━━\u001b[0m\u001b[37m\u001b[0m \u001b[1m2s\u001b[0m 129ms/step - loss: 1.3632e-04 - val_loss: 0.0014\n",
      "Epoch 91/100\n",
      "\u001b[1m13/13\u001b[0m \u001b[32m━━━━━━━━━━━━━━━━━━━━\u001b[0m\u001b[37m\u001b[0m \u001b[1m2s\u001b[0m 136ms/step - loss: 1.4078e-04 - val_loss: 8.5540e-04\n",
      "Epoch 92/100\n",
      "\u001b[1m13/13\u001b[0m \u001b[32m━━━━━━━━━━━━━━━━━━━━\u001b[0m\u001b[37m\u001b[0m \u001b[1m2s\u001b[0m 130ms/step - loss: 1.4046e-04 - val_loss: 0.0012\n",
      "Epoch 93/100\n",
      "\u001b[1m13/13\u001b[0m \u001b[32m━━━━━━━━━━━━━━━━━━━━\u001b[0m\u001b[37m\u001b[0m \u001b[1m2s\u001b[0m 139ms/step - loss: 1.3280e-04 - val_loss: 0.0014\n",
      "Epoch 94/100\n",
      "\u001b[1m13/13\u001b[0m \u001b[32m━━━━━━━━━━━━━━━━━━━━\u001b[0m\u001b[37m\u001b[0m \u001b[1m2s\u001b[0m 177ms/step - loss: 1.2904e-04 - val_loss: 0.0019\n",
      "Epoch 95/100\n",
      "\u001b[1m13/13\u001b[0m \u001b[32m━━━━━━━━━━━━━━━━━━━━\u001b[0m\u001b[37m\u001b[0m \u001b[1m2s\u001b[0m 152ms/step - loss: 1.2514e-04 - val_loss: 9.7653e-04\n",
      "Epoch 96/100\n",
      "\u001b[1m13/13\u001b[0m \u001b[32m━━━━━━━━━━━━━━━━━━━━\u001b[0m\u001b[37m\u001b[0m \u001b[1m2s\u001b[0m 146ms/step - loss: 1.2438e-04 - val_loss: 0.0013\n",
      "Epoch 97/100\n",
      "\u001b[1m13/13\u001b[0m \u001b[32m━━━━━━━━━━━━━━━━━━━━\u001b[0m\u001b[37m\u001b[0m \u001b[1m2s\u001b[0m 166ms/step - loss: 1.2763e-04 - val_loss: 0.0011\n",
      "Epoch 98/100\n",
      "\u001b[1m13/13\u001b[0m \u001b[32m━━━━━━━━━━━━━━━━━━━━\u001b[0m\u001b[37m\u001b[0m \u001b[1m2s\u001b[0m 149ms/step - loss: 1.2070e-04 - val_loss: 0.0010\n",
      "Epoch 99/100\n",
      "\u001b[1m13/13\u001b[0m \u001b[32m━━━━━━━━━━━━━━━━━━━━\u001b[0m\u001b[37m\u001b[0m \u001b[1m2s\u001b[0m 148ms/step - loss: 1.3601e-04 - val_loss: 8.0807e-04\n",
      "Epoch 100/100\n",
      "\u001b[1m13/13\u001b[0m \u001b[32m━━━━━━━━━━━━━━━━━━━━\u001b[0m\u001b[37m\u001b[0m \u001b[1m2s\u001b[0m 152ms/step - loss: 1.6534e-04 - val_loss: 0.0017\n"
     ]
    },
    {
     "data": {
      "text/plain": [
       "<keras.src.callbacks.history.History at 0x1e448a86e40>"
      ]
     },
     "execution_count": 40,
     "metadata": {},
     "output_type": "execute_result"
    }
   ],
   "source": [
    "model.fit(X_train,y_train,validation_data=(X_test,ytest),epochs=100,batch_size=64,verbose=1)"
   ]
  },
  {
   "cell_type": "code",
   "execution_count": 41,
   "metadata": {
    "executionInfo": {
     "elapsed": 5,
     "status": "ok",
     "timestamp": 1757155237957,
     "user": {
      "displayName": "kanishka",
      "userId": "06446069687320020031"
     },
     "user_tz": -330
    },
    "id": "a5OKN17ImTGC"
   },
   "outputs": [],
   "source": [
    "import tensorflow as tf"
   ]
  },
  {
   "cell_type": "code",
   "execution_count": 42,
   "metadata": {
    "colab": {
     "base_uri": "https://localhost:8080/"
    },
    "executionInfo": {
     "elapsed": 876,
     "status": "ok",
     "timestamp": 1757155239590,
     "user": {
      "displayName": "kanishka",
      "userId": "06446069687320020031"
     },
     "user_tz": -330
    },
    "id": "tnS9IH8umTGC",
    "outputId": "a172ed95-eb2b-407a-95dd-adad886b4c23"
   },
   "outputs": [
    {
     "name": "stdout",
     "output_type": "stream",
     "text": [
      "\u001b[1m26/26\u001b[0m \u001b[32m━━━━━━━━━━━━━━━━━━━━\u001b[0m\u001b[37m\u001b[0m \u001b[1m3s\u001b[0m 66ms/step\n",
      "\u001b[1m13/13\u001b[0m \u001b[32m━━━━━━━━━━━━━━━━━━━━\u001b[0m\u001b[37m\u001b[0m \u001b[1m1s\u001b[0m 38ms/step\n"
     ]
    }
   ],
   "source": [
    "### Lets Do the prediction and check performance metrics\n",
    "train_predict=model.predict(X_train)\n",
    "test_predict=model.predict(X_test)"
   ]
  },
  {
   "cell_type": "code",
   "execution_count": 43,
   "metadata": {
    "executionInfo": {
     "elapsed": 3,
     "status": "ok",
     "timestamp": 1757155239596,
     "user": {
      "displayName": "kanishka",
      "userId": "06446069687320020031"
     },
     "user_tz": -330
    },
    "id": "He35u9HrmTGC"
   },
   "outputs": [],
   "source": [
    "##Transformback to original form\n",
    "train_predict=scaler.inverse_transform(train_predict)\n",
    "test_predict=scaler.inverse_transform(test_predict)"
   ]
  },
  {
   "cell_type": "code",
   "execution_count": 44,
   "metadata": {
    "colab": {
     "base_uri": "https://localhost:8080/"
    },
    "executionInfo": {
     "elapsed": 154,
     "status": "ok",
     "timestamp": 1757155241027,
     "user": {
      "displayName": "kanishka",
      "userId": "06446069687320020031"
     },
     "user_tz": -330
    },
    "id": "XOpuuJbFmTGC",
    "outputId": "a24d6633-3b61-4a5a-ba72-b5f9284a5a48"
   },
   "outputs": [
    {
     "data": {
      "text/plain": [
       "125.61983375808303"
      ]
     },
     "execution_count": 44,
     "metadata": {},
     "output_type": "execute_result"
    }
   ],
   "source": [
    "### Calculate RMSE performance metrics\n",
    "import math\n",
    "from sklearn.metrics import mean_squared_error\n",
    "math.sqrt(mean_squared_error(y_train,train_predict))"
   ]
  },
  {
   "cell_type": "code",
   "execution_count": 45,
   "metadata": {
    "colab": {
     "base_uri": "https://localhost:8080/"
    },
    "executionInfo": {
     "elapsed": 7,
     "status": "ok",
     "timestamp": 1757155241875,
     "user": {
      "displayName": "kanishka",
      "userId": "06446069687320020031"
     },
     "user_tz": -330
    },
    "id": "zxzsqaZxmTGC",
    "outputId": "96e2c18b-00d1-42b0-e20e-d924ec1de1fb"
   },
   "outputs": [
    {
     "data": {
      "text/plain": [
       "288.76344328051044"
      ]
     },
     "execution_count": 45,
     "metadata": {},
     "output_type": "execute_result"
    }
   ],
   "source": [
    "### Test Data RMSE\n",
    "math.sqrt(mean_squared_error(ytest,test_predict))"
   ]
  },
  {
   "cell_type": "code",
   "execution_count": 46,
   "metadata": {
    "colab": {
     "base_uri": "https://localhost:8080/",
     "height": 430
    },
    "executionInfo": {
     "elapsed": 120,
     "status": "ok",
     "timestamp": 1757155243055,
     "user": {
      "displayName": "kanishka",
      "userId": "06446069687320020031"
     },
     "user_tz": -330
    },
    "id": "Ppr0XvPGmTGC",
    "outputId": "31483af9-66cb-4740-b4e9-d8b06a6d04e2"
   },
   "outputs": [
    {
     "data": {
      "image/png": "[encoded data removed]",
      "text/plain": [
       "<Figure size 640x480 with 1 Axes>"
      ]
     },
     "metadata": {},
     "output_type": "display_data"
    }
   ],
   "source": [
    "### Plotting\n",
    "# shift train predictions for plotting\n",
    "look_back=100\n",
    "trainPredictPlot = numpy.empty_like(df1)\n",
    "trainPredictPlot[:, :] = np.nan\n",
    "trainPredictPlot[look_back:len(train_predict)+look_back, :] = train_predict\n",
    "# shift test predictions for plotting\n",
    "testPredictPlot = numpy.empty_like(df1)\n",
    "testPredictPlot[:, :] = numpy.nan\n",
    "testPredictPlot[len(train_predict)+(look_back*2)+1:len(df1)-1, :] = test_predict\n",
    "# plot baseline and predictions\n",
    "plt.plot(scaler.inverse_transform(df1))\n",
    "plt.plot(trainPredictPlot)\n",
    "plt.plot(testPredictPlot)\n",
    "plt.show()"
   ]
  },
  {
   "cell_type": "code",
   "execution_count": 47,
   "metadata": {
    "colab": {
     "base_uri": "https://localhost:8080/"
    },
    "executionInfo": {
     "elapsed": 7,
     "status": "ok",
     "timestamp": 1757155245221,
     "user": {
      "displayName": "kanishka",
      "userId": "06446069687320020031"
     },
     "user_tz": -330
    },
    "id": "Znajs2PYmTGC",
    "outputId": "d7a1344f-ffa5-4cbf-ed08-be4ec1797c9e"
   },
   "outputs": [
    {
     "data": {
      "text/plain": [
       "494"
      ]
     },
     "execution_count": 47,
     "metadata": {},
     "output_type": "execute_result"
    }
   ],
   "source": [
    "len(test_data)"
   ]
  },
  {
   "cell_type": "code",
   "execution_count": 48,
   "metadata": {
    "colab": {
     "base_uri": "https://localhost:8080/"
    },
    "executionInfo": {
     "elapsed": 20,
     "status": "ok",
     "timestamp": 1757155246544,
     "user": {
      "displayName": "kanishka",
      "userId": "06446069687320020031"
     },
     "user_tz": -330
    },
    "id": "w8ZjQo-zmTGC",
    "outputId": "b3bcd8a5-da40-4336-fc0c-f2692119bc9d"
   },
   "outputs": [
    {
     "data": {
      "text/plain": [
       "(1, 153)"
      ]
     },
     "execution_count": 48,
     "metadata": {},
     "output_type": "execute_result"
    }
   ],
   "source": [
    "x_input=test_data[341:].reshape(1,-1)\n",
    "x_input.shape\n"
   ]
  },
  {
   "cell_type": "code",
   "execution_count": 49,
   "metadata": {
    "executionInfo": {
     "elapsed": 2,
     "status": "ok",
     "timestamp": 1757155253566,
     "user": {
      "displayName": "kanishka",
      "userId": "06446069687320020031"
     },
     "user_tz": -330
    },
    "id": "y5hAZ71DmTGC"
   },
   "outputs": [],
   "source": [
    "temp_input=list(x_input)\n",
    "temp_input=temp_input[0].tolist()"
   ]
  },
  {
   "cell_type": "code",
   "execution_count": 50,
   "metadata": {
    "colab": {
     "base_uri": "https://localhost:8080/"
    },
    "collapsed": true,
    "executionInfo": {
     "elapsed": 51,
     "status": "ok",
     "timestamp": 1757155282798,
     "user": {
      "displayName": "kanishka",
      "userId": "06446069687320020031"
     },
     "user_tz": -330
    },
    "id": "hmcNY4GbmTGC",
    "outputId": "58fc8228-802e-4319-c800-1cd85a5b65a9"
   },
   "outputs": [
    {
     "data": {
      "text/plain": [
       "[0.7539368057786952,\n",
       " 0.7436951445558806,\n",
       " 0.756791001681989,\n",
       " 0.7819754384218583,\n",
       " 0.8031302445016746,\n",
       " 0.7635068792451896,\n",
       " 0.7431914016775741,\n",
       " 0.7494035363624684,\n",
       " 0.7478926200939473,\n",
       " 0.7342930200895326,\n",
       " 0.7351422402043459,\n",
       " 0.7030388877423885,\n",
       " 0.6784093178480122,\n",
       " 0.6634616485907173,\n",
       " 0.6705957847612262,\n",
       " 0.6644809001483324,\n",
       " 0.6843543792623696,\n",
       " 0.697093826328031,\n",
       " 0.6838447014224958,\n",
       " 0.6930172365861018,\n",
       " 0.6799380390012355,\n",
       " 0.6705957847612262,\n",
       " 0.6590453603906496,\n",
       " 0.6607439047424092,\n",
       " 0.6423991467815953,\n",
       " 0.6480044576767479,\n",
       " 0.6531002469152256,\n",
       " 0.6884309690042988,\n",
       " 0.6960746788925487,\n",
       " 0.6846940256594419,\n",
       " 0.7118715682646568,\n",
       " 0.6982827969620494,\n",
       " 0.6976034000457721,\n",
       " 0.6994718717182006,\n",
       " 0.6984527242827183,\n",
       " 0.6984527242827183,\n",
       " 0.731914974699363,\n",
       " 0.7426161268940598,\n",
       " 0.7519583811340691,\n",
       " 0.7816837923279898,\n",
       " 0.778796173220079,\n",
       " 0.7782865995023379,\n",
       " 0.7940834888744461,\n",
       " 0.7765879510284456,\n",
       " 0.7730208308821248,\n",
       " 0.7643580776805254,\n",
       " 0.8063133622223662,\n",
       " 0.7886478970556968,\n",
       " 0.7733605814013298,\n",
       " 0.7718319643702392,\n",
       " 0.7869493527039373,\n",
       " 0.8232993263506254,\n",
       " 0.8248279433817161,\n",
       " 0.828904637245778,\n",
       " 0.8399454358375471,\n",
       " 0.8773145569197176,\n",
       " 0.8520053818647984,\n",
       " 0.860158769592922,\n",
       " 0.8582901937983609,\n",
       " 0.8314525058344837,\n",
       " 0.8384167146843235,\n",
       " 0.8193925598072325,\n",
       " 0.8346798754615994,\n",
       " 0.8197322062043046,\n",
       " 0.8372277440503051,\n",
       " 0.8351894491793406,\n",
       " 0.8470795720080557,\n",
       " 0.8373975672488414,\n",
       " 0.8069927591386434,\n",
       " 0.8401152590360832,\n",
       " 0.8041052441528656,\n",
       " 0.7956122100276695,\n",
       " 0.8081817297726619,\n",
       " 0.810050305567223,\n",
       " 0.8231293990299566,\n",
       " 0.8022366683583042,\n",
       " 0.7962916069439467,\n",
       " 0.778456422700874,\n",
       " 0.8029161693967144,\n",
       " 0.7981600786163752,\n",
       " 0.7908561192473302,\n",
       " 0.7793056428156874,\n",
       " 0.785930205268455,\n",
       " 0.7745496561574811,\n",
       " 0.7857602779477861,\n",
       " 0.7694538148579368,\n",
       " 0.7704729622934191,\n",
       " 0.789836971811848,\n",
       " 0.7951025321877956,\n",
       " 0.8110693488805725,\n",
       " 0.8129378205530011,\n",
       " 0.7939136656759098,\n",
       " 0.7720017875687754,\n",
       " 0.7601115606179274,\n",
       " 0.7708127128126241,\n",
       " 0.7704729622934191,\n",
       " 0.7662265493529539,\n",
       " 0.7633389302450432,\n",
       " 0.785930205268455,\n",
       " 0.7762482005092406,\n",
       " 0.7616403858932836,\n",
       " 0.7769277015476506,\n",
       " 0.7872891032231423,\n",
       " 0.8068229359401073,\n",
       " 0.809031054009608,\n",
       " 0.801047697724286,\n",
       " 0.7918752666828126,\n",
       " 0.7879686042615524,\n",
       " 0.7889876475749018,\n",
       " 0.7954422827070005,\n",
       " 0.8017270946405632,\n",
       " 0.8081817297726619,\n",
       " 0.8068229359401073,\n",
       " 0.804444786427805,\n",
       " 0.8032559199159193,\n",
       " 0.8027462420760454,\n",
       " 0.7993490492503936,\n",
       " 0.797820432219303,\n",
       " 0.789497221292643,\n",
       " 0.7991792260518575,\n",
       " 0.8018969178390993,\n",
       " 0.8068229359401073,\n",
       " 0.8071626864593124,\n",
       " 0.7825330124428032,\n",
       " 0.7818536155265259,\n",
       " 0.785930205268455,\n",
       " 0.7718319643702392,\n",
       " 0.778796173220079,\n",
       " 0.7796453933348925,\n",
       " 0.7684347715445873,\n",
       " 0.7618102090918197,\n",
       " 0.7577335152277578,\n",
       " 0.7602813838164635,\n",
       " 0.7579034425484267,\n",
       " 0.7579034425484267,\n",
       " 0.7572239415100167,\n",
       " 0.7692840957815335,\n",
       " 0.770982640133293,\n",
       " 0.7765879510284456,\n",
       " 0.7728348687530104,\n",
       " 0.7741995975471325,\n",
       " 0.7591873725675248,\n",
       " 0.7569696752618099,\n",
       " 0.759699132850054,\n",
       " 0.7451986681529754,\n",
       " 0.7451986681529754,\n",
       " 0.7266040170735308,\n",
       " 0.7293334746617749,\n",
       " 0.7450281160995099,\n",
       " 0.7683994741415807,\n",
       " 0.766181672713733,\n",
       " 0.7516812080166546,\n",
       " 0.7637934233545528]"
      ]
     },
     "execution_count": 50,
     "metadata": {},
     "output_type": "execute_result"
    }
   ],
   "source": [
    "temp_input"
   ]
  },
  {
   "cell_type": "code",
   "execution_count": 51,
   "metadata": {
    "colab": {
     "base_uri": "https://localhost:8080/"
    },
    "collapsed": true,
    "executionInfo": {
     "elapsed": 2621,
     "status": "ok",
     "timestamp": 1757155434410,
     "user": {
      "displayName": "kanishka",
      "userId": "06446069687320020031"
     },
     "user_tz": -330
    },
    "id": "xqMTrk3mmTGC",
    "outputId": "f9a046ac-4ba6-4978-9d10-bf755a490ef7"
   },
   "outputs": [
    {
     "name": "stdout",
     "output_type": "stream",
     "text": [
      "0 day input [0.74369514 0.756791   0.78197544 0.80313024 0.76350688 0.7431914\n",
      " 0.74940354 0.74789262 0.73429302 0.73514224 0.70303889 0.67840932\n",
      " 0.66346165 0.67059578 0.6644809  0.68435438 0.69709383 0.6838447\n",
      " 0.69301724 0.67993804 0.67059578 0.65904536 0.6607439  0.64239915\n",
      " 0.64800446 0.65310025 0.68843097 0.69607468 0.68469403 0.71187157\n",
      " 0.6982828  0.6976034  0.69947187 0.69845272 0.69845272 0.73191497\n",
      " 0.74261613 0.75195838 0.78168379 0.77879617 0.7782866  0.79408349\n",
      " 0.77658795 0.77302083 0.76435808 0.80631336 0.7886479  0.77336058\n",
      " 0.77183196 0.78694935 0.82329933 0.82482794 0.82890464 0.83994544\n",
      " 0.87731456 0.85200538 0.86015877 0.85829019 0.83145251 0.83841671\n",
      " 0.81939256 0.83467988 0.81973221 0.83722774 0.83518945 0.84707957\n",
      " 0.83739757 0.80699276 0.84011526 0.80410524 0.79561221 0.80818173\n",
      " 0.81005031 0.8231294  0.80223667 0.79629161 0.77845642 0.80291617\n",
      " 0.79816008 0.79085612 0.77930564 0.78593021 0.77454966 0.78576028\n",
      " 0.76945381 0.77047296 0.78983697 0.79510253 0.81106935 0.81293782\n",
      " 0.79391367 0.77200179 0.76011156 0.77081271 0.77047296 0.76622655\n",
      " 0.76333893 0.78593021 0.7762482  0.76164039 0.7769277  0.7872891\n",
      " 0.80682294 0.80903105 0.8010477  0.79187527 0.7879686  0.78898765\n",
      " 0.79544228 0.80172709 0.80818173 0.80682294 0.80444479 0.80325592\n",
      " 0.80274624 0.79934905 0.79782043 0.78949722 0.79917923 0.80189692\n",
      " 0.80682294 0.80716269 0.78253301 0.78185362 0.78593021 0.77183196\n",
      " 0.77879617 0.77964539 0.76843477 0.76181021 0.75773352 0.76028138\n",
      " 0.75790344 0.75790344 0.75722394 0.7692841  0.77098264 0.77658795\n",
      " 0.77283487 0.7741996  0.75918737 0.75696968 0.75969913 0.74519867\n",
      " 0.74519867 0.72660402 0.72933347 0.74502812 0.76839947 0.76618167\n",
      " 0.75168121 0.76379342]\n",
      "0 day output [[0.7375572]]\n",
      "1 day input [0.756791   0.78197544 0.80313024 0.76350688 0.7431914  0.74940354\n",
      " 0.74789262 0.73429302 0.73514224 0.70303889 0.67840932 0.66346165\n",
      " 0.67059578 0.6644809  0.68435438 0.69709383 0.6838447  0.69301724\n",
      " 0.67993804 0.67059578 0.65904536 0.6607439  0.64239915 0.64800446\n",
      " 0.65310025 0.68843097 0.69607468 0.68469403 0.71187157 0.6982828\n",
      " 0.6976034  0.69947187 0.69845272 0.69845272 0.73191497 0.74261613\n",
      " 0.75195838 0.78168379 0.77879617 0.7782866  0.79408349 0.77658795\n",
      " 0.77302083 0.76435808 0.80631336 0.7886479  0.77336058 0.77183196\n",
      " 0.78694935 0.82329933 0.82482794 0.82890464 0.83994544 0.87731456\n",
      " 0.85200538 0.86015877 0.85829019 0.83145251 0.83841671 0.81939256\n",
      " 0.83467988 0.81973221 0.83722774 0.83518945 0.84707957 0.83739757\n",
      " 0.80699276 0.84011526 0.80410524 0.79561221 0.80818173 0.81005031\n",
      " 0.8231294  0.80223667 0.79629161 0.77845642 0.80291617 0.79816008\n",
      " 0.79085612 0.77930564 0.78593021 0.77454966 0.78576028 0.76945381\n",
      " 0.77047296 0.78983697 0.79510253 0.81106935 0.81293782 0.79391367\n",
      " 0.77200179 0.76011156 0.77081271 0.77047296 0.76622655 0.76333893\n",
      " 0.78593021 0.7762482  0.76164039 0.7769277  0.7872891  0.80682294\n",
      " 0.80903105 0.8010477  0.79187527 0.7879686  0.78898765 0.79544228\n",
      " 0.80172709 0.80818173 0.80682294 0.80444479 0.80325592 0.80274624\n",
      " 0.79934905 0.79782043 0.78949722 0.79917923 0.80189692 0.80682294\n",
      " 0.80716269 0.78253301 0.78185362 0.78593021 0.77183196 0.77879617\n",
      " 0.77964539 0.76843477 0.76181021 0.75773352 0.76028138 0.75790344\n",
      " 0.75790344 0.75722394 0.7692841  0.77098264 0.77658795 0.77283487\n",
      " 0.7741996  0.75918737 0.75696968 0.75969913 0.74519867 0.74519867\n",
      " 0.72660402 0.72933347 0.74502812 0.76839947 0.76618167 0.75168121\n",
      " 0.76379342 0.73755717]\n",
      "1 day output [[0.73625076]]\n",
      "2 day input [0.78197544 0.80313024 0.76350688 0.7431914  0.74940354 0.74789262\n",
      " 0.73429302 0.73514224 0.70303889 0.67840932 0.66346165 0.67059578\n",
      " 0.6644809  0.68435438 0.69709383 0.6838447  0.69301724 0.67993804\n",
      " 0.67059578 0.65904536 0.6607439  0.64239915 0.64800446 0.65310025\n",
      " 0.68843097 0.69607468 0.68469403 0.71187157 0.6982828  0.6976034\n",
      " 0.69947187 0.69845272 0.69845272 0.73191497 0.74261613 0.75195838\n",
      " 0.78168379 0.77879617 0.7782866  0.79408349 0.77658795 0.77302083\n",
      " 0.76435808 0.80631336 0.7886479  0.77336058 0.77183196 0.78694935\n",
      " 0.82329933 0.82482794 0.82890464 0.83994544 0.87731456 0.85200538\n",
      " 0.86015877 0.85829019 0.83145251 0.83841671 0.81939256 0.83467988\n",
      " 0.81973221 0.83722774 0.83518945 0.84707957 0.83739757 0.80699276\n",
      " 0.84011526 0.80410524 0.79561221 0.80818173 0.81005031 0.8231294\n",
      " 0.80223667 0.79629161 0.77845642 0.80291617 0.79816008 0.79085612\n",
      " 0.77930564 0.78593021 0.77454966 0.78576028 0.76945381 0.77047296\n",
      " 0.78983697 0.79510253 0.81106935 0.81293782 0.79391367 0.77200179\n",
      " 0.76011156 0.77081271 0.77047296 0.76622655 0.76333893 0.78593021\n",
      " 0.7762482  0.76164039 0.7769277  0.7872891  0.80682294 0.80903105\n",
      " 0.8010477  0.79187527 0.7879686  0.78898765 0.79544228 0.80172709\n",
      " 0.80818173 0.80682294 0.80444479 0.80325592 0.80274624 0.79934905\n",
      " 0.79782043 0.78949722 0.79917923 0.80189692 0.80682294 0.80716269\n",
      " 0.78253301 0.78185362 0.78593021 0.77183196 0.77879617 0.77964539\n",
      " 0.76843477 0.76181021 0.75773352 0.76028138 0.75790344 0.75790344\n",
      " 0.75722394 0.7692841  0.77098264 0.77658795 0.77283487 0.7741996\n",
      " 0.75918737 0.75696968 0.75969913 0.74519867 0.74519867 0.72660402\n",
      " 0.72933347 0.74502812 0.76839947 0.76618167 0.75168121 0.76379342\n",
      " 0.73755717 0.73625076]\n",
      "2 day output [[0.7313089]]\n",
      "3 day input [0.80313024 0.76350688 0.7431914  0.74940354 0.74789262 0.73429302\n",
      " 0.73514224 0.70303889 0.67840932 0.66346165 0.67059578 0.6644809\n",
      " 0.68435438 0.69709383 0.6838447  0.69301724 0.67993804 0.67059578\n",
      " 0.65904536 0.6607439  0.64239915 0.64800446 0.65310025 0.68843097\n",
      " 0.69607468 0.68469403 0.71187157 0.6982828  0.6976034  0.69947187\n",
      " 0.69845272 0.69845272 0.73191497 0.74261613 0.75195838 0.78168379\n",
      " 0.77879617 0.7782866  0.79408349 0.77658795 0.77302083 0.76435808\n",
      " 0.80631336 0.7886479  0.77336058 0.77183196 0.78694935 0.82329933\n",
      " 0.82482794 0.82890464 0.83994544 0.87731456 0.85200538 0.86015877\n",
      " 0.85829019 0.83145251 0.83841671 0.81939256 0.83467988 0.81973221\n",
      " 0.83722774 0.83518945 0.84707957 0.83739757 0.80699276 0.84011526\n",
      " 0.80410524 0.79561221 0.80818173 0.81005031 0.8231294  0.80223667\n",
      " 0.79629161 0.77845642 0.80291617 0.79816008 0.79085612 0.77930564\n",
      " 0.78593021 0.77454966 0.78576028 0.76945381 0.77047296 0.78983697\n",
      " 0.79510253 0.81106935 0.81293782 0.79391367 0.77200179 0.76011156\n",
      " 0.77081271 0.77047296 0.76622655 0.76333893 0.78593021 0.7762482\n",
      " 0.76164039 0.7769277  0.7872891  0.80682294 0.80903105 0.8010477\n",
      " 0.79187527 0.7879686  0.78898765 0.79544228 0.80172709 0.80818173\n",
      " 0.80682294 0.80444479 0.80325592 0.80274624 0.79934905 0.79782043\n",
      " 0.78949722 0.79917923 0.80189692 0.80682294 0.80716269 0.78253301\n",
      " 0.78185362 0.78593021 0.77183196 0.77879617 0.77964539 0.76843477\n",
      " 0.76181021 0.75773352 0.76028138 0.75790344 0.75790344 0.75722394\n",
      " 0.7692841  0.77098264 0.77658795 0.77283487 0.7741996  0.75918737\n",
      " 0.75696968 0.75969913 0.74519867 0.74519867 0.72660402 0.72933347\n",
      " 0.74502812 0.76839947 0.76618167 0.75168121 0.76379342 0.73755717\n",
      " 0.73625076 0.73130888]\n",
      "3 day output [[0.724604]]\n",
      "4 day input [0.76350688 0.7431914  0.74940354 0.74789262 0.73429302 0.73514224\n",
      " 0.70303889 0.67840932 0.66346165 0.67059578 0.6644809  0.68435438\n",
      " 0.69709383 0.6838447  0.69301724 0.67993804 0.67059578 0.65904536\n",
      " 0.6607439  0.64239915 0.64800446 0.65310025 0.68843097 0.69607468\n",
      " 0.68469403 0.71187157 0.6982828  0.6976034  0.69947187 0.69845272\n",
      " 0.69845272 0.73191497 0.74261613 0.75195838 0.78168379 0.77879617\n",
      " 0.7782866  0.79408349 0.77658795 0.77302083 0.76435808 0.80631336\n",
      " 0.7886479  0.77336058 0.77183196 0.78694935 0.82329933 0.82482794\n",
      " 0.82890464 0.83994544 0.87731456 0.85200538 0.86015877 0.85829019\n",
      " 0.83145251 0.83841671 0.81939256 0.83467988 0.81973221 0.83722774\n",
      " 0.83518945 0.84707957 0.83739757 0.80699276 0.84011526 0.80410524\n",
      " 0.79561221 0.80818173 0.81005031 0.8231294  0.80223667 0.79629161\n",
      " 0.77845642 0.80291617 0.79816008 0.79085612 0.77930564 0.78593021\n",
      " 0.77454966 0.78576028 0.76945381 0.77047296 0.78983697 0.79510253\n",
      " 0.81106935 0.81293782 0.79391367 0.77200179 0.76011156 0.77081271\n",
      " 0.77047296 0.76622655 0.76333893 0.78593021 0.7762482  0.76164039\n",
      " 0.7769277  0.7872891  0.80682294 0.80903105 0.8010477  0.79187527\n",
      " 0.7879686  0.78898765 0.79544228 0.80172709 0.80818173 0.80682294\n",
      " 0.80444479 0.80325592 0.80274624 0.79934905 0.79782043 0.78949722\n",
      " 0.79917923 0.80189692 0.80682294 0.80716269 0.78253301 0.78185362\n",
      " 0.78593021 0.77183196 0.77879617 0.77964539 0.76843477 0.76181021\n",
      " 0.75773352 0.76028138 0.75790344 0.75790344 0.75722394 0.7692841\n",
      " 0.77098264 0.77658795 0.77283487 0.7741996  0.75918737 0.75696968\n",
      " 0.75969913 0.74519867 0.74519867 0.72660402 0.72933347 0.74502812\n",
      " 0.76839947 0.76618167 0.75168121 0.76379342 0.73755717 0.73625076\n",
      " 0.73130888 0.72460401]\n",
      "4 day output [[0.7172539]]\n",
      "5 day input [0.7431914  0.74940354 0.74789262 0.73429302 0.73514224 0.70303889\n",
      " 0.67840932 0.66346165 0.67059578 0.6644809  0.68435438 0.69709383\n",
      " 0.6838447  0.69301724 0.67993804 0.67059578 0.65904536 0.6607439\n",
      " 0.64239915 0.64800446 0.65310025 0.68843097 0.69607468 0.68469403\n",
      " 0.71187157 0.6982828  0.6976034  0.69947187 0.69845272 0.69845272\n",
      " 0.73191497 0.74261613 0.75195838 0.78168379 0.77879617 0.7782866\n",
      " 0.79408349 0.77658795 0.77302083 0.76435808 0.80631336 0.7886479\n",
      " 0.77336058 0.77183196 0.78694935 0.82329933 0.82482794 0.82890464\n",
      " 0.83994544 0.87731456 0.85200538 0.86015877 0.85829019 0.83145251\n",
      " 0.83841671 0.81939256 0.83467988 0.81973221 0.83722774 0.83518945\n",
      " 0.84707957 0.83739757 0.80699276 0.84011526 0.80410524 0.79561221\n",
      " 0.80818173 0.81005031 0.8231294  0.80223667 0.79629161 0.77845642\n",
      " 0.80291617 0.79816008 0.79085612 0.77930564 0.78593021 0.77454966\n",
      " 0.78576028 0.76945381 0.77047296 0.78983697 0.79510253 0.81106935\n",
      " 0.81293782 0.79391367 0.77200179 0.76011156 0.77081271 0.77047296\n",
      " 0.76622655 0.76333893 0.78593021 0.7762482  0.76164039 0.7769277\n",
      " 0.7872891  0.80682294 0.80903105 0.8010477  0.79187527 0.7879686\n",
      " 0.78898765 0.79544228 0.80172709 0.80818173 0.80682294 0.80444479\n",
      " 0.80325592 0.80274624 0.79934905 0.79782043 0.78949722 0.79917923\n",
      " 0.80189692 0.80682294 0.80716269 0.78253301 0.78185362 0.78593021\n",
      " 0.77183196 0.77879617 0.77964539 0.76843477 0.76181021 0.75773352\n",
      " 0.76028138 0.75790344 0.75790344 0.75722394 0.7692841  0.77098264\n",
      " 0.77658795 0.77283487 0.7741996  0.75918737 0.75696968 0.75969913\n",
      " 0.74519867 0.74519867 0.72660402 0.72933347 0.74502812 0.76839947\n",
      " 0.76618167 0.75168121 0.76379342 0.73755717 0.73625076 0.73130888\n",
      " 0.72460401 0.71725392]\n",
      "5 day output [[0.7098289]]\n",
      "6 day input [0.74940354 0.74789262 0.73429302 0.73514224 0.70303889 0.67840932\n",
      " 0.66346165 0.67059578 0.6644809  0.68435438 0.69709383 0.6838447\n",
      " 0.69301724 0.67993804 0.67059578 0.65904536 0.6607439  0.64239915\n",
      " 0.64800446 0.65310025 0.68843097 0.69607468 0.68469403 0.71187157\n",
      " 0.6982828  0.6976034  0.69947187 0.69845272 0.69845272 0.73191497\n",
      " 0.74261613 0.75195838 0.78168379 0.77879617 0.7782866  0.79408349\n",
      " 0.77658795 0.77302083 0.76435808 0.80631336 0.7886479  0.77336058\n",
      " 0.77183196 0.78694935 0.82329933 0.82482794 0.82890464 0.83994544\n",
      " 0.87731456 0.85200538 0.86015877 0.85829019 0.83145251 0.83841671\n",
      " 0.81939256 0.83467988 0.81973221 0.83722774 0.83518945 0.84707957\n",
      " 0.83739757 0.80699276 0.84011526 0.80410524 0.79561221 0.80818173\n",
      " 0.81005031 0.8231294  0.80223667 0.79629161 0.77845642 0.80291617\n",
      " 0.79816008 0.79085612 0.77930564 0.78593021 0.77454966 0.78576028\n",
      " 0.76945381 0.77047296 0.78983697 0.79510253 0.81106935 0.81293782\n",
      " 0.79391367 0.77200179 0.76011156 0.77081271 0.77047296 0.76622655\n",
      " 0.76333893 0.78593021 0.7762482  0.76164039 0.7769277  0.7872891\n",
      " 0.80682294 0.80903105 0.8010477  0.79187527 0.7879686  0.78898765\n",
      " 0.79544228 0.80172709 0.80818173 0.80682294 0.80444479 0.80325592\n",
      " 0.80274624 0.79934905 0.79782043 0.78949722 0.79917923 0.80189692\n",
      " 0.80682294 0.80716269 0.78253301 0.78185362 0.78593021 0.77183196\n",
      " 0.77879617 0.77964539 0.76843477 0.76181021 0.75773352 0.76028138\n",
      " 0.75790344 0.75790344 0.75722394 0.7692841  0.77098264 0.77658795\n",
      " 0.77283487 0.7741996  0.75918737 0.75696968 0.75969913 0.74519867\n",
      " 0.74519867 0.72660402 0.72933347 0.74502812 0.76839947 0.76618167\n",
      " 0.75168121 0.76379342 0.73755717 0.73625076 0.73130888 0.72460401\n",
      " 0.71725392 0.70982891]\n",
      "6 day output [[0.70261633]]\n",
      "7 day input [0.74789262 0.73429302 0.73514224 0.70303889 0.67840932 0.66346165\n",
      " 0.67059578 0.6644809  0.68435438 0.69709383 0.6838447  0.69301724\n",
      " 0.67993804 0.67059578 0.65904536 0.6607439  0.64239915 0.64800446\n",
      " 0.65310025 0.68843097 0.69607468 0.68469403 0.71187157 0.6982828\n",
      " 0.6976034  0.69947187 0.69845272 0.69845272 0.73191497 0.74261613\n",
      " 0.75195838 0.78168379 0.77879617 0.7782866  0.79408349 0.77658795\n",
      " 0.77302083 0.76435808 0.80631336 0.7886479  0.77336058 0.77183196\n",
      " 0.78694935 0.82329933 0.82482794 0.82890464 0.83994544 0.87731456\n",
      " 0.85200538 0.86015877 0.85829019 0.83145251 0.83841671 0.81939256\n",
      " 0.83467988 0.81973221 0.83722774 0.83518945 0.84707957 0.83739757\n",
      " 0.80699276 0.84011526 0.80410524 0.79561221 0.80818173 0.81005031\n",
      " 0.8231294  0.80223667 0.79629161 0.77845642 0.80291617 0.79816008\n",
      " 0.79085612 0.77930564 0.78593021 0.77454966 0.78576028 0.76945381\n",
      " 0.77047296 0.78983697 0.79510253 0.81106935 0.81293782 0.79391367\n",
      " 0.77200179 0.76011156 0.77081271 0.77047296 0.76622655 0.76333893\n",
      " 0.78593021 0.7762482  0.76164039 0.7769277  0.7872891  0.80682294\n",
      " 0.80903105 0.8010477  0.79187527 0.7879686  0.78898765 0.79544228\n",
      " 0.80172709 0.80818173 0.80682294 0.80444479 0.80325592 0.80274624\n",
      " 0.79934905 0.79782043 0.78949722 0.79917923 0.80189692 0.80682294\n",
      " 0.80716269 0.78253301 0.78185362 0.78593021 0.77183196 0.77879617\n",
      " 0.77964539 0.76843477 0.76181021 0.75773352 0.76028138 0.75790344\n",
      " 0.75790344 0.75722394 0.7692841  0.77098264 0.77658795 0.77283487\n",
      " 0.7741996  0.75918737 0.75696968 0.75969913 0.74519867 0.74519867\n",
      " 0.72660402 0.72933347 0.74502812 0.76839947 0.76618167 0.75168121\n",
      " 0.76379342 0.73755717 0.73625076 0.73130888 0.72460401 0.71725392\n",
      " 0.70982891 0.70261633]\n",
      "7 day output [[0.6957752]]\n",
      "8 day input [0.73429302 0.73514224 0.70303889 0.67840932 0.66346165 0.67059578\n",
      " 0.6644809  0.68435438 0.69709383 0.6838447  0.69301724 0.67993804\n",
      " 0.67059578 0.65904536 0.6607439  0.64239915 0.64800446 0.65310025\n",
      " 0.68843097 0.69607468 0.68469403 0.71187157 0.6982828  0.6976034\n",
      " 0.69947187 0.69845272 0.69845272 0.73191497 0.74261613 0.75195838\n",
      " 0.78168379 0.77879617 0.7782866  0.79408349 0.77658795 0.77302083\n",
      " 0.76435808 0.80631336 0.7886479  0.77336058 0.77183196 0.78694935\n",
      " 0.82329933 0.82482794 0.82890464 0.83994544 0.87731456 0.85200538\n",
      " 0.86015877 0.85829019 0.83145251 0.83841671 0.81939256 0.83467988\n",
      " 0.81973221 0.83722774 0.83518945 0.84707957 0.83739757 0.80699276\n",
      " 0.84011526 0.80410524 0.79561221 0.80818173 0.81005031 0.8231294\n",
      " 0.80223667 0.79629161 0.77845642 0.80291617 0.79816008 0.79085612\n",
      " 0.77930564 0.78593021 0.77454966 0.78576028 0.76945381 0.77047296\n",
      " 0.78983697 0.79510253 0.81106935 0.81293782 0.79391367 0.77200179\n",
      " 0.76011156 0.77081271 0.77047296 0.76622655 0.76333893 0.78593021\n",
      " 0.7762482  0.76164039 0.7769277  0.7872891  0.80682294 0.80903105\n",
      " 0.8010477  0.79187527 0.7879686  0.78898765 0.79544228 0.80172709\n",
      " 0.80818173 0.80682294 0.80444479 0.80325592 0.80274624 0.79934905\n",
      " 0.79782043 0.78949722 0.79917923 0.80189692 0.80682294 0.80716269\n",
      " 0.78253301 0.78185362 0.78593021 0.77183196 0.77879617 0.77964539\n",
      " 0.76843477 0.76181021 0.75773352 0.76028138 0.75790344 0.75790344\n",
      " 0.75722394 0.7692841  0.77098264 0.77658795 0.77283487 0.7741996\n",
      " 0.75918737 0.75696968 0.75969913 0.74519867 0.74519867 0.72660402\n",
      " 0.72933347 0.74502812 0.76839947 0.76618167 0.75168121 0.76379342\n",
      " 0.73755717 0.73625076 0.73130888 0.72460401 0.71725392 0.70982891\n",
      " 0.70261633 0.69577521]\n",
      "8 day output [[0.6894046]]\n",
      "9 day input [0.73514224 0.70303889 0.67840932 0.66346165 0.67059578 0.6644809\n",
      " 0.68435438 0.69709383 0.6838447  0.69301724 0.67993804 0.67059578\n",
      " 0.65904536 0.6607439  0.64239915 0.64800446 0.65310025 0.68843097\n",
      " 0.69607468 0.68469403 0.71187157 0.6982828  0.6976034  0.69947187\n",
      " 0.69845272 0.69845272 0.73191497 0.74261613 0.75195838 0.78168379\n",
      " 0.77879617 0.7782866  0.79408349 0.77658795 0.77302083 0.76435808\n",
      " 0.80631336 0.7886479  0.77336058 0.77183196 0.78694935 0.82329933\n",
      " 0.82482794 0.82890464 0.83994544 0.87731456 0.85200538 0.86015877\n",
      " 0.85829019 0.83145251 0.83841671 0.81939256 0.83467988 0.81973221\n",
      " 0.83722774 0.83518945 0.84707957 0.83739757 0.80699276 0.84011526\n",
      " 0.80410524 0.79561221 0.80818173 0.81005031 0.8231294  0.80223667\n",
      " 0.79629161 0.77845642 0.80291617 0.79816008 0.79085612 0.77930564\n",
      " 0.78593021 0.77454966 0.78576028 0.76945381 0.77047296 0.78983697\n",
      " 0.79510253 0.81106935 0.81293782 0.79391367 0.77200179 0.76011156\n",
      " 0.77081271 0.77047296 0.76622655 0.76333893 0.78593021 0.7762482\n",
      " 0.76164039 0.7769277  0.7872891  0.80682294 0.80903105 0.8010477\n",
      " 0.79187527 0.7879686  0.78898765 0.79544228 0.80172709 0.80818173\n",
      " 0.80682294 0.80444479 0.80325592 0.80274624 0.79934905 0.79782043\n",
      " 0.78949722 0.79917923 0.80189692 0.80682294 0.80716269 0.78253301\n",
      " 0.78185362 0.78593021 0.77183196 0.77879617 0.77964539 0.76843477\n",
      " 0.76181021 0.75773352 0.76028138 0.75790344 0.75790344 0.75722394\n",
      " 0.7692841  0.77098264 0.77658795 0.77283487 0.7741996  0.75918737\n",
      " 0.75696968 0.75969913 0.74519867 0.74519867 0.72660402 0.72933347\n",
      " 0.74502812 0.76839947 0.76618167 0.75168121 0.76379342 0.73755717\n",
      " 0.73625076 0.73130888 0.72460401 0.71725392 0.70982891 0.70261633\n",
      " 0.69577521 0.68940461]\n",
      "9 day output [[0.6835666]]\n",
      "10 day input [0.70303889 0.67840932 0.66346165 0.67059578 0.6644809  0.68435438\n",
      " 0.69709383 0.6838447  0.69301724 0.67993804 0.67059578 0.65904536\n",
      " 0.6607439  0.64239915 0.64800446 0.65310025 0.68843097 0.69607468\n",
      " 0.68469403 0.71187157 0.6982828  0.6976034  0.69947187 0.69845272\n",
      " 0.69845272 0.73191497 0.74261613 0.75195838 0.78168379 0.77879617\n",
      " 0.7782866  0.79408349 0.77658795 0.77302083 0.76435808 0.80631336\n",
      " 0.7886479  0.77336058 0.77183196 0.78694935 0.82329933 0.82482794\n",
      " 0.82890464 0.83994544 0.87731456 0.85200538 0.86015877 0.85829019\n",
      " 0.83145251 0.83841671 0.81939256 0.83467988 0.81973221 0.83722774\n",
      " 0.83518945 0.84707957 0.83739757 0.80699276 0.84011526 0.80410524\n",
      " 0.79561221 0.80818173 0.81005031 0.8231294  0.80223667 0.79629161\n",
      " 0.77845642 0.80291617 0.79816008 0.79085612 0.77930564 0.78593021\n",
      " 0.77454966 0.78576028 0.76945381 0.77047296 0.78983697 0.79510253\n",
      " 0.81106935 0.81293782 0.79391367 0.77200179 0.76011156 0.77081271\n",
      " 0.77047296 0.76622655 0.76333893 0.78593021 0.7762482  0.76164039\n",
      " 0.7769277  0.7872891  0.80682294 0.80903105 0.8010477  0.79187527\n",
      " 0.7879686  0.78898765 0.79544228 0.80172709 0.80818173 0.80682294\n",
      " 0.80444479 0.80325592 0.80274624 0.79934905 0.79782043 0.78949722\n",
      " 0.79917923 0.80189692 0.80682294 0.80716269 0.78253301 0.78185362\n",
      " 0.78593021 0.77183196 0.77879617 0.77964539 0.76843477 0.76181021\n",
      " 0.75773352 0.76028138 0.75790344 0.75790344 0.75722394 0.7692841\n",
      " 0.77098264 0.77658795 0.77283487 0.7741996  0.75918737 0.75696968\n",
      " 0.75969913 0.74519867 0.74519867 0.72660402 0.72933347 0.74502812\n",
      " 0.76839947 0.76618167 0.75168121 0.76379342 0.73755717 0.73625076\n",
      " 0.73130888 0.72460401 0.71725392 0.70982891 0.70261633 0.69577521\n",
      " 0.68940461 0.68356657]\n",
      "10 day output [[0.67829245]]\n",
      "11 day input [0.67840932 0.66346165 0.67059578 0.6644809  0.68435438 0.69709383\n",
      " 0.6838447  0.69301724 0.67993804 0.67059578 0.65904536 0.6607439\n",
      " 0.64239915 0.64800446 0.65310025 0.68843097 0.69607468 0.68469403\n",
      " 0.71187157 0.6982828  0.6976034  0.69947187 0.69845272 0.69845272\n",
      " 0.73191497 0.74261613 0.75195838 0.78168379 0.77879617 0.7782866\n",
      " 0.79408349 0.77658795 0.77302083 0.76435808 0.80631336 0.7886479\n",
      " 0.77336058 0.77183196 0.78694935 0.82329933 0.82482794 0.82890464\n",
      " 0.83994544 0.87731456 0.85200538 0.86015877 0.85829019 0.83145251\n",
      " 0.83841671 0.81939256 0.83467988 0.81973221 0.83722774 0.83518945\n",
      " 0.84707957 0.83739757 0.80699276 0.84011526 0.80410524 0.79561221\n",
      " 0.80818173 0.81005031 0.8231294  0.80223667 0.79629161 0.77845642\n",
      " 0.80291617 0.79816008 0.79085612 0.77930564 0.78593021 0.77454966\n",
      " 0.78576028 0.76945381 0.77047296 0.78983697 0.79510253 0.81106935\n",
      " 0.81293782 0.79391367 0.77200179 0.76011156 0.77081271 0.77047296\n",
      " 0.76622655 0.76333893 0.78593021 0.7762482  0.76164039 0.7769277\n",
      " 0.7872891  0.80682294 0.80903105 0.8010477  0.79187527 0.7879686\n",
      " 0.78898765 0.79544228 0.80172709 0.80818173 0.80682294 0.80444479\n",
      " 0.80325592 0.80274624 0.79934905 0.79782043 0.78949722 0.79917923\n",
      " 0.80189692 0.80682294 0.80716269 0.78253301 0.78185362 0.78593021\n",
      " 0.77183196 0.77879617 0.77964539 0.76843477 0.76181021 0.75773352\n",
      " 0.76028138 0.75790344 0.75790344 0.75722394 0.7692841  0.77098264\n",
      " 0.77658795 0.77283487 0.7741996  0.75918737 0.75696968 0.75969913\n",
      " 0.74519867 0.74519867 0.72660402 0.72933347 0.74502812 0.76839947\n",
      " 0.76618167 0.75168121 0.76379342 0.73755717 0.73625076 0.73130888\n",
      " 0.72460401 0.71725392 0.70982891 0.70261633 0.69577521 0.68940461\n",
      " 0.68356657 0.67829245]\n",
      "11 day output [[0.67358404]]\n",
      "12 day input [0.66346165 0.67059578 0.6644809  0.68435438 0.69709383 0.6838447\n",
      " 0.69301724 0.67993804 0.67059578 0.65904536 0.6607439  0.64239915\n",
      " 0.64800446 0.65310025 0.68843097 0.69607468 0.68469403 0.71187157\n",
      " 0.6982828  0.6976034  0.69947187 0.69845272 0.69845272 0.73191497\n",
      " 0.74261613 0.75195838 0.78168379 0.77879617 0.7782866  0.79408349\n",
      " 0.77658795 0.77302083 0.76435808 0.80631336 0.7886479  0.77336058\n",
      " 0.77183196 0.78694935 0.82329933 0.82482794 0.82890464 0.83994544\n",
      " 0.87731456 0.85200538 0.86015877 0.85829019 0.83145251 0.83841671\n",
      " 0.81939256 0.83467988 0.81973221 0.83722774 0.83518945 0.84707957\n",
      " 0.83739757 0.80699276 0.84011526 0.80410524 0.79561221 0.80818173\n",
      " 0.81005031 0.8231294  0.80223667 0.79629161 0.77845642 0.80291617\n",
      " 0.79816008 0.79085612 0.77930564 0.78593021 0.77454966 0.78576028\n",
      " 0.76945381 0.77047296 0.78983697 0.79510253 0.81106935 0.81293782\n",
      " 0.79391367 0.77200179 0.76011156 0.77081271 0.77047296 0.76622655\n",
      " 0.76333893 0.78593021 0.7762482  0.76164039 0.7769277  0.7872891\n",
      " 0.80682294 0.80903105 0.8010477  0.79187527 0.7879686  0.78898765\n",
      " 0.79544228 0.80172709 0.80818173 0.80682294 0.80444479 0.80325592\n",
      " 0.80274624 0.79934905 0.79782043 0.78949722 0.79917923 0.80189692\n",
      " 0.80682294 0.80716269 0.78253301 0.78185362 0.78593021 0.77183196\n",
      " 0.77879617 0.77964539 0.76843477 0.76181021 0.75773352 0.76028138\n",
      " 0.75790344 0.75790344 0.75722394 0.7692841  0.77098264 0.77658795\n",
      " 0.77283487 0.7741996  0.75918737 0.75696968 0.75969913 0.74519867\n",
      " 0.74519867 0.72660402 0.72933347 0.74502812 0.76839947 0.76618167\n",
      " 0.75168121 0.76379342 0.73755717 0.73625076 0.73130888 0.72460401\n",
      " 0.71725392 0.70982891 0.70261633 0.69577521 0.68940461 0.68356657\n",
      " 0.67829245 0.67358404]\n",
      "12 day output [[0.6694188]]\n",
      "13 day input [0.67059578 0.6644809  0.68435438 0.69709383 0.6838447  0.69301724\n",
      " 0.67993804 0.67059578 0.65904536 0.6607439  0.64239915 0.64800446\n",
      " 0.65310025 0.68843097 0.69607468 0.68469403 0.71187157 0.6982828\n",
      " 0.6976034  0.69947187 0.69845272 0.69845272 0.73191497 0.74261613\n",
      " 0.75195838 0.78168379 0.77879617 0.7782866  0.79408349 0.77658795\n",
      " 0.77302083 0.76435808 0.80631336 0.7886479  0.77336058 0.77183196\n",
      " 0.78694935 0.82329933 0.82482794 0.82890464 0.83994544 0.87731456\n",
      " 0.85200538 0.86015877 0.85829019 0.83145251 0.83841671 0.81939256\n",
      " 0.83467988 0.81973221 0.83722774 0.83518945 0.84707957 0.83739757\n",
      " 0.80699276 0.84011526 0.80410524 0.79561221 0.80818173 0.81005031\n",
      " 0.8231294  0.80223667 0.79629161 0.77845642 0.80291617 0.79816008\n",
      " 0.79085612 0.77930564 0.78593021 0.77454966 0.78576028 0.76945381\n",
      " 0.77047296 0.78983697 0.79510253 0.81106935 0.81293782 0.79391367\n",
      " 0.77200179 0.76011156 0.77081271 0.77047296 0.76622655 0.76333893\n",
      " 0.78593021 0.7762482  0.76164039 0.7769277  0.7872891  0.80682294\n",
      " 0.80903105 0.8010477  0.79187527 0.7879686  0.78898765 0.79544228\n",
      " 0.80172709 0.80818173 0.80682294 0.80444479 0.80325592 0.80274624\n",
      " 0.79934905 0.79782043 0.78949722 0.79917923 0.80189692 0.80682294\n",
      " 0.80716269 0.78253301 0.78185362 0.78593021 0.77183196 0.77879617\n",
      " 0.77964539 0.76843477 0.76181021 0.75773352 0.76028138 0.75790344\n",
      " 0.75790344 0.75722394 0.7692841  0.77098264 0.77658795 0.77283487\n",
      " 0.7741996  0.75918737 0.75696968 0.75969913 0.74519867 0.74519867\n",
      " 0.72660402 0.72933347 0.74502812 0.76839947 0.76618167 0.75168121\n",
      " 0.76379342 0.73755717 0.73625076 0.73130888 0.72460401 0.71725392\n",
      " 0.70982891 0.70261633 0.69577521 0.68940461 0.68356657 0.67829245\n",
      " 0.67358404 0.66941881]\n",
      "13 day output [[0.66575336]]\n",
      "14 day input [0.6644809  0.68435438 0.69709383 0.6838447  0.69301724 0.67993804\n",
      " 0.67059578 0.65904536 0.6607439  0.64239915 0.64800446 0.65310025\n",
      " 0.68843097 0.69607468 0.68469403 0.71187157 0.6982828  0.6976034\n",
      " 0.69947187 0.69845272 0.69845272 0.73191497 0.74261613 0.75195838\n",
      " 0.78168379 0.77879617 0.7782866  0.79408349 0.77658795 0.77302083\n",
      " 0.76435808 0.80631336 0.7886479  0.77336058 0.77183196 0.78694935\n",
      " 0.82329933 0.82482794 0.82890464 0.83994544 0.87731456 0.85200538\n",
      " 0.86015877 0.85829019 0.83145251 0.83841671 0.81939256 0.83467988\n",
      " 0.81973221 0.83722774 0.83518945 0.84707957 0.83739757 0.80699276\n",
      " 0.84011526 0.80410524 0.79561221 0.80818173 0.81005031 0.8231294\n",
      " 0.80223667 0.79629161 0.77845642 0.80291617 0.79816008 0.79085612\n",
      " 0.77930564 0.78593021 0.77454966 0.78576028 0.76945381 0.77047296\n",
      " 0.78983697 0.79510253 0.81106935 0.81293782 0.79391367 0.77200179\n",
      " 0.76011156 0.77081271 0.77047296 0.76622655 0.76333893 0.78593021\n",
      " 0.7762482  0.76164039 0.7769277  0.7872891  0.80682294 0.80903105\n",
      " 0.8010477  0.79187527 0.7879686  0.78898765 0.79544228 0.80172709\n",
      " 0.80818173 0.80682294 0.80444479 0.80325592 0.80274624 0.79934905\n",
      " 0.79782043 0.78949722 0.79917923 0.80189692 0.80682294 0.80716269\n",
      " 0.78253301 0.78185362 0.78593021 0.77183196 0.77879617 0.77964539\n",
      " 0.76843477 0.76181021 0.75773352 0.76028138 0.75790344 0.75790344\n",
      " 0.75722394 0.7692841  0.77098264 0.77658795 0.77283487 0.7741996\n",
      " 0.75918737 0.75696968 0.75969913 0.74519867 0.74519867 0.72660402\n",
      " 0.72933347 0.74502812 0.76839947 0.76618167 0.75168121 0.76379342\n",
      " 0.73755717 0.73625076 0.73130888 0.72460401 0.71725392 0.70982891\n",
      " 0.70261633 0.69577521 0.68940461 0.68356657 0.67829245 0.67358404\n",
      " 0.66941881 0.66575336]\n",
      "14 day output [[0.6625278]]\n",
      "15 day input [0.68435438 0.69709383 0.6838447  0.69301724 0.67993804 0.67059578\n",
      " 0.65904536 0.6607439  0.64239915 0.64800446 0.65310025 0.68843097\n",
      " 0.69607468 0.68469403 0.71187157 0.6982828  0.6976034  0.69947187\n",
      " 0.69845272 0.69845272 0.73191497 0.74261613 0.75195838 0.78168379\n",
      " 0.77879617 0.7782866  0.79408349 0.77658795 0.77302083 0.76435808\n",
      " 0.80631336 0.7886479  0.77336058 0.77183196 0.78694935 0.82329933\n",
      " 0.82482794 0.82890464 0.83994544 0.87731456 0.85200538 0.86015877\n",
      " 0.85829019 0.83145251 0.83841671 0.81939256 0.83467988 0.81973221\n",
      " 0.83722774 0.83518945 0.84707957 0.83739757 0.80699276 0.84011526\n",
      " 0.80410524 0.79561221 0.80818173 0.81005031 0.8231294  0.80223667\n",
      " 0.79629161 0.77845642 0.80291617 0.79816008 0.79085612 0.77930564\n",
      " 0.78593021 0.77454966 0.78576028 0.76945381 0.77047296 0.78983697\n",
      " 0.79510253 0.81106935 0.81293782 0.79391367 0.77200179 0.76011156\n",
      " 0.77081271 0.77047296 0.76622655 0.76333893 0.78593021 0.7762482\n",
      " 0.76164039 0.7769277  0.7872891  0.80682294 0.80903105 0.8010477\n",
      " 0.79187527 0.7879686  0.78898765 0.79544228 0.80172709 0.80818173\n",
      " 0.80682294 0.80444479 0.80325592 0.80274624 0.79934905 0.79782043\n",
      " 0.78949722 0.79917923 0.80189692 0.80682294 0.80716269 0.78253301\n",
      " 0.78185362 0.78593021 0.77183196 0.77879617 0.77964539 0.76843477\n",
      " 0.76181021 0.75773352 0.76028138 0.75790344 0.75790344 0.75722394\n",
      " 0.7692841  0.77098264 0.77658795 0.77283487 0.7741996  0.75918737\n",
      " 0.75696968 0.75969913 0.74519867 0.74519867 0.72660402 0.72933347\n",
      " 0.74502812 0.76839947 0.76618167 0.75168121 0.76379342 0.73755717\n",
      " 0.73625076 0.73130888 0.72460401 0.71725392 0.70982891 0.70261633\n",
      " 0.69577521 0.68940461 0.68356657 0.67829245 0.67358404 0.66941881\n",
      " 0.66575336 0.6625278 ]\n",
      "15 day output [[0.6596731]]\n",
      "16 day input [0.69709383 0.6838447  0.69301724 0.67993804 0.67059578 0.65904536\n",
      " 0.6607439  0.64239915 0.64800446 0.65310025 0.68843097 0.69607468\n",
      " 0.68469403 0.71187157 0.6982828  0.6976034  0.69947187 0.69845272\n",
      " 0.69845272 0.73191497 0.74261613 0.75195838 0.78168379 0.77879617\n",
      " 0.7782866  0.79408349 0.77658795 0.77302083 0.76435808 0.80631336\n",
      " 0.7886479  0.77336058 0.77183196 0.78694935 0.82329933 0.82482794\n",
      " 0.82890464 0.83994544 0.87731456 0.85200538 0.86015877 0.85829019\n",
      " 0.83145251 0.83841671 0.81939256 0.83467988 0.81973221 0.83722774\n",
      " 0.83518945 0.84707957 0.83739757 0.80699276 0.84011526 0.80410524\n",
      " 0.79561221 0.80818173 0.81005031 0.8231294  0.80223667 0.79629161\n",
      " 0.77845642 0.80291617 0.79816008 0.79085612 0.77930564 0.78593021\n",
      " 0.77454966 0.78576028 0.76945381 0.77047296 0.78983697 0.79510253\n",
      " 0.81106935 0.81293782 0.79391367 0.77200179 0.76011156 0.77081271\n",
      " 0.77047296 0.76622655 0.76333893 0.78593021 0.7762482  0.76164039\n",
      " 0.7769277  0.7872891  0.80682294 0.80903105 0.8010477  0.79187527\n",
      " 0.7879686  0.78898765 0.79544228 0.80172709 0.80818173 0.80682294\n",
      " 0.80444479 0.80325592 0.80274624 0.79934905 0.79782043 0.78949722\n",
      " 0.79917923 0.80189692 0.80682294 0.80716269 0.78253301 0.78185362\n",
      " 0.78593021 0.77183196 0.77879617 0.77964539 0.76843477 0.76181021\n",
      " 0.75773352 0.76028138 0.75790344 0.75790344 0.75722394 0.7692841\n",
      " 0.77098264 0.77658795 0.77283487 0.7741996  0.75918737 0.75696968\n",
      " 0.75969913 0.74519867 0.74519867 0.72660402 0.72933347 0.74502812\n",
      " 0.76839947 0.76618167 0.75168121 0.76379342 0.73755717 0.73625076\n",
      " 0.73130888 0.72460401 0.71725392 0.70982891 0.70261633 0.69577521\n",
      " 0.68940461 0.68356657 0.67829245 0.67358404 0.66941881 0.66575336\n",
      " 0.6625278  0.65967309]\n",
      "16 day output [[0.65711457]]\n",
      "17 day input [0.6838447  0.69301724 0.67993804 0.67059578 0.65904536 0.6607439\n",
      " 0.64239915 0.64800446 0.65310025 0.68843097 0.69607468 0.68469403\n",
      " 0.71187157 0.6982828  0.6976034  0.69947187 0.69845272 0.69845272\n",
      " 0.73191497 0.74261613 0.75195838 0.78168379 0.77879617 0.7782866\n",
      " 0.79408349 0.77658795 0.77302083 0.76435808 0.80631336 0.7886479\n",
      " 0.77336058 0.77183196 0.78694935 0.82329933 0.82482794 0.82890464\n",
      " 0.83994544 0.87731456 0.85200538 0.86015877 0.85829019 0.83145251\n",
      " 0.83841671 0.81939256 0.83467988 0.81973221 0.83722774 0.83518945\n",
      " 0.84707957 0.83739757 0.80699276 0.84011526 0.80410524 0.79561221\n",
      " 0.80818173 0.81005031 0.8231294  0.80223667 0.79629161 0.77845642\n",
      " 0.80291617 0.79816008 0.79085612 0.77930564 0.78593021 0.77454966\n",
      " 0.78576028 0.76945381 0.77047296 0.78983697 0.79510253 0.81106935\n",
      " 0.81293782 0.79391367 0.77200179 0.76011156 0.77081271 0.77047296\n",
      " 0.76622655 0.76333893 0.78593021 0.7762482  0.76164039 0.7769277\n",
      " 0.7872891  0.80682294 0.80903105 0.8010477  0.79187527 0.7879686\n",
      " 0.78898765 0.79544228 0.80172709 0.80818173 0.80682294 0.80444479\n",
      " 0.80325592 0.80274624 0.79934905 0.79782043 0.78949722 0.79917923\n",
      " 0.80189692 0.80682294 0.80716269 0.78253301 0.78185362 0.78593021\n",
      " 0.77183196 0.77879617 0.77964539 0.76843477 0.76181021 0.75773352\n",
      " 0.76028138 0.75790344 0.75790344 0.75722394 0.7692841  0.77098264\n",
      " 0.77658795 0.77283487 0.7741996  0.75918737 0.75696968 0.75969913\n",
      " 0.74519867 0.74519867 0.72660402 0.72933347 0.74502812 0.76839947\n",
      " 0.76618167 0.75168121 0.76379342 0.73755717 0.73625076 0.73130888\n",
      " 0.72460401 0.71725392 0.70982891 0.70261633 0.69577521 0.68940461\n",
      " 0.68356657 0.67829245 0.67358404 0.66941881 0.66575336 0.6625278\n",
      " 0.65967309 0.65711457]\n",
      "17 day output [[0.65477705]]\n",
      "18 day input [0.69301724 0.67993804 0.67059578 0.65904536 0.6607439  0.64239915\n",
      " 0.64800446 0.65310025 0.68843097 0.69607468 0.68469403 0.71187157\n",
      " 0.6982828  0.6976034  0.69947187 0.69845272 0.69845272 0.73191497\n",
      " 0.74261613 0.75195838 0.78168379 0.77879617 0.7782866  0.79408349\n",
      " 0.77658795 0.77302083 0.76435808 0.80631336 0.7886479  0.77336058\n",
      " 0.77183196 0.78694935 0.82329933 0.82482794 0.82890464 0.83994544\n",
      " 0.87731456 0.85200538 0.86015877 0.85829019 0.83145251 0.83841671\n",
      " 0.81939256 0.83467988 0.81973221 0.83722774 0.83518945 0.84707957\n",
      " 0.83739757 0.80699276 0.84011526 0.80410524 0.79561221 0.80818173\n",
      " 0.81005031 0.8231294  0.80223667 0.79629161 0.77845642 0.80291617\n",
      " 0.79816008 0.79085612 0.77930564 0.78593021 0.77454966 0.78576028\n",
      " 0.76945381 0.77047296 0.78983697 0.79510253 0.81106935 0.81293782\n",
      " 0.79391367 0.77200179 0.76011156 0.77081271 0.77047296 0.76622655\n",
      " 0.76333893 0.78593021 0.7762482  0.76164039 0.7769277  0.7872891\n",
      " 0.80682294 0.80903105 0.8010477  0.79187527 0.7879686  0.78898765\n",
      " 0.79544228 0.80172709 0.80818173 0.80682294 0.80444479 0.80325592\n",
      " 0.80274624 0.79934905 0.79782043 0.78949722 0.79917923 0.80189692\n",
      " 0.80682294 0.80716269 0.78253301 0.78185362 0.78593021 0.77183196\n",
      " 0.77879617 0.77964539 0.76843477 0.76181021 0.75773352 0.76028138\n",
      " 0.75790344 0.75790344 0.75722394 0.7692841  0.77098264 0.77658795\n",
      " 0.77283487 0.7741996  0.75918737 0.75696968 0.75969913 0.74519867\n",
      " 0.74519867 0.72660402 0.72933347 0.74502812 0.76839947 0.76618167\n",
      " 0.75168121 0.76379342 0.73755717 0.73625076 0.73130888 0.72460401\n",
      " 0.71725392 0.70982891 0.70261633 0.69577521 0.68940461 0.68356657\n",
      " 0.67829245 0.67358404 0.66941881 0.66575336 0.6625278  0.65967309\n",
      " 0.65711457 0.65477705]\n",
      "18 day output [[0.6525893]]\n",
      "19 day input [0.67993804 0.67059578 0.65904536 0.6607439  0.64239915 0.64800446\n",
      " 0.65310025 0.68843097 0.69607468 0.68469403 0.71187157 0.6982828\n",
      " 0.6976034  0.69947187 0.69845272 0.69845272 0.73191497 0.74261613\n",
      " 0.75195838 0.78168379 0.77879617 0.7782866  0.79408349 0.77658795\n",
      " 0.77302083 0.76435808 0.80631336 0.7886479  0.77336058 0.77183196\n",
      " 0.78694935 0.82329933 0.82482794 0.82890464 0.83994544 0.87731456\n",
      " 0.85200538 0.86015877 0.85829019 0.83145251 0.83841671 0.81939256\n",
      " 0.83467988 0.81973221 0.83722774 0.83518945 0.84707957 0.83739757\n",
      " 0.80699276 0.84011526 0.80410524 0.79561221 0.80818173 0.81005031\n",
      " 0.8231294  0.80223667 0.79629161 0.77845642 0.80291617 0.79816008\n",
      " 0.79085612 0.77930564 0.78593021 0.77454966 0.78576028 0.76945381\n",
      " 0.77047296 0.78983697 0.79510253 0.81106935 0.81293782 0.79391367\n",
      " 0.77200179 0.76011156 0.77081271 0.77047296 0.76622655 0.76333893\n",
      " 0.78593021 0.7762482  0.76164039 0.7769277  0.7872891  0.80682294\n",
      " 0.80903105 0.8010477  0.79187527 0.7879686  0.78898765 0.79544228\n",
      " 0.80172709 0.80818173 0.80682294 0.80444479 0.80325592 0.80274624\n",
      " 0.79934905 0.79782043 0.78949722 0.79917923 0.80189692 0.80682294\n",
      " 0.80716269 0.78253301 0.78185362 0.78593021 0.77183196 0.77879617\n",
      " 0.77964539 0.76843477 0.76181021 0.75773352 0.76028138 0.75790344\n",
      " 0.75790344 0.75722394 0.7692841  0.77098264 0.77658795 0.77283487\n",
      " 0.7741996  0.75918737 0.75696968 0.75969913 0.74519867 0.74519867\n",
      " 0.72660402 0.72933347 0.74502812 0.76839947 0.76618167 0.75168121\n",
      " 0.76379342 0.73755717 0.73625076 0.73130888 0.72460401 0.71725392\n",
      " 0.70982891 0.70261633 0.69577521 0.68940461 0.68356657 0.67829245\n",
      " 0.67358404 0.66941881 0.66575336 0.6625278  0.65967309 0.65711457\n",
      " 0.65477705 0.65258932]\n",
      "19 day output [[0.6504861]]\n",
      "20 day input [0.67059578 0.65904536 0.6607439  0.64239915 0.64800446 0.65310025\n",
      " 0.68843097 0.69607468 0.68469403 0.71187157 0.6982828  0.6976034\n",
      " 0.69947187 0.69845272 0.69845272 0.73191497 0.74261613 0.75195838\n",
      " 0.78168379 0.77879617 0.7782866  0.79408349 0.77658795 0.77302083\n",
      " 0.76435808 0.80631336 0.7886479  0.77336058 0.77183196 0.78694935\n",
      " 0.82329933 0.82482794 0.82890464 0.83994544 0.87731456 0.85200538\n",
      " 0.86015877 0.85829019 0.83145251 0.83841671 0.81939256 0.83467988\n",
      " 0.81973221 0.83722774 0.83518945 0.84707957 0.83739757 0.80699276\n",
      " 0.84011526 0.80410524 0.79561221 0.80818173 0.81005031 0.8231294\n",
      " 0.80223667 0.79629161 0.77845642 0.80291617 0.79816008 0.79085612\n",
      " 0.77930564 0.78593021 0.77454966 0.78576028 0.76945381 0.77047296\n",
      " 0.78983697 0.79510253 0.81106935 0.81293782 0.79391367 0.77200179\n",
      " 0.76011156 0.77081271 0.77047296 0.76622655 0.76333893 0.78593021\n",
      " 0.7762482  0.76164039 0.7769277  0.7872891  0.80682294 0.80903105\n",
      " 0.8010477  0.79187527 0.7879686  0.78898765 0.79544228 0.80172709\n",
      " 0.80818173 0.80682294 0.80444479 0.80325592 0.80274624 0.79934905\n",
      " 0.79782043 0.78949722 0.79917923 0.80189692 0.80682294 0.80716269\n",
      " 0.78253301 0.78185362 0.78593021 0.77183196 0.77879617 0.77964539\n",
      " 0.76843477 0.76181021 0.75773352 0.76028138 0.75790344 0.75790344\n",
      " 0.75722394 0.7692841  0.77098264 0.77658795 0.77283487 0.7741996\n",
      " 0.75918737 0.75696968 0.75969913 0.74519867 0.74519867 0.72660402\n",
      " 0.72933347 0.74502812 0.76839947 0.76618167 0.75168121 0.76379342\n",
      " 0.73755717 0.73625076 0.73130888 0.72460401 0.71725392 0.70982891\n",
      " 0.70261633 0.69577521 0.68940461 0.68356657 0.67829245 0.67358404\n",
      " 0.66941881 0.66575336 0.6625278  0.65967309 0.65711457 0.65477705\n",
      " 0.65258932 0.65048611]\n",
      "20 day output [[0.64841115]]\n",
      "21 day input [0.65904536 0.6607439  0.64239915 0.64800446 0.65310025 0.68843097\n",
      " 0.69607468 0.68469403 0.71187157 0.6982828  0.6976034  0.69947187\n",
      " 0.69845272 0.69845272 0.73191497 0.74261613 0.75195838 0.78168379\n",
      " 0.77879617 0.7782866  0.79408349 0.77658795 0.77302083 0.76435808\n",
      " 0.80631336 0.7886479  0.77336058 0.77183196 0.78694935 0.82329933\n",
      " 0.82482794 0.82890464 0.83994544 0.87731456 0.85200538 0.86015877\n",
      " 0.85829019 0.83145251 0.83841671 0.81939256 0.83467988 0.81973221\n",
      " 0.83722774 0.83518945 0.84707957 0.83739757 0.80699276 0.84011526\n",
      " 0.80410524 0.79561221 0.80818173 0.81005031 0.8231294  0.80223667\n",
      " 0.79629161 0.77845642 0.80291617 0.79816008 0.79085612 0.77930564\n",
      " 0.78593021 0.77454966 0.78576028 0.76945381 0.77047296 0.78983697\n",
      " 0.79510253 0.81106935 0.81293782 0.79391367 0.77200179 0.76011156\n",
      " 0.77081271 0.77047296 0.76622655 0.76333893 0.78593021 0.7762482\n",
      " 0.76164039 0.7769277  0.7872891  0.80682294 0.80903105 0.8010477\n",
      " 0.79187527 0.7879686  0.78898765 0.79544228 0.80172709 0.80818173\n",
      " 0.80682294 0.80444479 0.80325592 0.80274624 0.79934905 0.79782043\n",
      " 0.78949722 0.79917923 0.80189692 0.80682294 0.80716269 0.78253301\n",
      " 0.78185362 0.78593021 0.77183196 0.77879617 0.77964539 0.76843477\n",
      " 0.76181021 0.75773352 0.76028138 0.75790344 0.75790344 0.75722394\n",
      " 0.7692841  0.77098264 0.77658795 0.77283487 0.7741996  0.75918737\n",
      " 0.75696968 0.75969913 0.74519867 0.74519867 0.72660402 0.72933347\n",
      " 0.74502812 0.76839947 0.76618167 0.75168121 0.76379342 0.73755717\n",
      " 0.73625076 0.73130888 0.72460401 0.71725392 0.70982891 0.70261633\n",
      " 0.69577521 0.68940461 0.68356657 0.67829245 0.67358404 0.66941881\n",
      " 0.66575336 0.6625278  0.65967309 0.65711457 0.65477705 0.65258932\n",
      " 0.65048611 0.64841115]\n",
      "21 day output [[0.6463179]]\n",
      "22 day input [0.6607439  0.64239915 0.64800446 0.65310025 0.68843097 0.69607468\n",
      " 0.68469403 0.71187157 0.6982828  0.6976034  0.69947187 0.69845272\n",
      " 0.69845272 0.73191497 0.74261613 0.75195838 0.78168379 0.77879617\n",
      " 0.7782866  0.79408349 0.77658795 0.77302083 0.76435808 0.80631336\n",
      " 0.7886479  0.77336058 0.77183196 0.78694935 0.82329933 0.82482794\n",
      " 0.82890464 0.83994544 0.87731456 0.85200538 0.86015877 0.85829019\n",
      " 0.83145251 0.83841671 0.81939256 0.83467988 0.81973221 0.83722774\n",
      " 0.83518945 0.84707957 0.83739757 0.80699276 0.84011526 0.80410524\n",
      " 0.79561221 0.80818173 0.81005031 0.8231294  0.80223667 0.79629161\n",
      " 0.77845642 0.80291617 0.79816008 0.79085612 0.77930564 0.78593021\n",
      " 0.77454966 0.78576028 0.76945381 0.77047296 0.78983697 0.79510253\n",
      " 0.81106935 0.81293782 0.79391367 0.77200179 0.76011156 0.77081271\n",
      " 0.77047296 0.76622655 0.76333893 0.78593021 0.7762482  0.76164039\n",
      " 0.7769277  0.7872891  0.80682294 0.80903105 0.8010477  0.79187527\n",
      " 0.7879686  0.78898765 0.79544228 0.80172709 0.80818173 0.80682294\n",
      " 0.80444479 0.80325592 0.80274624 0.79934905 0.79782043 0.78949722\n",
      " 0.79917923 0.80189692 0.80682294 0.80716269 0.78253301 0.78185362\n",
      " 0.78593021 0.77183196 0.77879617 0.77964539 0.76843477 0.76181021\n",
      " 0.75773352 0.76028138 0.75790344 0.75790344 0.75722394 0.7692841\n",
      " 0.77098264 0.77658795 0.77283487 0.7741996  0.75918737 0.75696968\n",
      " 0.75969913 0.74519867 0.74519867 0.72660402 0.72933347 0.74502812\n",
      " 0.76839947 0.76618167 0.75168121 0.76379342 0.73755717 0.73625076\n",
      " 0.73130888 0.72460401 0.71725392 0.70982891 0.70261633 0.69577521\n",
      " 0.68940461 0.68356657 0.67829245 0.67358404 0.66941881 0.66575336\n",
      " 0.6625278  0.65967309 0.65711457 0.65477705 0.65258932 0.65048611\n",
      " 0.64841115 0.6463179 ]\n",
      "22 day output [[0.64417166]]\n",
      "23 day input [0.64239915 0.64800446 0.65310025 0.68843097 0.69607468 0.68469403\n",
      " 0.71187157 0.6982828  0.6976034  0.69947187 0.69845272 0.69845272\n",
      " 0.73191497 0.74261613 0.75195838 0.78168379 0.77879617 0.7782866\n",
      " 0.79408349 0.77658795 0.77302083 0.76435808 0.80631336 0.7886479\n",
      " 0.77336058 0.77183196 0.78694935 0.82329933 0.82482794 0.82890464\n",
      " 0.83994544 0.87731456 0.85200538 0.86015877 0.85829019 0.83145251\n",
      " 0.83841671 0.81939256 0.83467988 0.81973221 0.83722774 0.83518945\n",
      " 0.84707957 0.83739757 0.80699276 0.84011526 0.80410524 0.79561221\n",
      " 0.80818173 0.81005031 0.8231294  0.80223667 0.79629161 0.77845642\n",
      " 0.80291617 0.79816008 0.79085612 0.77930564 0.78593021 0.77454966\n",
      " 0.78576028 0.76945381 0.77047296 0.78983697 0.79510253 0.81106935\n",
      " 0.81293782 0.79391367 0.77200179 0.76011156 0.77081271 0.77047296\n",
      " 0.76622655 0.76333893 0.78593021 0.7762482  0.76164039 0.7769277\n",
      " 0.7872891  0.80682294 0.80903105 0.8010477  0.79187527 0.7879686\n",
      " 0.78898765 0.79544228 0.80172709 0.80818173 0.80682294 0.80444479\n",
      " 0.80325592 0.80274624 0.79934905 0.79782043 0.78949722 0.79917923\n",
      " 0.80189692 0.80682294 0.80716269 0.78253301 0.78185362 0.78593021\n",
      " 0.77183196 0.77879617 0.77964539 0.76843477 0.76181021 0.75773352\n",
      " 0.76028138 0.75790344 0.75790344 0.75722394 0.7692841  0.77098264\n",
      " 0.77658795 0.77283487 0.7741996  0.75918737 0.75696968 0.75969913\n",
      " 0.74519867 0.74519867 0.72660402 0.72933347 0.74502812 0.76839947\n",
      " 0.76618167 0.75168121 0.76379342 0.73755717 0.73625076 0.73130888\n",
      " 0.72460401 0.71725392 0.70982891 0.70261633 0.69577521 0.68940461\n",
      " 0.68356657 0.67829245 0.67358404 0.66941881 0.66575336 0.6625278\n",
      " 0.65967309 0.65711457 0.65477705 0.65258932 0.65048611 0.64841115\n",
      " 0.6463179  0.64417166]\n",
      "23 day output [[0.6419476]]\n",
      "24 day input [0.64800446 0.65310025 0.68843097 0.69607468 0.68469403 0.71187157\n",
      " 0.6982828  0.6976034  0.69947187 0.69845272 0.69845272 0.73191497\n",
      " 0.74261613 0.75195838 0.78168379 0.77879617 0.7782866  0.79408349\n",
      " 0.77658795 0.77302083 0.76435808 0.80631336 0.7886479  0.77336058\n",
      " 0.77183196 0.78694935 0.82329933 0.82482794 0.82890464 0.83994544\n",
      " 0.87731456 0.85200538 0.86015877 0.85829019 0.83145251 0.83841671\n",
      " 0.81939256 0.83467988 0.81973221 0.83722774 0.83518945 0.84707957\n",
      " 0.83739757 0.80699276 0.84011526 0.80410524 0.79561221 0.80818173\n",
      " 0.81005031 0.8231294  0.80223667 0.79629161 0.77845642 0.80291617\n",
      " 0.79816008 0.79085612 0.77930564 0.78593021 0.77454966 0.78576028\n",
      " 0.76945381 0.77047296 0.78983697 0.79510253 0.81106935 0.81293782\n",
      " 0.79391367 0.77200179 0.76011156 0.77081271 0.77047296 0.76622655\n",
      " 0.76333893 0.78593021 0.7762482  0.76164039 0.7769277  0.7872891\n",
      " 0.80682294 0.80903105 0.8010477  0.79187527 0.7879686  0.78898765\n",
      " 0.79544228 0.80172709 0.80818173 0.80682294 0.80444479 0.80325592\n",
      " 0.80274624 0.79934905 0.79782043 0.78949722 0.79917923 0.80189692\n",
      " 0.80682294 0.80716269 0.78253301 0.78185362 0.78593021 0.77183196\n",
      " 0.77879617 0.77964539 0.76843477 0.76181021 0.75773352 0.76028138\n",
      " 0.75790344 0.75790344 0.75722394 0.7692841  0.77098264 0.77658795\n",
      " 0.77283487 0.7741996  0.75918737 0.75696968 0.75969913 0.74519867\n",
      " 0.74519867 0.72660402 0.72933347 0.74502812 0.76839947 0.76618167\n",
      " 0.75168121 0.76379342 0.73755717 0.73625076 0.73130888 0.72460401\n",
      " 0.71725392 0.70982891 0.70261633 0.69577521 0.68940461 0.68356657\n",
      " 0.67829245 0.67358404 0.66941881 0.66575336 0.6625278  0.65967309\n",
      " 0.65711457 0.65477705 0.65258932 0.65048611 0.64841115 0.6463179\n",
      " 0.64417166 0.64194763]\n",
      "24 day output [[0.6396316]]\n",
      "25 day input [0.65310025 0.68843097 0.69607468 0.68469403 0.71187157 0.6982828\n",
      " 0.6976034  0.69947187 0.69845272 0.69845272 0.73191497 0.74261613\n",
      " 0.75195838 0.78168379 0.77879617 0.7782866  0.79408349 0.77658795\n",
      " 0.77302083 0.76435808 0.80631336 0.7886479  0.77336058 0.77183196\n",
      " 0.78694935 0.82329933 0.82482794 0.82890464 0.83994544 0.87731456\n",
      " 0.85200538 0.86015877 0.85829019 0.83145251 0.83841671 0.81939256\n",
      " 0.83467988 0.81973221 0.83722774 0.83518945 0.84707957 0.83739757\n",
      " 0.80699276 0.84011526 0.80410524 0.79561221 0.80818173 0.81005031\n",
      " 0.8231294  0.80223667 0.79629161 0.77845642 0.80291617 0.79816008\n",
      " 0.79085612 0.77930564 0.78593021 0.77454966 0.78576028 0.76945381\n",
      " 0.77047296 0.78983697 0.79510253 0.81106935 0.81293782 0.79391367\n",
      " 0.77200179 0.76011156 0.77081271 0.77047296 0.76622655 0.76333893\n",
      " 0.78593021 0.7762482  0.76164039 0.7769277  0.7872891  0.80682294\n",
      " 0.80903105 0.8010477  0.79187527 0.7879686  0.78898765 0.79544228\n",
      " 0.80172709 0.80818173 0.80682294 0.80444479 0.80325592 0.80274624\n",
      " 0.79934905 0.79782043 0.78949722 0.79917923 0.80189692 0.80682294\n",
      " 0.80716269 0.78253301 0.78185362 0.78593021 0.77183196 0.77879617\n",
      " 0.77964539 0.76843477 0.76181021 0.75773352 0.76028138 0.75790344\n",
      " 0.75790344 0.75722394 0.7692841  0.77098264 0.77658795 0.77283487\n",
      " 0.7741996  0.75918737 0.75696968 0.75969913 0.74519867 0.74519867\n",
      " 0.72660402 0.72933347 0.74502812 0.76839947 0.76618167 0.75168121\n",
      " 0.76379342 0.73755717 0.73625076 0.73130888 0.72460401 0.71725392\n",
      " 0.70982891 0.70261633 0.69577521 0.68940461 0.68356657 0.67829245\n",
      " 0.67358404 0.66941881 0.66575336 0.6625278  0.65967309 0.65711457\n",
      " 0.65477705 0.65258932 0.65048611 0.64841115 0.6463179  0.64417166\n",
      " 0.64194763 0.63963163]\n",
      "25 day output [[0.6372183]]\n",
      "26 day input [0.68843097 0.69607468 0.68469403 0.71187157 0.6982828  0.6976034\n",
      " 0.69947187 0.69845272 0.69845272 0.73191497 0.74261613 0.75195838\n",
      " 0.78168379 0.77879617 0.7782866  0.79408349 0.77658795 0.77302083\n",
      " 0.76435808 0.80631336 0.7886479  0.77336058 0.77183196 0.78694935\n",
      " 0.82329933 0.82482794 0.82890464 0.83994544 0.87731456 0.85200538\n",
      " 0.86015877 0.85829019 0.83145251 0.83841671 0.81939256 0.83467988\n",
      " 0.81973221 0.83722774 0.83518945 0.84707957 0.83739757 0.80699276\n",
      " 0.84011526 0.80410524 0.79561221 0.80818173 0.81005031 0.8231294\n",
      " 0.80223667 0.79629161 0.77845642 0.80291617 0.79816008 0.79085612\n",
      " 0.77930564 0.78593021 0.77454966 0.78576028 0.76945381 0.77047296\n",
      " 0.78983697 0.79510253 0.81106935 0.81293782 0.79391367 0.77200179\n",
      " 0.76011156 0.77081271 0.77047296 0.76622655 0.76333893 0.78593021\n",
      " 0.7762482  0.76164039 0.7769277  0.7872891  0.80682294 0.80903105\n",
      " 0.8010477  0.79187527 0.7879686  0.78898765 0.79544228 0.80172709\n",
      " 0.80818173 0.80682294 0.80444479 0.80325592 0.80274624 0.79934905\n",
      " 0.79782043 0.78949722 0.79917923 0.80189692 0.80682294 0.80716269\n",
      " 0.78253301 0.78185362 0.78593021 0.77183196 0.77879617 0.77964539\n",
      " 0.76843477 0.76181021 0.75773352 0.76028138 0.75790344 0.75790344\n",
      " 0.75722394 0.7692841  0.77098264 0.77658795 0.77283487 0.7741996\n",
      " 0.75918737 0.75696968 0.75969913 0.74519867 0.74519867 0.72660402\n",
      " 0.72933347 0.74502812 0.76839947 0.76618167 0.75168121 0.76379342\n",
      " 0.73755717 0.73625076 0.73130888 0.72460401 0.71725392 0.70982891\n",
      " 0.70261633 0.69577521 0.68940461 0.68356657 0.67829245 0.67358404\n",
      " 0.66941881 0.66575336 0.6625278  0.65967309 0.65711457 0.65477705\n",
      " 0.65258932 0.65048611 0.64841115 0.6463179  0.64417166 0.64194763\n",
      " 0.63963163 0.6372183 ]\n",
      "26 day output [[0.6347111]]\n",
      "27 day input [0.69607468 0.68469403 0.71187157 0.6982828  0.6976034  0.69947187\n",
      " 0.69845272 0.69845272 0.73191497 0.74261613 0.75195838 0.78168379\n",
      " 0.77879617 0.7782866  0.79408349 0.77658795 0.77302083 0.76435808\n",
      " 0.80631336 0.7886479  0.77336058 0.77183196 0.78694935 0.82329933\n",
      " 0.82482794 0.82890464 0.83994544 0.87731456 0.85200538 0.86015877\n",
      " 0.85829019 0.83145251 0.83841671 0.81939256 0.83467988 0.81973221\n",
      " 0.83722774 0.83518945 0.84707957 0.83739757 0.80699276 0.84011526\n",
      " 0.80410524 0.79561221 0.80818173 0.81005031 0.8231294  0.80223667\n",
      " 0.79629161 0.77845642 0.80291617 0.79816008 0.79085612 0.77930564\n",
      " 0.78593021 0.77454966 0.78576028 0.76945381 0.77047296 0.78983697\n",
      " 0.79510253 0.81106935 0.81293782 0.79391367 0.77200179 0.76011156\n",
      " 0.77081271 0.77047296 0.76622655 0.76333893 0.78593021 0.7762482\n",
      " 0.76164039 0.7769277  0.7872891  0.80682294 0.80903105 0.8010477\n",
      " 0.79187527 0.7879686  0.78898765 0.79544228 0.80172709 0.80818173\n",
      " 0.80682294 0.80444479 0.80325592 0.80274624 0.79934905 0.79782043\n",
      " 0.78949722 0.79917923 0.80189692 0.80682294 0.80716269 0.78253301\n",
      " 0.78185362 0.78593021 0.77183196 0.77879617 0.77964539 0.76843477\n",
      " 0.76181021 0.75773352 0.76028138 0.75790344 0.75790344 0.75722394\n",
      " 0.7692841  0.77098264 0.77658795 0.77283487 0.7741996  0.75918737\n",
      " 0.75696968 0.75969913 0.74519867 0.74519867 0.72660402 0.72933347\n",
      " 0.74502812 0.76839947 0.76618167 0.75168121 0.76379342 0.73755717\n",
      " 0.73625076 0.73130888 0.72460401 0.71725392 0.70982891 0.70261633\n",
      " 0.69577521 0.68940461 0.68356657 0.67829245 0.67358404 0.66941881\n",
      " 0.66575336 0.6625278  0.65967309 0.65711457 0.65477705 0.65258932\n",
      " 0.65048611 0.64841115 0.6463179  0.64417166 0.64194763 0.63963163\n",
      " 0.6372183  0.63471109]\n",
      "27 day output [[0.6321193]]\n",
      "28 day input [0.68469403 0.71187157 0.6982828  0.6976034  0.69947187 0.69845272\n",
      " 0.69845272 0.73191497 0.74261613 0.75195838 0.78168379 0.77879617\n",
      " 0.7782866  0.79408349 0.77658795 0.77302083 0.76435808 0.80631336\n",
      " 0.7886479  0.77336058 0.77183196 0.78694935 0.82329933 0.82482794\n",
      " 0.82890464 0.83994544 0.87731456 0.85200538 0.86015877 0.85829019\n",
      " 0.83145251 0.83841671 0.81939256 0.83467988 0.81973221 0.83722774\n",
      " 0.83518945 0.84707957 0.83739757 0.80699276 0.84011526 0.80410524\n",
      " 0.79561221 0.80818173 0.81005031 0.8231294  0.80223667 0.79629161\n",
      " 0.77845642 0.80291617 0.79816008 0.79085612 0.77930564 0.78593021\n",
      " 0.77454966 0.78576028 0.76945381 0.77047296 0.78983697 0.79510253\n",
      " 0.81106935 0.81293782 0.79391367 0.77200179 0.76011156 0.77081271\n",
      " 0.77047296 0.76622655 0.76333893 0.78593021 0.7762482  0.76164039\n",
      " 0.7769277  0.7872891  0.80682294 0.80903105 0.8010477  0.79187527\n",
      " 0.7879686  0.78898765 0.79544228 0.80172709 0.80818173 0.80682294\n",
      " 0.80444479 0.80325592 0.80274624 0.79934905 0.79782043 0.78949722\n",
      " 0.79917923 0.80189692 0.80682294 0.80716269 0.78253301 0.78185362\n",
      " 0.78593021 0.77183196 0.77879617 0.77964539 0.76843477 0.76181021\n",
      " 0.75773352 0.76028138 0.75790344 0.75790344 0.75722394 0.7692841\n",
      " 0.77098264 0.77658795 0.77283487 0.7741996  0.75918737 0.75696968\n",
      " 0.75969913 0.74519867 0.74519867 0.72660402 0.72933347 0.74502812\n",
      " 0.76839947 0.76618167 0.75168121 0.76379342 0.73755717 0.73625076\n",
      " 0.73130888 0.72460401 0.71725392 0.70982891 0.70261633 0.69577521\n",
      " 0.68940461 0.68356657 0.67829245 0.67358404 0.66941881 0.66575336\n",
      " 0.6625278  0.65967309 0.65711457 0.65477705 0.65258932 0.65048611\n",
      " 0.64841115 0.6463179  0.64417166 0.64194763 0.63963163 0.6372183\n",
      " 0.63471109 0.6321193 ]\n",
      "28 day output [[0.6294571]]\n",
      "29 day input [0.71187157 0.6982828  0.6976034  0.69947187 0.69845272 0.69845272\n",
      " 0.73191497 0.74261613 0.75195838 0.78168379 0.77879617 0.7782866\n",
      " 0.79408349 0.77658795 0.77302083 0.76435808 0.80631336 0.7886479\n",
      " 0.77336058 0.77183196 0.78694935 0.82329933 0.82482794 0.82890464\n",
      " 0.83994544 0.87731456 0.85200538 0.86015877 0.85829019 0.83145251\n",
      " 0.83841671 0.81939256 0.83467988 0.81973221 0.83722774 0.83518945\n",
      " 0.84707957 0.83739757 0.80699276 0.84011526 0.80410524 0.79561221\n",
      " 0.80818173 0.81005031 0.8231294  0.80223667 0.79629161 0.77845642\n",
      " 0.80291617 0.79816008 0.79085612 0.77930564 0.78593021 0.77454966\n",
      " 0.78576028 0.76945381 0.77047296 0.78983697 0.79510253 0.81106935\n",
      " 0.81293782 0.79391367 0.77200179 0.76011156 0.77081271 0.77047296\n",
      " 0.76622655 0.76333893 0.78593021 0.7762482  0.76164039 0.7769277\n",
      " 0.7872891  0.80682294 0.80903105 0.8010477  0.79187527 0.7879686\n",
      " 0.78898765 0.79544228 0.80172709 0.80818173 0.80682294 0.80444479\n",
      " 0.80325592 0.80274624 0.79934905 0.79782043 0.78949722 0.79917923\n",
      " 0.80189692 0.80682294 0.80716269 0.78253301 0.78185362 0.78593021\n",
      " 0.77183196 0.77879617 0.77964539 0.76843477 0.76181021 0.75773352\n",
      " 0.76028138 0.75790344 0.75790344 0.75722394 0.7692841  0.77098264\n",
      " 0.77658795 0.77283487 0.7741996  0.75918737 0.75696968 0.75969913\n",
      " 0.74519867 0.74519867 0.72660402 0.72933347 0.74502812 0.76839947\n",
      " 0.76618167 0.75168121 0.76379342 0.73755717 0.73625076 0.73130888\n",
      " 0.72460401 0.71725392 0.70982891 0.70261633 0.69577521 0.68940461\n",
      " 0.68356657 0.67829245 0.67358404 0.66941881 0.66575336 0.6625278\n",
      " 0.65967309 0.65711457 0.65477705 0.65258932 0.65048611 0.64841115\n",
      " 0.6463179  0.64417166 0.64194763 0.63963163 0.6372183  0.63471109\n",
      " 0.6321193  0.62945712]\n",
      "29 day output [[0.62674236]]\n",
      "[[0.7375571727752686], [0.7362507581710815], [0.7313088774681091], [0.7246040105819702], [0.7172539234161377], [0.7098289132118225], [0.7026163339614868], [0.6957752108573914], [0.6894046068191528], [0.6835665702819824], [0.678292453289032], [0.6735840439796448], [0.6694188117980957], [0.6657533645629883], [0.6625277996063232], [0.6596730947494507], [0.657114565372467], [0.6547770500183105], [0.6525893211364746], [0.6504861116409302], [0.6484111547470093], [0.6463178992271423], [0.6441716551780701], [0.6419476270675659], [0.6396316289901733], [0.6372182965278625], [0.6347110867500305], [0.6321192979812622], [0.6294571161270142], [0.6267423629760742]]\n"
     ]
    }
   ],
   "source": [
    "# demonstrate prediction for next 10 days\n",
    "from numpy import array\n",
    "\n",
    "lst_output=[]\n",
    "n_steps=152\n",
    "i=0\n",
    "while(i<30):\n",
    "\n",
    "    if(len(temp_input)>100):\n",
    "        #print(temp_input)\n",
    "        x_input=np.array(temp_input[1:])\n",
    "        print(\"{} day input {}\".format(i,x_input))\n",
    "        x_input=x_input.reshape(1,-1)\n",
    "        x_input = x_input.reshape((1, n_steps, 1))\n",
    "        #print(x_input)\n",
    "        yhat = model.predict(x_input, verbose=0)\n",
    "        print(\"{} day output {}\".format(i,yhat))\n",
    "        temp_input.extend(yhat[0].tolist())\n",
    "        temp_input=temp_input[1:]\n",
    "        #print(temp_input)\n",
    "        lst_output.extend(yhat.tolist())\n",
    "        i=i+1\n",
    "    else:\n",
    "        x_input = x_input.reshape((1, n_steps,1))\n",
    "        yhat = model.predict(x_input, verbose=0)\n",
    "        print(yhat[0])\n",
    "        temp_input.extend(yhat[0].tolist())\n",
    "        print(len(temp_input))\n",
    "        lst_output.extend(yhat.tolist())\n",
    "        i=i+1\n",
    "\n",
    "\n",
    "print(lst_output)"
   ]
  },
  {
   "cell_type": "code",
   "execution_count": 52,
   "metadata": {
    "executionInfo": {
     "elapsed": 14,
     "status": "ok",
     "timestamp": 1757155442177,
     "user": {
      "displayName": "kanishka",
      "userId": "06446069687320020031"
     },
     "user_tz": -330
    },
    "id": "V-EeehSHmTGG"
   },
   "outputs": [],
   "source": [
    "day_new=np.arange(1,101)\n",
    "day_pred=np.arange(101,131)"
   ]
  },
  {
   "cell_type": "code",
   "execution_count": 53,
   "metadata": {
    "executionInfo": {
     "elapsed": 3,
     "status": "ok",
     "timestamp": 1757155443510,
     "user": {
      "displayName": "kanishka",
      "userId": "06446069687320020031"
     },
     "user_tz": -330
    },
    "id": "0iWgQjIzmTGG"
   },
   "outputs": [],
   "source": [
    "import matplotlib.pyplot as plt"
   ]
  },
  {
   "cell_type": "code",
   "execution_count": 54,
   "metadata": {
    "colab": {
     "base_uri": "https://localhost:8080/"
    },
    "executionInfo": {
     "elapsed": 13,
     "status": "ok",
     "timestamp": 1757155444415,
     "user": {
      "displayName": "kanishka",
      "userId": "06446069687320020031"
     },
     "user_tz": -330
    },
    "id": "tMw29utFmTGG",
    "outputId": "62f4faeb-22a2-4b7a-cb99-4cb39390e30f"
   },
   "outputs": [
    {
     "data": {
      "text/plain": [
       "1409"
      ]
     },
     "execution_count": 54,
     "metadata": {},
     "output_type": "execute_result"
    }
   ],
   "source": [
    "len(df1)"
   ]
  },
  {
   "cell_type": "code",
   "execution_count": 55,
   "metadata": {
    "colab": {
     "base_uri": "https://localhost:8080/",
     "height": 450
    },
    "executionInfo": {
     "elapsed": 138,
     "status": "ok",
     "timestamp": 1757155511476,
     "user": {
      "displayName": "kanishka",
      "userId": "06446069687320020031"
     },
     "user_tz": -330
    },
    "id": "L3tpvkRfmTGG",
    "outputId": "70f69231-1daa-43b8-aa7d-64ada159c342"
   },
   "outputs": [
    {
     "data": {
      "text/plain": [
       "[<matplotlib.lines.Line2D at 0x1e448b0ce10>]"
      ]
     },
     "execution_count": 55,
     "metadata": {},
     "output_type": "execute_result"
    },
    {
     "data": {
      "image/png": "[encoded data removed]",
      "text/plain": [
       "<Figure size 640x480 with 1 Axes>"
      ]
     },
     "metadata": {},
     "output_type": "display_data"
    }
   ],
   "source": [
    "# Make sure lengths match\n",
    "plt.plot(day_new, scaler.inverse_transform(df1[1158:1158+len(day_new)]))\n",
    "plt.plot(day_pred, scaler.inverse_transform(lst_output))\n"
   ]
  },
  {
   "cell_type": "code",
   "execution_count": 56,
   "metadata": {
    "colab": {
     "base_uri": "https://localhost:8080/",
     "height": 447
    },
    "executionInfo": {
     "elapsed": 139,
     "status": "ok",
     "timestamp": 1757155522007,
     "user": {
      "displayName": "kanishka",
      "userId": "06446069687320020031"
     },
     "user_tz": -330
    },
    "id": "1ZSM9F5EmTGG",
    "outputId": "9cf0ea21-2270-4527-dfed-f2a823cd5116"
   },
   "outputs": [
    {
     "data": {
      "text/plain": [
       "[<matplotlib.lines.Line2D at 0x1e448954e10>]"
      ]
     },
     "execution_count": 56,
     "metadata": {},
     "output_type": "execute_result"
    },
    {
     "data": {
      "image/png": "[encoded data removed]",
      "text/plain": [
       "<Figure size 640x480 with 1 Axes>"
      ]
     },
     "metadata": {},
     "output_type": "display_data"
    }
   ],
   "source": [
    "df3=df1.tolist()\n",
    "df3.extend(lst_output)\n",
    "plt.plot(df3[1200:])"
   ]
  },
  {
   "cell_type": "code",
   "execution_count": 57,
   "metadata": {
    "executionInfo": {
     "elapsed": 3,
     "status": "ok",
     "timestamp": 1757155529744,
     "user": {
      "displayName": "kanishka",
      "userId": "06446069687320020031"
     },
     "user_tz": -330
    },
    "id": "6k5uTM36mTGG"
   },
   "outputs": [],
   "source": [
    "df3=scaler.inverse_transform(df3).tolist()"
   ]
  },
  {
   "cell_type": "code",
   "execution_count": 58,
   "metadata": {
    "colab": {
     "base_uri": "https://localhost:8080/",
     "height": 447
    },
    "executionInfo": {
     "elapsed": 150,
     "status": "ok",
     "timestamp": 1757155530821,
     "user": {
      "displayName": "kanishka",
      "userId": "06446069687320020031"
     },
     "user_tz": -330
    },
    "id": "d6o-jCASmTGH",
    "outputId": "785a9c33-e833-4c96-e97c-9de4be14b49b"
   },
   "outputs": [
    {
     "data": {
      "text/plain": [
       "[<matplotlib.lines.Line2D at 0x1e453e51810>]"
      ]
     },
     "execution_count": 58,
     "metadata": {},
     "output_type": "execute_result"
    },
    {
     "data": {
      "image/png": "[encoded data removed]",
      "text/plain": [
       "<Figure size 640x480 with 1 Axes>"
      ]
     },
     "metadata": {},
     "output_type": "display_data"
    }
   ],
   "source": [
    "plt.plot(df3)"
   ]
  },
  {
   "cell_type": "code",
   "execution_count": 59,
   "metadata": {
    "id": "Xh1Wwl25mTGH"
   },
   "outputs": [
    {
     "name": "stderr",
     "output_type": "stream",
     "text": [
      "WARNING:absl:You are saving your model as an HDF5 file via `model.save()` or `keras.saving.save_model(model)`. This file format is considered legacy. We recommend using instead the native Keras format, e.g. `model.save('my_model.keras')` or `keras.saving.save_model(model, 'my_model.keras')`. \n"
     ]
    }
   ],
   "source": [
    "model.save('stock_dl_model.h5')"
   ]
  },
  {
   "cell_type": "code",
   "execution_count": null,
   "metadata": {},
   "outputs": [],
   "source": []
  }
 ],
 "metadata": {
  "accelerator": "GPU",
  "colab": {
   "gpuType": "T4",
   "provenance": []
  },
  "kernelspec": {
   "display_name": "venv13 (3.13.1)",
   "language": "python",
   "name": "python3"
  },
  "language_info": {
   "codemirror_mode": {
    "name": "ipython",
    "version": 3
   },
   "file_extension": ".py",
   "mimetype": "text/x-python",
   "name": "python",
   "nbconvert_exporter": "python",
   "pygments_lexer": "ipython3",
   "version": "3.13.1"
  }
 },
 "nbformat": 4,
 "nbformat_minor": 0
}
